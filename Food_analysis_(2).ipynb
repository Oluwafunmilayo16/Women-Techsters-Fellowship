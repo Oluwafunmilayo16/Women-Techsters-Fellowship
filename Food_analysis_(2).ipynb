{
  "cells": [
    {
      "cell_type": "markdown",
      "id": "4b476a39",
      "metadata": {
        "id": "4b476a39"
      },
      "source": [
        "# Amazon Business Research Analyst Dataset\n",
        "\n",
        "Objectives\n",
        "1.\tWhat food customers like the most\n",
        "2.\tDoes weather influence what people eat\n",
        "3.\tWhat is the preferred mode of transportation used by the restaurant \n",
        "4.\tWhat time do people pick their orders most?\n",
        "5.\tWhich days are the busiest in the restaurant [which days do customers visit the restaurant the most]\n",
        "\n",
        "\n",
        "Machine learning scenario:\n",
        "\n",
        "Mrs Ndidi ordered meals at the amazon restaurant on Thursday morning. Predict how long before she received her order if the delivery man used motorcycle bearing in mind that the customer  stays 9.760928 km away from the restaurant?\n",
        "\n",
        "\n"
      ]
    },
    {
      "cell_type": "code",
      "execution_count": 111,
      "id": "20d18682",
      "metadata": {
        "id": "20d18682"
      },
      "outputs": [],
      "source": [
        "import pandas as pd\n",
        "import numpy as np\n",
        "import matplotlib.pyplot as plt"
      ]
    },
    {
      "cell_type": "code",
      "execution_count": 112,
      "id": "9f9572d6",
      "metadata": {
        "colab": {
          "base_uri": "https://localhost:8080/",
          "height": 270
        },
        "id": "9f9572d6",
        "outputId": "803411e4-d357-417b-c579-040907a4df50"
      },
      "outputs": [
        {
          "output_type": "execute_result",
          "data": {
            "text/plain": [
              "       ID Delivery_person_ID  Delivery_person_Age  Delivery_person_Ratings  \\\n",
              "0  0x2318    COIMBRES13DEL01                  NaN                      NaN   \n",
              "1  0x3474     BANGRES15DEL01                 28.0                      4.6   \n",
              "2  0x9420      JAPRES09DEL03                 23.0                      4.5   \n",
              "3  0x72ee      JAPRES07DEL03                 21.0                      4.8   \n",
              "4  0xa759     CHENRES19DEL01                 31.0                      4.6   \n",
              "\n",
              "   Restaurant_latitude  Restaurant_longitude  Delivery_location_latitude  \\\n",
              "0            11.003669             76.976494                   11.043669   \n",
              "1            12.975377             77.696664                   13.085377   \n",
              "2            26.911378             75.789034                   27.001378   \n",
              "3            26.766536             75.837333                   26.856536   \n",
              "4            12.986047             80.218114                   13.096047   \n",
              "\n",
              "   Delivery_location_longitude  Order_Date Time_Orderd Time_Order_picked  \\\n",
              "0                    77.016494  30-03-2022         NaN             15:05   \n",
              "1                    77.806664  29-03-2022       20:30             20:35   \n",
              "2                    75.879034  10-03-2022       19:35             19:45   \n",
              "3                    75.927333  02-04-2022       17:15             17:20   \n",
              "4                    80.328114  27-03-2022       18:25             18:40   \n",
              "\n",
              "  Weather Road_traffic_density  Vehicle_condition Type_of_order  \\\n",
              "0     NaN                  NaN                  3        Drinks   \n",
              "1   Windy                  Jam                  0         Snack   \n",
              "2  Stormy                  Jam                  0        Drinks   \n",
              "3     Fog               Medium                  1          Meal   \n",
              "4   Sunny               Medium                  2        Drinks   \n",
              "\n",
              "    Type_of_vehicle  multiple_deliveries Festival           City   Name:  \n",
              "0  electric_scooter                  1.0       No  Metropolitian  object  \n",
              "1        motorcycle                  1.0       No  Metropolitian  object  \n",
              "2        motorcycle                  1.0       No  Metropolitian  object  \n",
              "3           scooter                  1.0       No  Metropolitian  object  \n",
              "4           scooter                  1.0       No  Metropolitian  object  "
            ],
            "text/html": [
              "\n",
              "  <div id=\"df-e8b434f1-0ed7-4fab-8880-beebae7855e3\">\n",
              "    <div class=\"colab-df-container\">\n",
              "      <div>\n",
              "<style scoped>\n",
              "    .dataframe tbody tr th:only-of-type {\n",
              "        vertical-align: middle;\n",
              "    }\n",
              "\n",
              "    .dataframe tbody tr th {\n",
              "        vertical-align: top;\n",
              "    }\n",
              "\n",
              "    .dataframe thead th {\n",
              "        text-align: right;\n",
              "    }\n",
              "</style>\n",
              "<table border=\"1\" class=\"dataframe\">\n",
              "  <thead>\n",
              "    <tr style=\"text-align: right;\">\n",
              "      <th></th>\n",
              "      <th>ID</th>\n",
              "      <th>Delivery_person_ID</th>\n",
              "      <th>Delivery_person_Age</th>\n",
              "      <th>Delivery_person_Ratings</th>\n",
              "      <th>Restaurant_latitude</th>\n",
              "      <th>Restaurant_longitude</th>\n",
              "      <th>Delivery_location_latitude</th>\n",
              "      <th>Delivery_location_longitude</th>\n",
              "      <th>Order_Date</th>\n",
              "      <th>Time_Orderd</th>\n",
              "      <th>Time_Order_picked</th>\n",
              "      <th>Weather</th>\n",
              "      <th>Road_traffic_density</th>\n",
              "      <th>Vehicle_condition</th>\n",
              "      <th>Type_of_order</th>\n",
              "      <th>Type_of_vehicle</th>\n",
              "      <th>multiple_deliveries</th>\n",
              "      <th>Festival</th>\n",
              "      <th>City</th>\n",
              "      <th>Name:</th>\n",
              "    </tr>\n",
              "  </thead>\n",
              "  <tbody>\n",
              "    <tr>\n",
              "      <th>0</th>\n",
              "      <td>0x2318</td>\n",
              "      <td>COIMBRES13DEL01</td>\n",
              "      <td>NaN</td>\n",
              "      <td>NaN</td>\n",
              "      <td>11.003669</td>\n",
              "      <td>76.976494</td>\n",
              "      <td>11.043669</td>\n",
              "      <td>77.016494</td>\n",
              "      <td>30-03-2022</td>\n",
              "      <td>NaN</td>\n",
              "      <td>15:05</td>\n",
              "      <td>NaN</td>\n",
              "      <td>NaN</td>\n",
              "      <td>3</td>\n",
              "      <td>Drinks</td>\n",
              "      <td>electric_scooter</td>\n",
              "      <td>1.0</td>\n",
              "      <td>No</td>\n",
              "      <td>Metropolitian</td>\n",
              "      <td>object</td>\n",
              "    </tr>\n",
              "    <tr>\n",
              "      <th>1</th>\n",
              "      <td>0x3474</td>\n",
              "      <td>BANGRES15DEL01</td>\n",
              "      <td>28.0</td>\n",
              "      <td>4.6</td>\n",
              "      <td>12.975377</td>\n",
              "      <td>77.696664</td>\n",
              "      <td>13.085377</td>\n",
              "      <td>77.806664</td>\n",
              "      <td>29-03-2022</td>\n",
              "      <td>20:30</td>\n",
              "      <td>20:35</td>\n",
              "      <td>Windy</td>\n",
              "      <td>Jam</td>\n",
              "      <td>0</td>\n",
              "      <td>Snack</td>\n",
              "      <td>motorcycle</td>\n",
              "      <td>1.0</td>\n",
              "      <td>No</td>\n",
              "      <td>Metropolitian</td>\n",
              "      <td>object</td>\n",
              "    </tr>\n",
              "    <tr>\n",
              "      <th>2</th>\n",
              "      <td>0x9420</td>\n",
              "      <td>JAPRES09DEL03</td>\n",
              "      <td>23.0</td>\n",
              "      <td>4.5</td>\n",
              "      <td>26.911378</td>\n",
              "      <td>75.789034</td>\n",
              "      <td>27.001378</td>\n",
              "      <td>75.879034</td>\n",
              "      <td>10-03-2022</td>\n",
              "      <td>19:35</td>\n",
              "      <td>19:45</td>\n",
              "      <td>Stormy</td>\n",
              "      <td>Jam</td>\n",
              "      <td>0</td>\n",
              "      <td>Drinks</td>\n",
              "      <td>motorcycle</td>\n",
              "      <td>1.0</td>\n",
              "      <td>No</td>\n",
              "      <td>Metropolitian</td>\n",
              "      <td>object</td>\n",
              "    </tr>\n",
              "    <tr>\n",
              "      <th>3</th>\n",
              "      <td>0x72ee</td>\n",
              "      <td>JAPRES07DEL03</td>\n",
              "      <td>21.0</td>\n",
              "      <td>4.8</td>\n",
              "      <td>26.766536</td>\n",
              "      <td>75.837333</td>\n",
              "      <td>26.856536</td>\n",
              "      <td>75.927333</td>\n",
              "      <td>02-04-2022</td>\n",
              "      <td>17:15</td>\n",
              "      <td>17:20</td>\n",
              "      <td>Fog</td>\n",
              "      <td>Medium</td>\n",
              "      <td>1</td>\n",
              "      <td>Meal</td>\n",
              "      <td>scooter</td>\n",
              "      <td>1.0</td>\n",
              "      <td>No</td>\n",
              "      <td>Metropolitian</td>\n",
              "      <td>object</td>\n",
              "    </tr>\n",
              "    <tr>\n",
              "      <th>4</th>\n",
              "      <td>0xa759</td>\n",
              "      <td>CHENRES19DEL01</td>\n",
              "      <td>31.0</td>\n",
              "      <td>4.6</td>\n",
              "      <td>12.986047</td>\n",
              "      <td>80.218114</td>\n",
              "      <td>13.096047</td>\n",
              "      <td>80.328114</td>\n",
              "      <td>27-03-2022</td>\n",
              "      <td>18:25</td>\n",
              "      <td>18:40</td>\n",
              "      <td>Sunny</td>\n",
              "      <td>Medium</td>\n",
              "      <td>2</td>\n",
              "      <td>Drinks</td>\n",
              "      <td>scooter</td>\n",
              "      <td>1.0</td>\n",
              "      <td>No</td>\n",
              "      <td>Metropolitian</td>\n",
              "      <td>object</td>\n",
              "    </tr>\n",
              "  </tbody>\n",
              "</table>\n",
              "</div>\n",
              "      <button class=\"colab-df-convert\" onclick=\"convertToInteractive('df-e8b434f1-0ed7-4fab-8880-beebae7855e3')\"\n",
              "              title=\"Convert this dataframe to an interactive table.\"\n",
              "              style=\"display:none;\">\n",
              "        \n",
              "  <svg xmlns=\"http://www.w3.org/2000/svg\" height=\"24px\"viewBox=\"0 0 24 24\"\n",
              "       width=\"24px\">\n",
              "    <path d=\"M0 0h24v24H0V0z\" fill=\"none\"/>\n",
              "    <path d=\"M18.56 5.44l.94 2.06.94-2.06 2.06-.94-2.06-.94-.94-2.06-.94 2.06-2.06.94zm-11 1L8.5 8.5l.94-2.06 2.06-.94-2.06-.94L8.5 2.5l-.94 2.06-2.06.94zm10 10l.94 2.06.94-2.06 2.06-.94-2.06-.94-.94-2.06-.94 2.06-2.06.94z\"/><path d=\"M17.41 7.96l-1.37-1.37c-.4-.4-.92-.59-1.43-.59-.52 0-1.04.2-1.43.59L10.3 9.45l-7.72 7.72c-.78.78-.78 2.05 0 2.83L4 21.41c.39.39.9.59 1.41.59.51 0 1.02-.2 1.41-.59l7.78-7.78 2.81-2.81c.8-.78.8-2.07 0-2.86zM5.41 20L4 18.59l7.72-7.72 1.47 1.35L5.41 20z\"/>\n",
              "  </svg>\n",
              "      </button>\n",
              "      \n",
              "  <style>\n",
              "    .colab-df-container {\n",
              "      display:flex;\n",
              "      flex-wrap:wrap;\n",
              "      gap: 12px;\n",
              "    }\n",
              "\n",
              "    .colab-df-convert {\n",
              "      background-color: #E8F0FE;\n",
              "      border: none;\n",
              "      border-radius: 50%;\n",
              "      cursor: pointer;\n",
              "      display: none;\n",
              "      fill: #1967D2;\n",
              "      height: 32px;\n",
              "      padding: 0 0 0 0;\n",
              "      width: 32px;\n",
              "    }\n",
              "\n",
              "    .colab-df-convert:hover {\n",
              "      background-color: #E2EBFA;\n",
              "      box-shadow: 0px 1px 2px rgba(60, 64, 67, 0.3), 0px 1px 3px 1px rgba(60, 64, 67, 0.15);\n",
              "      fill: #174EA6;\n",
              "    }\n",
              "\n",
              "    [theme=dark] .colab-df-convert {\n",
              "      background-color: #3B4455;\n",
              "      fill: #D2E3FC;\n",
              "    }\n",
              "\n",
              "    [theme=dark] .colab-df-convert:hover {\n",
              "      background-color: #434B5C;\n",
              "      box-shadow: 0px 1px 3px 1px rgba(0, 0, 0, 0.15);\n",
              "      filter: drop-shadow(0px 1px 2px rgba(0, 0, 0, 0.3));\n",
              "      fill: #FFFFFF;\n",
              "    }\n",
              "  </style>\n",
              "\n",
              "      <script>\n",
              "        const buttonEl =\n",
              "          document.querySelector('#df-e8b434f1-0ed7-4fab-8880-beebae7855e3 button.colab-df-convert');\n",
              "        buttonEl.style.display =\n",
              "          google.colab.kernel.accessAllowed ? 'block' : 'none';\n",
              "\n",
              "        async function convertToInteractive(key) {\n",
              "          const element = document.querySelector('#df-e8b434f1-0ed7-4fab-8880-beebae7855e3');\n",
              "          const dataTable =\n",
              "            await google.colab.kernel.invokeFunction('convertToInteractive',\n",
              "                                                     [key], {});\n",
              "          if (!dataTable) return;\n",
              "\n",
              "          const docLinkHtml = 'Like what you see? Visit the ' +\n",
              "            '<a target=\"_blank\" href=https://colab.research.google.com/notebooks/data_table.ipynb>data table notebook</a>'\n",
              "            + ' to learn more about interactive tables.';\n",
              "          element.innerHTML = '';\n",
              "          dataTable['output_type'] = 'display_data';\n",
              "          await google.colab.output.renderOutput(dataTable, element);\n",
              "          const docLink = document.createElement('div');\n",
              "          docLink.innerHTML = docLinkHtml;\n",
              "          element.appendChild(docLink);\n",
              "        }\n",
              "      </script>\n",
              "    </div>\n",
              "  </div>\n",
              "  "
            ]
          },
          "metadata": {},
          "execution_count": 112
        }
      ],
      "source": [
        "food=pd.read_csv('cleaned_test.csv')\n",
        "food.head()"
      ]
    },
    {
      "cell_type": "markdown",
      "id": "72eadb35",
      "metadata": {
        "id": "72eadb35"
      },
      "source": [
        "converting the Order_Date to category datatype"
      ]
    },
    {
      "cell_type": "code",
      "execution_count": 113,
      "id": "331316b7",
      "metadata": {
        "id": "331316b7"
      },
      "outputs": [],
      "source": [
        "food['Order_Date']=pd.to_datetime(food['Order_Date'])\n",
        "food['Days']=food['Order_Date'].dt.strftime('%A')\n",
        "food['Days']=food['Days'].astype('category')"
      ]
    },
    {
      "cell_type": "markdown",
      "id": "d12ca0bd",
      "metadata": {
        "id": "d12ca0bd"
      },
      "source": [
        "Dropping off that 'Order_Date columns'because it has been converted to days"
      ]
    },
    {
      "cell_type": "code",
      "execution_count": 114,
      "id": "17828a8e",
      "metadata": {
        "colab": {
          "base_uri": "https://localhost:8080/",
          "height": 488
        },
        "id": "17828a8e",
        "outputId": "7704a06c-456f-4f81-d82c-d8b450a7e612"
      },
      "outputs": [
        {
          "output_type": "execute_result",
          "data": {
            "text/plain": [
              "           ID Delivery_person_ID  Delivery_person_Age  \\\n",
              "0      0x2318    COIMBRES13DEL01                  NaN   \n",
              "1      0x3474     BANGRES15DEL01                 28.0   \n",
              "2      0x9420      JAPRES09DEL03                 23.0   \n",
              "3      0x72ee      JAPRES07DEL03                 21.0   \n",
              "4      0xa759     CHENRES19DEL01                 31.0   \n",
              "...       ...                ...                  ...   \n",
              "11394  0x6909      JAPRES01DEL01                 35.0   \n",
              "11395  0x443b      JAPRES11DEL01                 33.0   \n",
              "11396  0x1ea5      SURRES11DEL03                  NaN   \n",
              "11397  0x22d4      VADRES03DEL02                 27.0   \n",
              "11398  0xb7be     CHENRES07DEL02                 39.0   \n",
              "\n",
              "       Delivery_person_Ratings  Restaurant_latitude  Restaurant_longitude  \\\n",
              "0                          NaN            11.003669             76.976494   \n",
              "1                          4.6            12.975377             77.696664   \n",
              "2                          4.5            26.911378             75.789034   \n",
              "3                          4.8            26.766536             75.837333   \n",
              "4                          4.6            12.986047             80.218114   \n",
              "...                        ...                  ...                   ...   \n",
              "11394                      4.6            26.905190             75.810753   \n",
              "11395                      4.9            26.902940             75.793007   \n",
              "11396                      NaN            21.157735             72.768778   \n",
              "11397                      4.7            22.320000             73.170000   \n",
              "11398                      5.0            13.081878             80.248519   \n",
              "\n",
              "       Delivery_location_latitude  Delivery_location_longitude Time_Orderd  \\\n",
              "0                       11.043669                    77.016494         NaN   \n",
              "1                       13.085377                    77.806664       20:30   \n",
              "2                       27.001378                    75.879034       19:35   \n",
              "3                       26.856536                    75.927333       17:15   \n",
              "4                       13.096047                    80.328114       18:25   \n",
              "...                           ...                          ...         ...   \n",
              "11394                   27.015190                    75.920753       21:35   \n",
              "11395                   26.912940                    75.803007       11:40   \n",
              "11396                   21.217735                    72.828778         NaN   \n",
              "11397                   22.450000                    73.300000       18:35   \n",
              "11398                   13.131878                    80.298519       22:20   \n",
              "\n",
              "      Time_Order_picked     Weather Road_traffic_density  Vehicle_condition  \\\n",
              "0                 15:05         NaN                  NaN                  3   \n",
              "1                 20:35       Windy                  Jam                  0   \n",
              "2                 19:45      Stormy                  Jam                  0   \n",
              "3                 17:20         Fog               Medium                  1   \n",
              "4                 18:40       Sunny               Medium                  2   \n",
              "...                 ...         ...                  ...                ...   \n",
              "11394             21:45       Sunny                  Jam                  1   \n",
              "11395             11:45  Sandstorms                 High                  1   \n",
              "11396             21:05         NaN                  NaN                  3   \n",
              "11397             18:40  Sandstorms               Medium                  0   \n",
              "11398             22:25       Windy                  Low                  2   \n",
              "\n",
              "      Type_of_order   Type_of_vehicle  multiple_deliveries Festival  \\\n",
              "0            Drinks  electric_scooter                  1.0       No   \n",
              "1             Snack        motorcycle                  1.0       No   \n",
              "2            Drinks        motorcycle                  1.0       No   \n",
              "3              Meal           scooter                  1.0       No   \n",
              "4            Drinks           scooter                  1.0       No   \n",
              "...             ...               ...                  ...      ...   \n",
              "11394         Snack           scooter                  1.0       No   \n",
              "11395        Drinks           scooter                  1.0       No   \n",
              "11396        Drinks           scooter                  1.0       No   \n",
              "11397          Meal        motorcycle                  0.0       No   \n",
              "11398        Drinks        motorcycle                  1.0       No   \n",
              "\n",
              "                City   Name:       Days  \n",
              "0      Metropolitian  object  Wednesday  \n",
              "1      Metropolitian  object    Tuesday  \n",
              "2      Metropolitian  object     Monday  \n",
              "3      Metropolitian  object     Friday  \n",
              "4      Metropolitian  object     Sunday  \n",
              "...              ...     ...        ...  \n",
              "11394  Metropolitian  object     Sunday  \n",
              "11395  Metropolitian  object   Thursday  \n",
              "11396  Metropolitian  object   Thursday  \n",
              "11397  Metropolitian  object     Friday  \n",
              "11398          Urban  object   Thursday  \n",
              "\n",
              "[11399 rows x 20 columns]"
            ],
            "text/html": [
              "\n",
              "  <div id=\"df-3b81f2df-aaea-491b-877e-03740920e470\">\n",
              "    <div class=\"colab-df-container\">\n",
              "      <div>\n",
              "<style scoped>\n",
              "    .dataframe tbody tr th:only-of-type {\n",
              "        vertical-align: middle;\n",
              "    }\n",
              "\n",
              "    .dataframe tbody tr th {\n",
              "        vertical-align: top;\n",
              "    }\n",
              "\n",
              "    .dataframe thead th {\n",
              "        text-align: right;\n",
              "    }\n",
              "</style>\n",
              "<table border=\"1\" class=\"dataframe\">\n",
              "  <thead>\n",
              "    <tr style=\"text-align: right;\">\n",
              "      <th></th>\n",
              "      <th>ID</th>\n",
              "      <th>Delivery_person_ID</th>\n",
              "      <th>Delivery_person_Age</th>\n",
              "      <th>Delivery_person_Ratings</th>\n",
              "      <th>Restaurant_latitude</th>\n",
              "      <th>Restaurant_longitude</th>\n",
              "      <th>Delivery_location_latitude</th>\n",
              "      <th>Delivery_location_longitude</th>\n",
              "      <th>Time_Orderd</th>\n",
              "      <th>Time_Order_picked</th>\n",
              "      <th>Weather</th>\n",
              "      <th>Road_traffic_density</th>\n",
              "      <th>Vehicle_condition</th>\n",
              "      <th>Type_of_order</th>\n",
              "      <th>Type_of_vehicle</th>\n",
              "      <th>multiple_deliveries</th>\n",
              "      <th>Festival</th>\n",
              "      <th>City</th>\n",
              "      <th>Name:</th>\n",
              "      <th>Days</th>\n",
              "    </tr>\n",
              "  </thead>\n",
              "  <tbody>\n",
              "    <tr>\n",
              "      <th>0</th>\n",
              "      <td>0x2318</td>\n",
              "      <td>COIMBRES13DEL01</td>\n",
              "      <td>NaN</td>\n",
              "      <td>NaN</td>\n",
              "      <td>11.003669</td>\n",
              "      <td>76.976494</td>\n",
              "      <td>11.043669</td>\n",
              "      <td>77.016494</td>\n",
              "      <td>NaN</td>\n",
              "      <td>15:05</td>\n",
              "      <td>NaN</td>\n",
              "      <td>NaN</td>\n",
              "      <td>3</td>\n",
              "      <td>Drinks</td>\n",
              "      <td>electric_scooter</td>\n",
              "      <td>1.0</td>\n",
              "      <td>No</td>\n",
              "      <td>Metropolitian</td>\n",
              "      <td>object</td>\n",
              "      <td>Wednesday</td>\n",
              "    </tr>\n",
              "    <tr>\n",
              "      <th>1</th>\n",
              "      <td>0x3474</td>\n",
              "      <td>BANGRES15DEL01</td>\n",
              "      <td>28.0</td>\n",
              "      <td>4.6</td>\n",
              "      <td>12.975377</td>\n",
              "      <td>77.696664</td>\n",
              "      <td>13.085377</td>\n",
              "      <td>77.806664</td>\n",
              "      <td>20:30</td>\n",
              "      <td>20:35</td>\n",
              "      <td>Windy</td>\n",
              "      <td>Jam</td>\n",
              "      <td>0</td>\n",
              "      <td>Snack</td>\n",
              "      <td>motorcycle</td>\n",
              "      <td>1.0</td>\n",
              "      <td>No</td>\n",
              "      <td>Metropolitian</td>\n",
              "      <td>object</td>\n",
              "      <td>Tuesday</td>\n",
              "    </tr>\n",
              "    <tr>\n",
              "      <th>2</th>\n",
              "      <td>0x9420</td>\n",
              "      <td>JAPRES09DEL03</td>\n",
              "      <td>23.0</td>\n",
              "      <td>4.5</td>\n",
              "      <td>26.911378</td>\n",
              "      <td>75.789034</td>\n",
              "      <td>27.001378</td>\n",
              "      <td>75.879034</td>\n",
              "      <td>19:35</td>\n",
              "      <td>19:45</td>\n",
              "      <td>Stormy</td>\n",
              "      <td>Jam</td>\n",
              "      <td>0</td>\n",
              "      <td>Drinks</td>\n",
              "      <td>motorcycle</td>\n",
              "      <td>1.0</td>\n",
              "      <td>No</td>\n",
              "      <td>Metropolitian</td>\n",
              "      <td>object</td>\n",
              "      <td>Monday</td>\n",
              "    </tr>\n",
              "    <tr>\n",
              "      <th>3</th>\n",
              "      <td>0x72ee</td>\n",
              "      <td>JAPRES07DEL03</td>\n",
              "      <td>21.0</td>\n",
              "      <td>4.8</td>\n",
              "      <td>26.766536</td>\n",
              "      <td>75.837333</td>\n",
              "      <td>26.856536</td>\n",
              "      <td>75.927333</td>\n",
              "      <td>17:15</td>\n",
              "      <td>17:20</td>\n",
              "      <td>Fog</td>\n",
              "      <td>Medium</td>\n",
              "      <td>1</td>\n",
              "      <td>Meal</td>\n",
              "      <td>scooter</td>\n",
              "      <td>1.0</td>\n",
              "      <td>No</td>\n",
              "      <td>Metropolitian</td>\n",
              "      <td>object</td>\n",
              "      <td>Friday</td>\n",
              "    </tr>\n",
              "    <tr>\n",
              "      <th>4</th>\n",
              "      <td>0xa759</td>\n",
              "      <td>CHENRES19DEL01</td>\n",
              "      <td>31.0</td>\n",
              "      <td>4.6</td>\n",
              "      <td>12.986047</td>\n",
              "      <td>80.218114</td>\n",
              "      <td>13.096047</td>\n",
              "      <td>80.328114</td>\n",
              "      <td>18:25</td>\n",
              "      <td>18:40</td>\n",
              "      <td>Sunny</td>\n",
              "      <td>Medium</td>\n",
              "      <td>2</td>\n",
              "      <td>Drinks</td>\n",
              "      <td>scooter</td>\n",
              "      <td>1.0</td>\n",
              "      <td>No</td>\n",
              "      <td>Metropolitian</td>\n",
              "      <td>object</td>\n",
              "      <td>Sunday</td>\n",
              "    </tr>\n",
              "    <tr>\n",
              "      <th>...</th>\n",
              "      <td>...</td>\n",
              "      <td>...</td>\n",
              "      <td>...</td>\n",
              "      <td>...</td>\n",
              "      <td>...</td>\n",
              "      <td>...</td>\n",
              "      <td>...</td>\n",
              "      <td>...</td>\n",
              "      <td>...</td>\n",
              "      <td>...</td>\n",
              "      <td>...</td>\n",
              "      <td>...</td>\n",
              "      <td>...</td>\n",
              "      <td>...</td>\n",
              "      <td>...</td>\n",
              "      <td>...</td>\n",
              "      <td>...</td>\n",
              "      <td>...</td>\n",
              "      <td>...</td>\n",
              "      <td>...</td>\n",
              "    </tr>\n",
              "    <tr>\n",
              "      <th>11394</th>\n",
              "      <td>0x6909</td>\n",
              "      <td>JAPRES01DEL01</td>\n",
              "      <td>35.0</td>\n",
              "      <td>4.6</td>\n",
              "      <td>26.905190</td>\n",
              "      <td>75.810753</td>\n",
              "      <td>27.015190</td>\n",
              "      <td>75.920753</td>\n",
              "      <td>21:35</td>\n",
              "      <td>21:45</td>\n",
              "      <td>Sunny</td>\n",
              "      <td>Jam</td>\n",
              "      <td>1</td>\n",
              "      <td>Snack</td>\n",
              "      <td>scooter</td>\n",
              "      <td>1.0</td>\n",
              "      <td>No</td>\n",
              "      <td>Metropolitian</td>\n",
              "      <td>object</td>\n",
              "      <td>Sunday</td>\n",
              "    </tr>\n",
              "    <tr>\n",
              "      <th>11395</th>\n",
              "      <td>0x443b</td>\n",
              "      <td>JAPRES11DEL01</td>\n",
              "      <td>33.0</td>\n",
              "      <td>4.9</td>\n",
              "      <td>26.902940</td>\n",
              "      <td>75.793007</td>\n",
              "      <td>26.912940</td>\n",
              "      <td>75.803007</td>\n",
              "      <td>11:40</td>\n",
              "      <td>11:45</td>\n",
              "      <td>Sandstorms</td>\n",
              "      <td>High</td>\n",
              "      <td>1</td>\n",
              "      <td>Drinks</td>\n",
              "      <td>scooter</td>\n",
              "      <td>1.0</td>\n",
              "      <td>No</td>\n",
              "      <td>Metropolitian</td>\n",
              "      <td>object</td>\n",
              "      <td>Thursday</td>\n",
              "    </tr>\n",
              "    <tr>\n",
              "      <th>11396</th>\n",
              "      <td>0x1ea5</td>\n",
              "      <td>SURRES11DEL03</td>\n",
              "      <td>NaN</td>\n",
              "      <td>NaN</td>\n",
              "      <td>21.157735</td>\n",
              "      <td>72.768778</td>\n",
              "      <td>21.217735</td>\n",
              "      <td>72.828778</td>\n",
              "      <td>NaN</td>\n",
              "      <td>21:05</td>\n",
              "      <td>NaN</td>\n",
              "      <td>NaN</td>\n",
              "      <td>3</td>\n",
              "      <td>Drinks</td>\n",
              "      <td>scooter</td>\n",
              "      <td>1.0</td>\n",
              "      <td>No</td>\n",
              "      <td>Metropolitian</td>\n",
              "      <td>object</td>\n",
              "      <td>Thursday</td>\n",
              "    </tr>\n",
              "    <tr>\n",
              "      <th>11397</th>\n",
              "      <td>0x22d4</td>\n",
              "      <td>VADRES03DEL02</td>\n",
              "      <td>27.0</td>\n",
              "      <td>4.7</td>\n",
              "      <td>22.320000</td>\n",
              "      <td>73.170000</td>\n",
              "      <td>22.450000</td>\n",
              "      <td>73.300000</td>\n",
              "      <td>18:35</td>\n",
              "      <td>18:40</td>\n",
              "      <td>Sandstorms</td>\n",
              "      <td>Medium</td>\n",
              "      <td>0</td>\n",
              "      <td>Meal</td>\n",
              "      <td>motorcycle</td>\n",
              "      <td>0.0</td>\n",
              "      <td>No</td>\n",
              "      <td>Metropolitian</td>\n",
              "      <td>object</td>\n",
              "      <td>Friday</td>\n",
              "    </tr>\n",
              "    <tr>\n",
              "      <th>11398</th>\n",
              "      <td>0xb7be</td>\n",
              "      <td>CHENRES07DEL02</td>\n",
              "      <td>39.0</td>\n",
              "      <td>5.0</td>\n",
              "      <td>13.081878</td>\n",
              "      <td>80.248519</td>\n",
              "      <td>13.131878</td>\n",
              "      <td>80.298519</td>\n",
              "      <td>22:20</td>\n",
              "      <td>22:25</td>\n",
              "      <td>Windy</td>\n",
              "      <td>Low</td>\n",
              "      <td>2</td>\n",
              "      <td>Drinks</td>\n",
              "      <td>motorcycle</td>\n",
              "      <td>1.0</td>\n",
              "      <td>No</td>\n",
              "      <td>Urban</td>\n",
              "      <td>object</td>\n",
              "      <td>Thursday</td>\n",
              "    </tr>\n",
              "  </tbody>\n",
              "</table>\n",
              "<p>11399 rows × 20 columns</p>\n",
              "</div>\n",
              "      <button class=\"colab-df-convert\" onclick=\"convertToInteractive('df-3b81f2df-aaea-491b-877e-03740920e470')\"\n",
              "              title=\"Convert this dataframe to an interactive table.\"\n",
              "              style=\"display:none;\">\n",
              "        \n",
              "  <svg xmlns=\"http://www.w3.org/2000/svg\" height=\"24px\"viewBox=\"0 0 24 24\"\n",
              "       width=\"24px\">\n",
              "    <path d=\"M0 0h24v24H0V0z\" fill=\"none\"/>\n",
              "    <path d=\"M18.56 5.44l.94 2.06.94-2.06 2.06-.94-2.06-.94-.94-2.06-.94 2.06-2.06.94zm-11 1L8.5 8.5l.94-2.06 2.06-.94-2.06-.94L8.5 2.5l-.94 2.06-2.06.94zm10 10l.94 2.06.94-2.06 2.06-.94-2.06-.94-.94-2.06-.94 2.06-2.06.94z\"/><path d=\"M17.41 7.96l-1.37-1.37c-.4-.4-.92-.59-1.43-.59-.52 0-1.04.2-1.43.59L10.3 9.45l-7.72 7.72c-.78.78-.78 2.05 0 2.83L4 21.41c.39.39.9.59 1.41.59.51 0 1.02-.2 1.41-.59l7.78-7.78 2.81-2.81c.8-.78.8-2.07 0-2.86zM5.41 20L4 18.59l7.72-7.72 1.47 1.35L5.41 20z\"/>\n",
              "  </svg>\n",
              "      </button>\n",
              "      \n",
              "  <style>\n",
              "    .colab-df-container {\n",
              "      display:flex;\n",
              "      flex-wrap:wrap;\n",
              "      gap: 12px;\n",
              "    }\n",
              "\n",
              "    .colab-df-convert {\n",
              "      background-color: #E8F0FE;\n",
              "      border: none;\n",
              "      border-radius: 50%;\n",
              "      cursor: pointer;\n",
              "      display: none;\n",
              "      fill: #1967D2;\n",
              "      height: 32px;\n",
              "      padding: 0 0 0 0;\n",
              "      width: 32px;\n",
              "    }\n",
              "\n",
              "    .colab-df-convert:hover {\n",
              "      background-color: #E2EBFA;\n",
              "      box-shadow: 0px 1px 2px rgba(60, 64, 67, 0.3), 0px 1px 3px 1px rgba(60, 64, 67, 0.15);\n",
              "      fill: #174EA6;\n",
              "    }\n",
              "\n",
              "    [theme=dark] .colab-df-convert {\n",
              "      background-color: #3B4455;\n",
              "      fill: #D2E3FC;\n",
              "    }\n",
              "\n",
              "    [theme=dark] .colab-df-convert:hover {\n",
              "      background-color: #434B5C;\n",
              "      box-shadow: 0px 1px 3px 1px rgba(0, 0, 0, 0.15);\n",
              "      filter: drop-shadow(0px 1px 2px rgba(0, 0, 0, 0.3));\n",
              "      fill: #FFFFFF;\n",
              "    }\n",
              "  </style>\n",
              "\n",
              "      <script>\n",
              "        const buttonEl =\n",
              "          document.querySelector('#df-3b81f2df-aaea-491b-877e-03740920e470 button.colab-df-convert');\n",
              "        buttonEl.style.display =\n",
              "          google.colab.kernel.accessAllowed ? 'block' : 'none';\n",
              "\n",
              "        async function convertToInteractive(key) {\n",
              "          const element = document.querySelector('#df-3b81f2df-aaea-491b-877e-03740920e470');\n",
              "          const dataTable =\n",
              "            await google.colab.kernel.invokeFunction('convertToInteractive',\n",
              "                                                     [key], {});\n",
              "          if (!dataTable) return;\n",
              "\n",
              "          const docLinkHtml = 'Like what you see? Visit the ' +\n",
              "            '<a target=\"_blank\" href=https://colab.research.google.com/notebooks/data_table.ipynb>data table notebook</a>'\n",
              "            + ' to learn more about interactive tables.';\n",
              "          element.innerHTML = '';\n",
              "          dataTable['output_type'] = 'display_data';\n",
              "          await google.colab.output.renderOutput(dataTable, element);\n",
              "          const docLink = document.createElement('div');\n",
              "          docLink.innerHTML = docLinkHtml;\n",
              "          element.appendChild(docLink);\n",
              "        }\n",
              "      </script>\n",
              "    </div>\n",
              "  </div>\n",
              "  "
            ]
          },
          "metadata": {},
          "execution_count": 114
        }
      ],
      "source": [
        "food.drop(['Order_Date'],axis='columns')\n"
      ]
    },
    {
      "cell_type": "code",
      "execution_count": 115,
      "id": "cb527c39",
      "metadata": {
        "id": "cb527c39"
      },
      "outputs": [],
      "source": [
        "import math\n",
        "from math import radians, sin, cos, acos\n",
        "\n",
        "def distance(restaurant, destination):\n",
        "\n",
        "    lat1, long1 = restaurant\n",
        "    lat2, long2 = destination\n",
        "    radius = 6371\n",
        "    # distance in kilometers\n",
        "\n",
        "    dlat = math.radians(lat2 - lat1)\n",
        "    dlong = math.radians(long2 - long1)\n",
        "    \n",
        "    a = (math.sin(dlat / 2) * math.sin(dlat / 2) + math.cos(math.radians(lat1)) * math.cos(math.radians(lat2)) * math.sin(dlong / 2) * math.sin(dlong / 2))\n",
        "    c = 2 * math.atan2(math.sqrt(a), math.sqrt(1 - a))\n",
        "    d = radius * c\n",
        "\n",
        "    return d"
      ]
    },
    {
      "cell_type": "code",
      "execution_count": 116,
      "id": "418b1a52",
      "metadata": {
        "id": "418b1a52"
      },
      "outputs": [],
      "source": [
        "food['distance_km'] = food.apply(lambda x: distance((x['Restaurant_latitude'], x['Restaurant_longitude']), (x['Delivery_location_latitude'], x['Delivery_location_longitude'])), axis=1)"
      ]
    },
    {
      "cell_type": "code",
      "execution_count": 117,
      "id": "3c53eb9a",
      "metadata": {
        "colab": {
          "base_uri": "https://localhost:8080/",
          "height": 288
        },
        "id": "3c53eb9a",
        "outputId": "5c46a784-6c64-4090-ff42-ed7e9f391d70"
      },
      "outputs": [
        {
          "output_type": "execute_result",
          "data": {
            "text/plain": [
              "   Unnamed: 0        ID Delivery_person_ID  Delivery_person_Age  \\\n",
              "0           1  0x4607_x     INDORES13DEL02                   37   \n",
              "1           2  0xb379_x     BANGRES18DEL02                   34   \n",
              "2           3  0x20f7_x     BANGRES18DEL01                   37   \n",
              "3           4  0x7804_x      HYDRES13DEL02                   28   \n",
              "4           5  0x7faf_x   RANCHIRES07DEL01                   37   \n",
              "\n",
              "   Delivery_person_Ratings  Restaurant_latitude  Restaurant_longitude  \\\n",
              "0                      4.9            22.745049             75.892471   \n",
              "1                      4.5            12.913041             77.683237   \n",
              "2                      4.4            12.913041             77.683237   \n",
              "3                      4.9            17.431477             78.400350   \n",
              "4                      4.6            23.359407             85.325055   \n",
              "\n",
              "   Delivery_location_latitude  Delivery_location_longitude Time_Orderd  \\\n",
              "0                   22.765049                    75.912471       11:30   \n",
              "1                   13.043041                    77.813237       19:45   \n",
              "2                   12.953041                    77.723237       13:50   \n",
              "3                   17.451477                    78.420350       10:60   \n",
              "4                   23.429407                    85.395055       23:50   \n",
              "\n",
              "  Time_Order_picked  Weatherconditions  Road_traffic_density  \\\n",
              "0             11:45                  4                     0   \n",
              "1             19:50                  3                     1   \n",
              "2             13:55                  6                     0   \n",
              "3             11:15                  2                     2   \n",
              "4             23:60                  3                     2   \n",
              "\n",
              "   Vehicle_condition  Type_of_order  Type_of_vehicle  multiple_deliveries  \\\n",
              "0                  2              3                3                  0.0   \n",
              "1                  2              3                4                  1.0   \n",
              "2                  0              0                3                  2.0   \n",
              "3                  1              2                4                  1.0   \n",
              "4                  0              2                3                  1.0   \n",
              "\n",
              "   Festival  City  Time_taken(min)  \n",
              "0         1     3             24.0  \n",
              "1         1     1             33.0  \n",
              "2         1     1             42.0  \n",
              "3         1     3             19.0  \n",
              "4         1     1             25.0  "
            ],
            "text/html": [
              "\n",
              "  <div id=\"df-d4a5a228-5d85-4d3b-a7a0-5b6a60f35f78\">\n",
              "    <div class=\"colab-df-container\">\n",
              "      <div>\n",
              "<style scoped>\n",
              "    .dataframe tbody tr th:only-of-type {\n",
              "        vertical-align: middle;\n",
              "    }\n",
              "\n",
              "    .dataframe tbody tr th {\n",
              "        vertical-align: top;\n",
              "    }\n",
              "\n",
              "    .dataframe thead th {\n",
              "        text-align: right;\n",
              "    }\n",
              "</style>\n",
              "<table border=\"1\" class=\"dataframe\">\n",
              "  <thead>\n",
              "    <tr style=\"text-align: right;\">\n",
              "      <th></th>\n",
              "      <th>Unnamed: 0</th>\n",
              "      <th>ID</th>\n",
              "      <th>Delivery_person_ID</th>\n",
              "      <th>Delivery_person_Age</th>\n",
              "      <th>Delivery_person_Ratings</th>\n",
              "      <th>Restaurant_latitude</th>\n",
              "      <th>Restaurant_longitude</th>\n",
              "      <th>Delivery_location_latitude</th>\n",
              "      <th>Delivery_location_longitude</th>\n",
              "      <th>Time_Orderd</th>\n",
              "      <th>Time_Order_picked</th>\n",
              "      <th>Weatherconditions</th>\n",
              "      <th>Road_traffic_density</th>\n",
              "      <th>Vehicle_condition</th>\n",
              "      <th>Type_of_order</th>\n",
              "      <th>Type_of_vehicle</th>\n",
              "      <th>multiple_deliveries</th>\n",
              "      <th>Festival</th>\n",
              "      <th>City</th>\n",
              "      <th>Time_taken(min)</th>\n",
              "    </tr>\n",
              "  </thead>\n",
              "  <tbody>\n",
              "    <tr>\n",
              "      <th>0</th>\n",
              "      <td>1</td>\n",
              "      <td>0x4607_x</td>\n",
              "      <td>INDORES13DEL02</td>\n",
              "      <td>37</td>\n",
              "      <td>4.9</td>\n",
              "      <td>22.745049</td>\n",
              "      <td>75.892471</td>\n",
              "      <td>22.765049</td>\n",
              "      <td>75.912471</td>\n",
              "      <td>11:30</td>\n",
              "      <td>11:45</td>\n",
              "      <td>4</td>\n",
              "      <td>0</td>\n",
              "      <td>2</td>\n",
              "      <td>3</td>\n",
              "      <td>3</td>\n",
              "      <td>0.0</td>\n",
              "      <td>1</td>\n",
              "      <td>3</td>\n",
              "      <td>24.0</td>\n",
              "    </tr>\n",
              "    <tr>\n",
              "      <th>1</th>\n",
              "      <td>2</td>\n",
              "      <td>0xb379_x</td>\n",
              "      <td>BANGRES18DEL02</td>\n",
              "      <td>34</td>\n",
              "      <td>4.5</td>\n",
              "      <td>12.913041</td>\n",
              "      <td>77.683237</td>\n",
              "      <td>13.043041</td>\n",
              "      <td>77.813237</td>\n",
              "      <td>19:45</td>\n",
              "      <td>19:50</td>\n",
              "      <td>3</td>\n",
              "      <td>1</td>\n",
              "      <td>2</td>\n",
              "      <td>3</td>\n",
              "      <td>4</td>\n",
              "      <td>1.0</td>\n",
              "      <td>1</td>\n",
              "      <td>1</td>\n",
              "      <td>33.0</td>\n",
              "    </tr>\n",
              "    <tr>\n",
              "      <th>2</th>\n",
              "      <td>3</td>\n",
              "      <td>0x20f7_x</td>\n",
              "      <td>BANGRES18DEL01</td>\n",
              "      <td>37</td>\n",
              "      <td>4.4</td>\n",
              "      <td>12.913041</td>\n",
              "      <td>77.683237</td>\n",
              "      <td>12.953041</td>\n",
              "      <td>77.723237</td>\n",
              "      <td>13:50</td>\n",
              "      <td>13:55</td>\n",
              "      <td>6</td>\n",
              "      <td>0</td>\n",
              "      <td>0</td>\n",
              "      <td>0</td>\n",
              "      <td>3</td>\n",
              "      <td>2.0</td>\n",
              "      <td>1</td>\n",
              "      <td>1</td>\n",
              "      <td>42.0</td>\n",
              "    </tr>\n",
              "    <tr>\n",
              "      <th>3</th>\n",
              "      <td>4</td>\n",
              "      <td>0x7804_x</td>\n",
              "      <td>HYDRES13DEL02</td>\n",
              "      <td>28</td>\n",
              "      <td>4.9</td>\n",
              "      <td>17.431477</td>\n",
              "      <td>78.400350</td>\n",
              "      <td>17.451477</td>\n",
              "      <td>78.420350</td>\n",
              "      <td>10:60</td>\n",
              "      <td>11:15</td>\n",
              "      <td>2</td>\n",
              "      <td>2</td>\n",
              "      <td>1</td>\n",
              "      <td>2</td>\n",
              "      <td>4</td>\n",
              "      <td>1.0</td>\n",
              "      <td>1</td>\n",
              "      <td>3</td>\n",
              "      <td>19.0</td>\n",
              "    </tr>\n",
              "    <tr>\n",
              "      <th>4</th>\n",
              "      <td>5</td>\n",
              "      <td>0x7faf_x</td>\n",
              "      <td>RANCHIRES07DEL01</td>\n",
              "      <td>37</td>\n",
              "      <td>4.6</td>\n",
              "      <td>23.359407</td>\n",
              "      <td>85.325055</td>\n",
              "      <td>23.429407</td>\n",
              "      <td>85.395055</td>\n",
              "      <td>23:50</td>\n",
              "      <td>23:60</td>\n",
              "      <td>3</td>\n",
              "      <td>2</td>\n",
              "      <td>0</td>\n",
              "      <td>2</td>\n",
              "      <td>3</td>\n",
              "      <td>1.0</td>\n",
              "      <td>1</td>\n",
              "      <td>1</td>\n",
              "      <td>25.0</td>\n",
              "    </tr>\n",
              "  </tbody>\n",
              "</table>\n",
              "</div>\n",
              "      <button class=\"colab-df-convert\" onclick=\"convertToInteractive('df-d4a5a228-5d85-4d3b-a7a0-5b6a60f35f78')\"\n",
              "              title=\"Convert this dataframe to an interactive table.\"\n",
              "              style=\"display:none;\">\n",
              "        \n",
              "  <svg xmlns=\"http://www.w3.org/2000/svg\" height=\"24px\"viewBox=\"0 0 24 24\"\n",
              "       width=\"24px\">\n",
              "    <path d=\"M0 0h24v24H0V0z\" fill=\"none\"/>\n",
              "    <path d=\"M18.56 5.44l.94 2.06.94-2.06 2.06-.94-2.06-.94-.94-2.06-.94 2.06-2.06.94zm-11 1L8.5 8.5l.94-2.06 2.06-.94-2.06-.94L8.5 2.5l-.94 2.06-2.06.94zm10 10l.94 2.06.94-2.06 2.06-.94-2.06-.94-.94-2.06-.94 2.06-2.06.94z\"/><path d=\"M17.41 7.96l-1.37-1.37c-.4-.4-.92-.59-1.43-.59-.52 0-1.04.2-1.43.59L10.3 9.45l-7.72 7.72c-.78.78-.78 2.05 0 2.83L4 21.41c.39.39.9.59 1.41.59.51 0 1.02-.2 1.41-.59l7.78-7.78 2.81-2.81c.8-.78.8-2.07 0-2.86zM5.41 20L4 18.59l7.72-7.72 1.47 1.35L5.41 20z\"/>\n",
              "  </svg>\n",
              "      </button>\n",
              "      \n",
              "  <style>\n",
              "    .colab-df-container {\n",
              "      display:flex;\n",
              "      flex-wrap:wrap;\n",
              "      gap: 12px;\n",
              "    }\n",
              "\n",
              "    .colab-df-convert {\n",
              "      background-color: #E8F0FE;\n",
              "      border: none;\n",
              "      border-radius: 50%;\n",
              "      cursor: pointer;\n",
              "      display: none;\n",
              "      fill: #1967D2;\n",
              "      height: 32px;\n",
              "      padding: 0 0 0 0;\n",
              "      width: 32px;\n",
              "    }\n",
              "\n",
              "    .colab-df-convert:hover {\n",
              "      background-color: #E2EBFA;\n",
              "      box-shadow: 0px 1px 2px rgba(60, 64, 67, 0.3), 0px 1px 3px 1px rgba(60, 64, 67, 0.15);\n",
              "      fill: #174EA6;\n",
              "    }\n",
              "\n",
              "    [theme=dark] .colab-df-convert {\n",
              "      background-color: #3B4455;\n",
              "      fill: #D2E3FC;\n",
              "    }\n",
              "\n",
              "    [theme=dark] .colab-df-convert:hover {\n",
              "      background-color: #434B5C;\n",
              "      box-shadow: 0px 1px 3px 1px rgba(0, 0, 0, 0.15);\n",
              "      filter: drop-shadow(0px 1px 2px rgba(0, 0, 0, 0.3));\n",
              "      fill: #FFFFFF;\n",
              "    }\n",
              "  </style>\n",
              "\n",
              "      <script>\n",
              "        const buttonEl =\n",
              "          document.querySelector('#df-d4a5a228-5d85-4d3b-a7a0-5b6a60f35f78 button.colab-df-convert');\n",
              "        buttonEl.style.display =\n",
              "          google.colab.kernel.accessAllowed ? 'block' : 'none';\n",
              "\n",
              "        async function convertToInteractive(key) {\n",
              "          const element = document.querySelector('#df-d4a5a228-5d85-4d3b-a7a0-5b6a60f35f78');\n",
              "          const dataTable =\n",
              "            await google.colab.kernel.invokeFunction('convertToInteractive',\n",
              "                                                     [key], {});\n",
              "          if (!dataTable) return;\n",
              "\n",
              "          const docLinkHtml = 'Like what you see? Visit the ' +\n",
              "            '<a target=\"_blank\" href=https://colab.research.google.com/notebooks/data_table.ipynb>data table notebook</a>'\n",
              "            + ' to learn more about interactive tables.';\n",
              "          element.innerHTML = '';\n",
              "          dataTable['output_type'] = 'display_data';\n",
              "          await google.colab.output.renderOutput(dataTable, element);\n",
              "          const docLink = document.createElement('div');\n",
              "          docLink.innerHTML = docLinkHtml;\n",
              "          element.appendChild(docLink);\n",
              "        }\n",
              "      </script>\n",
              "    </div>\n",
              "  </div>\n",
              "  "
            ]
          },
          "metadata": {},
          "execution_count": 117
        }
      ],
      "source": [
        "updatedfood=pd.read_csv('updated.csv')\n",
        "updatedfood.head()"
      ]
    },
    {
      "cell_type": "code",
      "execution_count": 118,
      "id": "8fada32d",
      "metadata": {
        "colab": {
          "base_uri": "https://localhost:8080/",
          "height": 300
        },
        "id": "8fada32d",
        "outputId": "bcb32b41-6b87-46d5-f183-dd85486a1ddf"
      },
      "outputs": [
        {
          "output_type": "execute_result",
          "data": {
            "text/plain": [
              "       ID Delivery_person_ID  Delivery_person_Age  Delivery_person_Ratings  \\\n",
              "0  0x2318    COIMBRES13DEL01                  NaN                      NaN   \n",
              "1  0x3474     BANGRES15DEL01                 28.0                      4.6   \n",
              "2  0x9420      JAPRES09DEL03                 23.0                      4.5   \n",
              "3  0x72ee      JAPRES07DEL03                 21.0                      4.8   \n",
              "4  0xa759     CHENRES19DEL01                 31.0                      4.6   \n",
              "\n",
              "   Restaurant_latitude  Restaurant_longitude  Delivery_location_latitude  \\\n",
              "0            11.003669             76.976494                   11.043669   \n",
              "1            12.975377             77.696664                   13.085377   \n",
              "2            26.911378             75.789034                   27.001378   \n",
              "3            26.766536             75.837333                   26.856536   \n",
              "4            12.986047             80.218114                   13.096047   \n",
              "\n",
              "   Delivery_location_longitude Order_Date Time_Orderd  ...  \\\n",
              "0                    77.016494 2022-03-30         NaN  ...   \n",
              "1                    77.806664 2022-03-29       20:30  ...   \n",
              "2                    75.879034 2022-10-03       19:35  ...   \n",
              "3                    75.927333 2022-02-04       17:15  ...   \n",
              "4                    80.328114 2022-03-27       18:25  ...   \n",
              "\n",
              "  Road_traffic_density Vehicle_condition Type_of_order   Type_of_vehicle  \\\n",
              "0                  NaN                 3        Drinks  electric_scooter   \n",
              "1                  Jam                 0         Snack        motorcycle   \n",
              "2                  Jam                 0        Drinks        motorcycle   \n",
              "3               Medium                 1          Meal           scooter   \n",
              "4               Medium                 2        Drinks           scooter   \n",
              "\n",
              "  multiple_deliveries Festival           City   Name:       Days distance_km  \n",
              "0                 1.0       No  Metropolitian  object  Wednesday    6.232373  \n",
              "1                 1.0       No  Metropolitian  object    Tuesday   17.076617  \n",
              "2                 1.0       No  Metropolitian  object     Monday   13.406029  \n",
              "3                 1.0       No  Metropolitian  object     Friday   13.413644  \n",
              "4                 1.0       No  Metropolitian  object     Sunday   17.076259  \n",
              "\n",
              "[5 rows x 22 columns]"
            ],
            "text/html": [
              "\n",
              "  <div id=\"df-c0b74fc2-38c6-4f80-85b3-3ba357244586\">\n",
              "    <div class=\"colab-df-container\">\n",
              "      <div>\n",
              "<style scoped>\n",
              "    .dataframe tbody tr th:only-of-type {\n",
              "        vertical-align: middle;\n",
              "    }\n",
              "\n",
              "    .dataframe tbody tr th {\n",
              "        vertical-align: top;\n",
              "    }\n",
              "\n",
              "    .dataframe thead th {\n",
              "        text-align: right;\n",
              "    }\n",
              "</style>\n",
              "<table border=\"1\" class=\"dataframe\">\n",
              "  <thead>\n",
              "    <tr style=\"text-align: right;\">\n",
              "      <th></th>\n",
              "      <th>ID</th>\n",
              "      <th>Delivery_person_ID</th>\n",
              "      <th>Delivery_person_Age</th>\n",
              "      <th>Delivery_person_Ratings</th>\n",
              "      <th>Restaurant_latitude</th>\n",
              "      <th>Restaurant_longitude</th>\n",
              "      <th>Delivery_location_latitude</th>\n",
              "      <th>Delivery_location_longitude</th>\n",
              "      <th>Order_Date</th>\n",
              "      <th>Time_Orderd</th>\n",
              "      <th>...</th>\n",
              "      <th>Road_traffic_density</th>\n",
              "      <th>Vehicle_condition</th>\n",
              "      <th>Type_of_order</th>\n",
              "      <th>Type_of_vehicle</th>\n",
              "      <th>multiple_deliveries</th>\n",
              "      <th>Festival</th>\n",
              "      <th>City</th>\n",
              "      <th>Name:</th>\n",
              "      <th>Days</th>\n",
              "      <th>distance_km</th>\n",
              "    </tr>\n",
              "  </thead>\n",
              "  <tbody>\n",
              "    <tr>\n",
              "      <th>0</th>\n",
              "      <td>0x2318</td>\n",
              "      <td>COIMBRES13DEL01</td>\n",
              "      <td>NaN</td>\n",
              "      <td>NaN</td>\n",
              "      <td>11.003669</td>\n",
              "      <td>76.976494</td>\n",
              "      <td>11.043669</td>\n",
              "      <td>77.016494</td>\n",
              "      <td>2022-03-30</td>\n",
              "      <td>NaN</td>\n",
              "      <td>...</td>\n",
              "      <td>NaN</td>\n",
              "      <td>3</td>\n",
              "      <td>Drinks</td>\n",
              "      <td>electric_scooter</td>\n",
              "      <td>1.0</td>\n",
              "      <td>No</td>\n",
              "      <td>Metropolitian</td>\n",
              "      <td>object</td>\n",
              "      <td>Wednesday</td>\n",
              "      <td>6.232373</td>\n",
              "    </tr>\n",
              "    <tr>\n",
              "      <th>1</th>\n",
              "      <td>0x3474</td>\n",
              "      <td>BANGRES15DEL01</td>\n",
              "      <td>28.0</td>\n",
              "      <td>4.6</td>\n",
              "      <td>12.975377</td>\n",
              "      <td>77.696664</td>\n",
              "      <td>13.085377</td>\n",
              "      <td>77.806664</td>\n",
              "      <td>2022-03-29</td>\n",
              "      <td>20:30</td>\n",
              "      <td>...</td>\n",
              "      <td>Jam</td>\n",
              "      <td>0</td>\n",
              "      <td>Snack</td>\n",
              "      <td>motorcycle</td>\n",
              "      <td>1.0</td>\n",
              "      <td>No</td>\n",
              "      <td>Metropolitian</td>\n",
              "      <td>object</td>\n",
              "      <td>Tuesday</td>\n",
              "      <td>17.076617</td>\n",
              "    </tr>\n",
              "    <tr>\n",
              "      <th>2</th>\n",
              "      <td>0x9420</td>\n",
              "      <td>JAPRES09DEL03</td>\n",
              "      <td>23.0</td>\n",
              "      <td>4.5</td>\n",
              "      <td>26.911378</td>\n",
              "      <td>75.789034</td>\n",
              "      <td>27.001378</td>\n",
              "      <td>75.879034</td>\n",
              "      <td>2022-10-03</td>\n",
              "      <td>19:35</td>\n",
              "      <td>...</td>\n",
              "      <td>Jam</td>\n",
              "      <td>0</td>\n",
              "      <td>Drinks</td>\n",
              "      <td>motorcycle</td>\n",
              "      <td>1.0</td>\n",
              "      <td>No</td>\n",
              "      <td>Metropolitian</td>\n",
              "      <td>object</td>\n",
              "      <td>Monday</td>\n",
              "      <td>13.406029</td>\n",
              "    </tr>\n",
              "    <tr>\n",
              "      <th>3</th>\n",
              "      <td>0x72ee</td>\n",
              "      <td>JAPRES07DEL03</td>\n",
              "      <td>21.0</td>\n",
              "      <td>4.8</td>\n",
              "      <td>26.766536</td>\n",
              "      <td>75.837333</td>\n",
              "      <td>26.856536</td>\n",
              "      <td>75.927333</td>\n",
              "      <td>2022-02-04</td>\n",
              "      <td>17:15</td>\n",
              "      <td>...</td>\n",
              "      <td>Medium</td>\n",
              "      <td>1</td>\n",
              "      <td>Meal</td>\n",
              "      <td>scooter</td>\n",
              "      <td>1.0</td>\n",
              "      <td>No</td>\n",
              "      <td>Metropolitian</td>\n",
              "      <td>object</td>\n",
              "      <td>Friday</td>\n",
              "      <td>13.413644</td>\n",
              "    </tr>\n",
              "    <tr>\n",
              "      <th>4</th>\n",
              "      <td>0xa759</td>\n",
              "      <td>CHENRES19DEL01</td>\n",
              "      <td>31.0</td>\n",
              "      <td>4.6</td>\n",
              "      <td>12.986047</td>\n",
              "      <td>80.218114</td>\n",
              "      <td>13.096047</td>\n",
              "      <td>80.328114</td>\n",
              "      <td>2022-03-27</td>\n",
              "      <td>18:25</td>\n",
              "      <td>...</td>\n",
              "      <td>Medium</td>\n",
              "      <td>2</td>\n",
              "      <td>Drinks</td>\n",
              "      <td>scooter</td>\n",
              "      <td>1.0</td>\n",
              "      <td>No</td>\n",
              "      <td>Metropolitian</td>\n",
              "      <td>object</td>\n",
              "      <td>Sunday</td>\n",
              "      <td>17.076259</td>\n",
              "    </tr>\n",
              "  </tbody>\n",
              "</table>\n",
              "<p>5 rows × 22 columns</p>\n",
              "</div>\n",
              "      <button class=\"colab-df-convert\" onclick=\"convertToInteractive('df-c0b74fc2-38c6-4f80-85b3-3ba357244586')\"\n",
              "              title=\"Convert this dataframe to an interactive table.\"\n",
              "              style=\"display:none;\">\n",
              "        \n",
              "  <svg xmlns=\"http://www.w3.org/2000/svg\" height=\"24px\"viewBox=\"0 0 24 24\"\n",
              "       width=\"24px\">\n",
              "    <path d=\"M0 0h24v24H0V0z\" fill=\"none\"/>\n",
              "    <path d=\"M18.56 5.44l.94 2.06.94-2.06 2.06-.94-2.06-.94-.94-2.06-.94 2.06-2.06.94zm-11 1L8.5 8.5l.94-2.06 2.06-.94-2.06-.94L8.5 2.5l-.94 2.06-2.06.94zm10 10l.94 2.06.94-2.06 2.06-.94-2.06-.94-.94-2.06-.94 2.06-2.06.94z\"/><path d=\"M17.41 7.96l-1.37-1.37c-.4-.4-.92-.59-1.43-.59-.52 0-1.04.2-1.43.59L10.3 9.45l-7.72 7.72c-.78.78-.78 2.05 0 2.83L4 21.41c.39.39.9.59 1.41.59.51 0 1.02-.2 1.41-.59l7.78-7.78 2.81-2.81c.8-.78.8-2.07 0-2.86zM5.41 20L4 18.59l7.72-7.72 1.47 1.35L5.41 20z\"/>\n",
              "  </svg>\n",
              "      </button>\n",
              "      \n",
              "  <style>\n",
              "    .colab-df-container {\n",
              "      display:flex;\n",
              "      flex-wrap:wrap;\n",
              "      gap: 12px;\n",
              "    }\n",
              "\n",
              "    .colab-df-convert {\n",
              "      background-color: #E8F0FE;\n",
              "      border: none;\n",
              "      border-radius: 50%;\n",
              "      cursor: pointer;\n",
              "      display: none;\n",
              "      fill: #1967D2;\n",
              "      height: 32px;\n",
              "      padding: 0 0 0 0;\n",
              "      width: 32px;\n",
              "    }\n",
              "\n",
              "    .colab-df-convert:hover {\n",
              "      background-color: #E2EBFA;\n",
              "      box-shadow: 0px 1px 2px rgba(60, 64, 67, 0.3), 0px 1px 3px 1px rgba(60, 64, 67, 0.15);\n",
              "      fill: #174EA6;\n",
              "    }\n",
              "\n",
              "    [theme=dark] .colab-df-convert {\n",
              "      background-color: #3B4455;\n",
              "      fill: #D2E3FC;\n",
              "    }\n",
              "\n",
              "    [theme=dark] .colab-df-convert:hover {\n",
              "      background-color: #434B5C;\n",
              "      box-shadow: 0px 1px 3px 1px rgba(0, 0, 0, 0.15);\n",
              "      filter: drop-shadow(0px 1px 2px rgba(0, 0, 0, 0.3));\n",
              "      fill: #FFFFFF;\n",
              "    }\n",
              "  </style>\n",
              "\n",
              "      <script>\n",
              "        const buttonEl =\n",
              "          document.querySelector('#df-c0b74fc2-38c6-4f80-85b3-3ba357244586 button.colab-df-convert');\n",
              "        buttonEl.style.display =\n",
              "          google.colab.kernel.accessAllowed ? 'block' : 'none';\n",
              "\n",
              "        async function convertToInteractive(key) {\n",
              "          const element = document.querySelector('#df-c0b74fc2-38c6-4f80-85b3-3ba357244586');\n",
              "          const dataTable =\n",
              "            await google.colab.kernel.invokeFunction('convertToInteractive',\n",
              "                                                     [key], {});\n",
              "          if (!dataTable) return;\n",
              "\n",
              "          const docLinkHtml = 'Like what you see? Visit the ' +\n",
              "            '<a target=\"_blank\" href=https://colab.research.google.com/notebooks/data_table.ipynb>data table notebook</a>'\n",
              "            + ' to learn more about interactive tables.';\n",
              "          element.innerHTML = '';\n",
              "          dataTable['output_type'] = 'display_data';\n",
              "          await google.colab.output.renderOutput(dataTable, element);\n",
              "          const docLink = document.createElement('div');\n",
              "          docLink.innerHTML = docLinkHtml;\n",
              "          element.appendChild(docLink);\n",
              "        }\n",
              "      </script>\n",
              "    </div>\n",
              "  </div>\n",
              "  "
            ]
          },
          "metadata": {},
          "execution_count": 118
        }
      ],
      "source": [
        "food.head()"
      ]
    },
    {
      "cell_type": "markdown",
      "id": "3ba74ef6",
      "metadata": {
        "id": "3ba74ef6"
      },
      "source": [
        "Extracting time taken coliumn from updated food dataset"
      ]
    },
    {
      "cell_type": "code",
      "execution_count": 119,
      "id": "1d420b57",
      "metadata": {
        "colab": {
          "base_uri": "https://localhost:8080/"
        },
        "id": "1d420b57",
        "outputId": "1bd011fd-e05d-4f55-9b18-fe4f64bcff08"
      },
      "outputs": [
        {
          "output_type": "execute_result",
          "data": {
            "text/plain": [
              "0       24.0\n",
              "1       33.0\n",
              "2       42.0\n",
              "3       19.0\n",
              "4       25.0\n",
              "        ... \n",
              "2437    29.0\n",
              "2438    22.0\n",
              "2439    28.0\n",
              "2440    12.0\n",
              "2441    36.0\n",
              "Name: Time_taken(min), Length: 2442, dtype: float64"
            ]
          },
          "metadata": {},
          "execution_count": 119
        }
      ],
      "source": [
        "Time_taken=updatedfood['Time_taken(min)']\n",
        "Time_taken"
      ]
    },
    {
      "cell_type": "markdown",
      "id": "f8020ba3",
      "metadata": {
        "id": "f8020ba3"
      },
      "source": [
        "Adding time_taken column to the cleaned dataset"
      ]
    },
    {
      "cell_type": "code",
      "execution_count": 120,
      "id": "d6efd936",
      "metadata": {
        "id": "d6efd936"
      },
      "outputs": [],
      "source": [
        "food['Time_taken']=Time_taken"
      ]
    },
    {
      "cell_type": "code",
      "execution_count": 121,
      "id": "33a7ee3b",
      "metadata": {
        "colab": {
          "base_uri": "https://localhost:8080/",
          "height": 300
        },
        "id": "33a7ee3b",
        "outputId": "089770ad-a31d-462e-d042-1af83003c7b2"
      },
      "outputs": [
        {
          "output_type": "execute_result",
          "data": {
            "text/plain": [
              "       ID Delivery_person_ID  Delivery_person_Age  Delivery_person_Ratings  \\\n",
              "0  0x2318    COIMBRES13DEL01                  NaN                      NaN   \n",
              "1  0x3474     BANGRES15DEL01                 28.0                      4.6   \n",
              "2  0x9420      JAPRES09DEL03                 23.0                      4.5   \n",
              "3  0x72ee      JAPRES07DEL03                 21.0                      4.8   \n",
              "4  0xa759     CHENRES19DEL01                 31.0                      4.6   \n",
              "\n",
              "   Restaurant_latitude  Restaurant_longitude  Delivery_location_latitude  \\\n",
              "0            11.003669             76.976494                   11.043669   \n",
              "1            12.975377             77.696664                   13.085377   \n",
              "2            26.911378             75.789034                   27.001378   \n",
              "3            26.766536             75.837333                   26.856536   \n",
              "4            12.986047             80.218114                   13.096047   \n",
              "\n",
              "   Delivery_location_longitude Order_Date Time_Orderd  ... Vehicle_condition  \\\n",
              "0                    77.016494 2022-03-30         NaN  ...                 3   \n",
              "1                    77.806664 2022-03-29       20:30  ...                 0   \n",
              "2                    75.879034 2022-10-03       19:35  ...                 0   \n",
              "3                    75.927333 2022-02-04       17:15  ...                 1   \n",
              "4                    80.328114 2022-03-27       18:25  ...                 2   \n",
              "\n",
              "  Type_of_order   Type_of_vehicle  multiple_deliveries Festival  \\\n",
              "0        Drinks  electric_scooter                  1.0       No   \n",
              "1         Snack        motorcycle                  1.0       No   \n",
              "2        Drinks        motorcycle                  1.0       No   \n",
              "3          Meal           scooter                  1.0       No   \n",
              "4        Drinks           scooter                  1.0       No   \n",
              "\n",
              "            City   Name:       Days distance_km Time_taken  \n",
              "0  Metropolitian  object  Wednesday    6.232373       24.0  \n",
              "1  Metropolitian  object    Tuesday   17.076617       33.0  \n",
              "2  Metropolitian  object     Monday   13.406029       42.0  \n",
              "3  Metropolitian  object     Friday   13.413644       19.0  \n",
              "4  Metropolitian  object     Sunday   17.076259       25.0  \n",
              "\n",
              "[5 rows x 23 columns]"
            ],
            "text/html": [
              "\n",
              "  <div id=\"df-a7b13ba4-0c00-4377-9f41-270060fd8829\">\n",
              "    <div class=\"colab-df-container\">\n",
              "      <div>\n",
              "<style scoped>\n",
              "    .dataframe tbody tr th:only-of-type {\n",
              "        vertical-align: middle;\n",
              "    }\n",
              "\n",
              "    .dataframe tbody tr th {\n",
              "        vertical-align: top;\n",
              "    }\n",
              "\n",
              "    .dataframe thead th {\n",
              "        text-align: right;\n",
              "    }\n",
              "</style>\n",
              "<table border=\"1\" class=\"dataframe\">\n",
              "  <thead>\n",
              "    <tr style=\"text-align: right;\">\n",
              "      <th></th>\n",
              "      <th>ID</th>\n",
              "      <th>Delivery_person_ID</th>\n",
              "      <th>Delivery_person_Age</th>\n",
              "      <th>Delivery_person_Ratings</th>\n",
              "      <th>Restaurant_latitude</th>\n",
              "      <th>Restaurant_longitude</th>\n",
              "      <th>Delivery_location_latitude</th>\n",
              "      <th>Delivery_location_longitude</th>\n",
              "      <th>Order_Date</th>\n",
              "      <th>Time_Orderd</th>\n",
              "      <th>...</th>\n",
              "      <th>Vehicle_condition</th>\n",
              "      <th>Type_of_order</th>\n",
              "      <th>Type_of_vehicle</th>\n",
              "      <th>multiple_deliveries</th>\n",
              "      <th>Festival</th>\n",
              "      <th>City</th>\n",
              "      <th>Name:</th>\n",
              "      <th>Days</th>\n",
              "      <th>distance_km</th>\n",
              "      <th>Time_taken</th>\n",
              "    </tr>\n",
              "  </thead>\n",
              "  <tbody>\n",
              "    <tr>\n",
              "      <th>0</th>\n",
              "      <td>0x2318</td>\n",
              "      <td>COIMBRES13DEL01</td>\n",
              "      <td>NaN</td>\n",
              "      <td>NaN</td>\n",
              "      <td>11.003669</td>\n",
              "      <td>76.976494</td>\n",
              "      <td>11.043669</td>\n",
              "      <td>77.016494</td>\n",
              "      <td>2022-03-30</td>\n",
              "      <td>NaN</td>\n",
              "      <td>...</td>\n",
              "      <td>3</td>\n",
              "      <td>Drinks</td>\n",
              "      <td>electric_scooter</td>\n",
              "      <td>1.0</td>\n",
              "      <td>No</td>\n",
              "      <td>Metropolitian</td>\n",
              "      <td>object</td>\n",
              "      <td>Wednesday</td>\n",
              "      <td>6.232373</td>\n",
              "      <td>24.0</td>\n",
              "    </tr>\n",
              "    <tr>\n",
              "      <th>1</th>\n",
              "      <td>0x3474</td>\n",
              "      <td>BANGRES15DEL01</td>\n",
              "      <td>28.0</td>\n",
              "      <td>4.6</td>\n",
              "      <td>12.975377</td>\n",
              "      <td>77.696664</td>\n",
              "      <td>13.085377</td>\n",
              "      <td>77.806664</td>\n",
              "      <td>2022-03-29</td>\n",
              "      <td>20:30</td>\n",
              "      <td>...</td>\n",
              "      <td>0</td>\n",
              "      <td>Snack</td>\n",
              "      <td>motorcycle</td>\n",
              "      <td>1.0</td>\n",
              "      <td>No</td>\n",
              "      <td>Metropolitian</td>\n",
              "      <td>object</td>\n",
              "      <td>Tuesday</td>\n",
              "      <td>17.076617</td>\n",
              "      <td>33.0</td>\n",
              "    </tr>\n",
              "    <tr>\n",
              "      <th>2</th>\n",
              "      <td>0x9420</td>\n",
              "      <td>JAPRES09DEL03</td>\n",
              "      <td>23.0</td>\n",
              "      <td>4.5</td>\n",
              "      <td>26.911378</td>\n",
              "      <td>75.789034</td>\n",
              "      <td>27.001378</td>\n",
              "      <td>75.879034</td>\n",
              "      <td>2022-10-03</td>\n",
              "      <td>19:35</td>\n",
              "      <td>...</td>\n",
              "      <td>0</td>\n",
              "      <td>Drinks</td>\n",
              "      <td>motorcycle</td>\n",
              "      <td>1.0</td>\n",
              "      <td>No</td>\n",
              "      <td>Metropolitian</td>\n",
              "      <td>object</td>\n",
              "      <td>Monday</td>\n",
              "      <td>13.406029</td>\n",
              "      <td>42.0</td>\n",
              "    </tr>\n",
              "    <tr>\n",
              "      <th>3</th>\n",
              "      <td>0x72ee</td>\n",
              "      <td>JAPRES07DEL03</td>\n",
              "      <td>21.0</td>\n",
              "      <td>4.8</td>\n",
              "      <td>26.766536</td>\n",
              "      <td>75.837333</td>\n",
              "      <td>26.856536</td>\n",
              "      <td>75.927333</td>\n",
              "      <td>2022-02-04</td>\n",
              "      <td>17:15</td>\n",
              "      <td>...</td>\n",
              "      <td>1</td>\n",
              "      <td>Meal</td>\n",
              "      <td>scooter</td>\n",
              "      <td>1.0</td>\n",
              "      <td>No</td>\n",
              "      <td>Metropolitian</td>\n",
              "      <td>object</td>\n",
              "      <td>Friday</td>\n",
              "      <td>13.413644</td>\n",
              "      <td>19.0</td>\n",
              "    </tr>\n",
              "    <tr>\n",
              "      <th>4</th>\n",
              "      <td>0xa759</td>\n",
              "      <td>CHENRES19DEL01</td>\n",
              "      <td>31.0</td>\n",
              "      <td>4.6</td>\n",
              "      <td>12.986047</td>\n",
              "      <td>80.218114</td>\n",
              "      <td>13.096047</td>\n",
              "      <td>80.328114</td>\n",
              "      <td>2022-03-27</td>\n",
              "      <td>18:25</td>\n",
              "      <td>...</td>\n",
              "      <td>2</td>\n",
              "      <td>Drinks</td>\n",
              "      <td>scooter</td>\n",
              "      <td>1.0</td>\n",
              "      <td>No</td>\n",
              "      <td>Metropolitian</td>\n",
              "      <td>object</td>\n",
              "      <td>Sunday</td>\n",
              "      <td>17.076259</td>\n",
              "      <td>25.0</td>\n",
              "    </tr>\n",
              "  </tbody>\n",
              "</table>\n",
              "<p>5 rows × 23 columns</p>\n",
              "</div>\n",
              "      <button class=\"colab-df-convert\" onclick=\"convertToInteractive('df-a7b13ba4-0c00-4377-9f41-270060fd8829')\"\n",
              "              title=\"Convert this dataframe to an interactive table.\"\n",
              "              style=\"display:none;\">\n",
              "        \n",
              "  <svg xmlns=\"http://www.w3.org/2000/svg\" height=\"24px\"viewBox=\"0 0 24 24\"\n",
              "       width=\"24px\">\n",
              "    <path d=\"M0 0h24v24H0V0z\" fill=\"none\"/>\n",
              "    <path d=\"M18.56 5.44l.94 2.06.94-2.06 2.06-.94-2.06-.94-.94-2.06-.94 2.06-2.06.94zm-11 1L8.5 8.5l.94-2.06 2.06-.94-2.06-.94L8.5 2.5l-.94 2.06-2.06.94zm10 10l.94 2.06.94-2.06 2.06-.94-2.06-.94-.94-2.06-.94 2.06-2.06.94z\"/><path d=\"M17.41 7.96l-1.37-1.37c-.4-.4-.92-.59-1.43-.59-.52 0-1.04.2-1.43.59L10.3 9.45l-7.72 7.72c-.78.78-.78 2.05 0 2.83L4 21.41c.39.39.9.59 1.41.59.51 0 1.02-.2 1.41-.59l7.78-7.78 2.81-2.81c.8-.78.8-2.07 0-2.86zM5.41 20L4 18.59l7.72-7.72 1.47 1.35L5.41 20z\"/>\n",
              "  </svg>\n",
              "      </button>\n",
              "      \n",
              "  <style>\n",
              "    .colab-df-container {\n",
              "      display:flex;\n",
              "      flex-wrap:wrap;\n",
              "      gap: 12px;\n",
              "    }\n",
              "\n",
              "    .colab-df-convert {\n",
              "      background-color: #E8F0FE;\n",
              "      border: none;\n",
              "      border-radius: 50%;\n",
              "      cursor: pointer;\n",
              "      display: none;\n",
              "      fill: #1967D2;\n",
              "      height: 32px;\n",
              "      padding: 0 0 0 0;\n",
              "      width: 32px;\n",
              "    }\n",
              "\n",
              "    .colab-df-convert:hover {\n",
              "      background-color: #E2EBFA;\n",
              "      box-shadow: 0px 1px 2px rgba(60, 64, 67, 0.3), 0px 1px 3px 1px rgba(60, 64, 67, 0.15);\n",
              "      fill: #174EA6;\n",
              "    }\n",
              "\n",
              "    [theme=dark] .colab-df-convert {\n",
              "      background-color: #3B4455;\n",
              "      fill: #D2E3FC;\n",
              "    }\n",
              "\n",
              "    [theme=dark] .colab-df-convert:hover {\n",
              "      background-color: #434B5C;\n",
              "      box-shadow: 0px 1px 3px 1px rgba(0, 0, 0, 0.15);\n",
              "      filter: drop-shadow(0px 1px 2px rgba(0, 0, 0, 0.3));\n",
              "      fill: #FFFFFF;\n",
              "    }\n",
              "  </style>\n",
              "\n",
              "      <script>\n",
              "        const buttonEl =\n",
              "          document.querySelector('#df-a7b13ba4-0c00-4377-9f41-270060fd8829 button.colab-df-convert');\n",
              "        buttonEl.style.display =\n",
              "          google.colab.kernel.accessAllowed ? 'block' : 'none';\n",
              "\n",
              "        async function convertToInteractive(key) {\n",
              "          const element = document.querySelector('#df-a7b13ba4-0c00-4377-9f41-270060fd8829');\n",
              "          const dataTable =\n",
              "            await google.colab.kernel.invokeFunction('convertToInteractive',\n",
              "                                                     [key], {});\n",
              "          if (!dataTable) return;\n",
              "\n",
              "          const docLinkHtml = 'Like what you see? Visit the ' +\n",
              "            '<a target=\"_blank\" href=https://colab.research.google.com/notebooks/data_table.ipynb>data table notebook</a>'\n",
              "            + ' to learn more about interactive tables.';\n",
              "          element.innerHTML = '';\n",
              "          dataTable['output_type'] = 'display_data';\n",
              "          await google.colab.output.renderOutput(dataTable, element);\n",
              "          const docLink = document.createElement('div');\n",
              "          docLink.innerHTML = docLinkHtml;\n",
              "          element.appendChild(docLink);\n",
              "        }\n",
              "      </script>\n",
              "    </div>\n",
              "  </div>\n",
              "  "
            ]
          },
          "metadata": {},
          "execution_count": 121
        }
      ],
      "source": [
        "food.head()"
      ]
    },
    {
      "cell_type": "code",
      "execution_count": 122,
      "id": "51b74bf7",
      "metadata": {
        "colab": {
          "base_uri": "https://localhost:8080/"
        },
        "id": "51b74bf7",
        "outputId": "e0c4cb6d-9c9a-4334-9dc5-a9800c44b657"
      },
      "outputs": [
        {
          "output_type": "execute_result",
          "data": {
            "text/plain": [
              "(11399, 23)"
            ]
          },
          "metadata": {},
          "execution_count": 122
        }
      ],
      "source": [
        "food.shape"
      ]
    },
    {
      "cell_type": "code",
      "execution_count": 123,
      "id": "8513885c",
      "metadata": {
        "colab": {
          "base_uri": "https://localhost:8080/"
        },
        "id": "8513885c",
        "outputId": "af8c3f74-5285-43c0-bc3d-10e665c52637"
      },
      "outputs": [
        {
          "output_type": "stream",
          "name": "stdout",
          "text": [
            "<class 'pandas.core.frame.DataFrame'>\n",
            "RangeIndex: 11399 entries, 0 to 11398\n",
            "Data columns (total 23 columns):\n",
            " #   Column                       Non-Null Count  Dtype         \n",
            "---  ------                       --------------  -----         \n",
            " 0   ID                           11399 non-null  object        \n",
            " 1   Delivery_person_ID           11399 non-null  object        \n",
            " 2   Delivery_person_Age          10908 non-null  float64       \n",
            " 3   Delivery_person_Ratings      10892 non-null  float64       \n",
            " 4   Restaurant_latitude          11399 non-null  float64       \n",
            " 5   Restaurant_longitude         11399 non-null  float64       \n",
            " 6   Delivery_location_latitude   11399 non-null  float64       \n",
            " 7   Delivery_location_longitude  11399 non-null  float64       \n",
            " 8   Order_Date                   11399 non-null  datetime64[ns]\n",
            " 9   Time_Orderd                  10955 non-null  object        \n",
            " 10  Time_Order_picked            11399 non-null  object        \n",
            " 11  Weather                      11241 non-null  object        \n",
            " 12  Road_traffic_density         11245 non-null  object        \n",
            " 13  Vehicle_condition            11399 non-null  int64         \n",
            " 14  Type_of_order                11399 non-null  object        \n",
            " 15  Type_of_vehicle              11399 non-null  object        \n",
            " 16  multiple_deliveries          11161 non-null  float64       \n",
            " 17  Festival                     11334 non-null  object        \n",
            " 18  City                         11075 non-null  object        \n",
            " 19  Name:                        11399 non-null  object        \n",
            " 20  Days                         11399 non-null  category      \n",
            " 21  distance_km                  11399 non-null  float64       \n",
            " 22  Time_taken                   2442 non-null   float64       \n",
            "dtypes: category(1), datetime64[ns](1), float64(9), int64(1), object(11)\n",
            "memory usage: 1.9+ MB\n"
          ]
        }
      ],
      "source": [
        "food.info()"
      ]
    },
    {
      "cell_type": "markdown",
      "id": "312a7b4a",
      "metadata": {
        "id": "312a7b4a"
      },
      "source": [
        "##### checking and filling null values"
      ]
    },
    {
      "cell_type": "code",
      "execution_count": 124,
      "id": "d97642d3",
      "metadata": {
        "colab": {
          "base_uri": "https://localhost:8080/"
        },
        "id": "d97642d3",
        "outputId": "ba859682-7214-4c5a-b801-8701f9bafa14"
      },
      "outputs": [
        {
          "output_type": "execute_result",
          "data": {
            "text/plain": [
              "ID                                0\n",
              "Delivery_person_ID                0\n",
              "Delivery_person_Age             491\n",
              "Delivery_person_Ratings         507\n",
              "Restaurant_latitude               0\n",
              "Restaurant_longitude              0\n",
              "Delivery_location_latitude        0\n",
              "Delivery_location_longitude       0\n",
              "Order_Date                        0\n",
              "Time_Orderd                     444\n",
              "Time_Order_picked                 0\n",
              "Weather                         158\n",
              "Road_traffic_density            154\n",
              "Vehicle_condition                 0\n",
              "Type_of_order                     0\n",
              "Type_of_vehicle                   0\n",
              "multiple_deliveries             238\n",
              "Festival                         65\n",
              "City                            324\n",
              "Name:                             0\n",
              "Days                              0\n",
              "distance_km                       0\n",
              "Time_taken                     8957\n",
              "dtype: int64"
            ]
          },
          "metadata": {},
          "execution_count": 124
        }
      ],
      "source": [
        "food.isnull().sum()"
      ]
    },
    {
      "cell_type": "markdown",
      "id": "4ae7437e",
      "metadata": {
        "id": "4ae7437e"
      },
      "source": [
        "##### What order type is most prefered, create a piechart for type of order"
      ]
    },
    {
      "cell_type": "code",
      "execution_count": 125,
      "id": "b2056c78",
      "metadata": {
        "colab": {
          "base_uri": "https://localhost:8080/"
        },
        "id": "b2056c78",
        "outputId": "a217a153-0d61-4923-e86f-03055db23be0"
      },
      "outputs": [
        {
          "output_type": "execute_result",
          "data": {
            "text/plain": [
              "Drinks    2920\n",
              "Buffet    2870\n",
              "Snack     2815\n",
              "Meal      2794\n",
              "Name: Type_of_order, dtype: int64"
            ]
          },
          "metadata": {},
          "execution_count": 125
        }
      ],
      "source": [
        "Order_type=food['Type_of_order'].value_counts()\n",
        "Order_type"
      ]
    },
    {
      "cell_type": "code",
      "execution_count": 126,
      "id": "b75dc832",
      "metadata": {
        "colab": {
          "base_uri": "https://localhost:8080/"
        },
        "id": "b75dc832",
        "outputId": "261174e5-3b17-42ef-b304-9af9bd19071b"
      },
      "outputs": [
        {
          "output_type": "execute_result",
          "data": {
            "text/plain": [
              "0"
            ]
          },
          "metadata": {},
          "execution_count": 126
        }
      ],
      "source": [
        "Order_type=food['Type_of_order'].isnull().sum()\n",
        "Order_type"
      ]
    },
    {
      "cell_type": "code",
      "execution_count": 127,
      "id": "badfd2db",
      "metadata": {
        "colab": {
          "base_uri": "https://localhost:8080/",
          "height": 248
        },
        "id": "badfd2db",
        "outputId": "a7163b30-4c49-4aea-a126-a9878c3ec95b"
      },
      "outputs": [
        {
          "output_type": "display_data",
          "data": {
            "text/plain": [
              "<Figure size 432x288 with 1 Axes>"
            ],
            "image/png": "[encoded data removed]"
          },
          "metadata": {}
        }
      ],
      "source": [
        "plt.pie(food['Type_of_order'].value_counts().head(10), \n",
        "        labels=food['Type_of_order'].value_counts().head().index,autopct='%1.1f%%',\n",
        "        colors=['skyblue', 'orange'],startangle=90\n",
        "        \n",
        "        \n",
        "       );\n",
        "plt.legend();"
      ]
    },
    {
      "cell_type": "markdown",
      "id": "811a338f",
      "metadata": {
        "id": "811a338f"
      },
      "source": [
        "Per the analsysi, it understood that most customers enjoy drinks compared to Meals"
      ]
    },
    {
      "cell_type": "markdown",
      "id": "67168668",
      "metadata": {
        "id": "67168668"
      },
      "source": [
        "##### Does the weather inflence what people order?"
      ]
    },
    {
      "cell_type": "markdown",
      "id": "8c49a63e",
      "metadata": {
        "id": "8c49a63e"
      },
      "source": [
        "filling in null values for the weather"
      ]
    },
    {
      "cell_type": "code",
      "execution_count": 128,
      "id": "c1b10976",
      "metadata": {
        "id": "c1b10976",
        "colab": {
          "base_uri": "https://localhost:8080/"
        },
        "outputId": "cc92b259-6256-4807-d0fc-be4c27de0445"
      },
      "outputs": [
        {
          "output_type": "execute_result",
          "data": {
            "text/plain": [
              "0        non_specified\n",
              "1                Windy\n",
              "2               Stormy\n",
              "3                  Fog\n",
              "4                Sunny\n",
              "             ...      \n",
              "11394            Sunny\n",
              "11395       Sandstorms\n",
              "11396    non_specified\n",
              "11397       Sandstorms\n",
              "11398            Windy\n",
              "Name: Weather, Length: 11399, dtype: object"
            ]
          },
          "metadata": {},
          "execution_count": 128
        }
      ],
      "source": [
        "food['Weather']=food['Weather'].fillna('non_specified')\n",
        "food['Weather']"
      ]
    },
    {
      "cell_type": "code",
      "execution_count": 129,
      "id": "d10984db",
      "metadata": {
        "id": "d10984db",
        "colab": {
          "base_uri": "https://localhost:8080/"
        },
        "outputId": "a9f4882a-256e-4926-ceaa-81b7cdd9aa05"
      },
      "outputs": [
        {
          "output_type": "execute_result",
          "data": {
            "text/plain": [
              "Sunny            1975\n",
              "Windy            1948\n",
              "Sandstorms       1878\n",
              "Cloudy           1861\n",
              "Stormy           1811\n",
              "Fog              1768\n",
              "non_specified     158\n",
              "Name: Weather, dtype: int64"
            ]
          },
          "metadata": {},
          "execution_count": 129
        }
      ],
      "source": [
        "weather=food['Weather'].value_counts()\n",
        "weather"
      ]
    },
    {
      "cell_type": "code",
      "execution_count": 130,
      "id": "6068d03f",
      "metadata": {
        "id": "6068d03f",
        "colab": {
          "base_uri": "https://localhost:8080/",
          "height": 248
        },
        "outputId": "07b6cebb-fe45-41a4-95c3-185e71555b29"
      },
      "outputs": [
        {
          "output_type": "display_data",
          "data": {
            "text/plain": [
              "<Figure size 432x288 with 1 Axes>"
            ],
            "image/png": "[encoded data removed]"
          },
          "metadata": {}
        }
      ],
      "source": [
        "plt.pie(food['Weather'].value_counts().head(10), \n",
        "        labels=food['Weather'].value_counts().index,autopct='%1.1f%%',\n",
        "        colors=['skyblue', 'orange'],startangle=90\n",
        "        \n",
        "        \n",
        "       );\n"
      ]
    },
    {
      "cell_type": "code",
      "execution_count": 131,
      "id": "1fd6103b",
      "metadata": {
        "id": "1fd6103b",
        "colab": {
          "base_uri": "https://localhost:8080/"
        },
        "outputId": "4d31f8df-ef12-40f7-b783-fe6c2c43fcc9"
      },
      "outputs": [
        {
          "output_type": "execute_result",
          "data": {
            "text/plain": [
              "Type_of_order  Weather   \n",
              "Drinks         Sunny         517\n",
              "               Windy         507\n",
              "Meal           Sunny         498\n",
              "Snack          Cloudy        491\n",
              "               Windy         485\n",
              "Buffet         Sandstorms    485\n",
              "               Windy         482\n",
              "               Sunny         482\n",
              "Drinks         Stormy        481\n",
              "               Fog           478\n",
              "Name: Weather, dtype: int64"
            ]
          },
          "metadata": {},
          "execution_count": 131
        }
      ],
      "source": [
        "Order_Weather=food.groupby('Type_of_order')['Weather'].value_counts().sort_values(ascending=False).head(10)\n",
        "Order_Weather"
      ]
    },
    {
      "cell_type": "code",
      "execution_count": 132,
      "id": "b42cdd6b",
      "metadata": {
        "id": "b42cdd6b",
        "colab": {
          "base_uri": "https://localhost:8080/",
          "height": 466
        },
        "outputId": "284eb44d-9302-44bd-b58a-0879930d68a0"
      },
      "outputs": [
        {
          "output_type": "display_data",
          "data": {
            "text/plain": [
              "<Figure size 720x576 with 1 Axes>"
            ],
            "image/png": "[encoded data removed]"
          },
          "metadata": {}
        }
      ],
      "source": [
        "Order_Weather.plot(x='Order_type',y='Weather',kind='pie',autopct='%1.1f%%',figsize=(10,8));"
      ]
    },
    {
      "cell_type": "markdown",
      "id": "10beaf62",
      "metadata": {
        "id": "10beaf62"
      },
      "source": [
        "From the chart, it shows that most people prefer to have some drinks on sunny days"
      ]
    },
    {
      "cell_type": "markdown",
      "id": "712579e0",
      "metadata": {
        "id": "712579e0"
      },
      "source": [
        "##### What means of transportation delievers food faster?"
      ]
    },
    {
      "cell_type": "code",
      "execution_count": 133,
      "id": "e154f0d1",
      "metadata": {
        "id": "e154f0d1",
        "colab": {
          "base_uri": "https://localhost:8080/"
        },
        "outputId": "031edeea-6dc3-4c3c-e7db-490857bc9878"
      },
      "outputs": [
        {
          "output_type": "execute_result",
          "data": {
            "text/plain": [
              "motorcycle          6609\n",
              "scooter             3817\n",
              "electric_scooter     950\n",
              "bicycle               23\n",
              "Name: Type_of_vehicle, dtype: int64"
            ]
          },
          "metadata": {},
          "execution_count": 133
        }
      ],
      "source": [
        "Transportation=food['Type_of_vehicle'].value_counts()\n",
        "Transportation"
      ]
    },
    {
      "cell_type": "code",
      "execution_count": 134,
      "id": "9f0e7295",
      "metadata": {
        "id": "9f0e7295",
        "colab": {
          "base_uri": "https://localhost:8080/",
          "height": 568
        },
        "outputId": "d87fec68-9869-4d65-f020-cd837a828e15"
      },
      "outputs": [
        {
          "output_type": "display_data",
          "data": {
            "text/plain": [
              "<Figure size 720x576 with 1 Axes>"
            ],
            "image/png": "[encoded data removed]"
          },
          "metadata": {
            "needs_background": "light"
          }
        }
      ],
      "source": [
        "Transportation.plot(kind='bar',figsize=(10,8),fontsize=10,title=\"Barchart Representation of Type_of_vehicle\", color=\"blue\");"
      ]
    },
    {
      "cell_type": "markdown",
      "id": "b34d31da",
      "metadata": {
        "id": "b34d31da"
      },
      "source": [
        "From the graph, it is clear that motocycle is the most prefered vehince_type used by the resturant"
      ]
    },
    {
      "cell_type": "markdown",
      "id": "d70c8abb",
      "metadata": {
        "id": "d70c8abb"
      },
      "source": [
        "##### What time do people pick their orders most?"
      ]
    },
    {
      "cell_type": "code",
      "execution_count": 135,
      "id": "7bd7467a",
      "metadata": {
        "scrolled": true,
        "id": "7bd7467a",
        "colab": {
          "base_uri": "https://localhost:8080/"
        },
        "outputId": "d3f1e2d3-d6b4-49b6-8124-9f67a1e5c4b3"
      },
      "outputs": [
        {
          "output_type": "execute_result",
          "data": {
            "text/plain": [
              "19:25    133\n",
              "23:35    129\n",
              "18:40    127\n",
              "23:50    125\n",
              "17:45    124\n",
              "22:40    123\n",
              "22:45    121\n",
              "20:55    121\n",
              "20:40    118\n",
              "18:35    118\n",
              "Name: Time_Order_picked, dtype: int64"
            ]
          },
          "metadata": {},
          "execution_count": 135
        }
      ],
      "source": [
        "Time_picked=food['Time_Order_picked'].value_counts().head(10)\n",
        "Time_picked"
      ]
    },
    {
      "cell_type": "code",
      "execution_count": 136,
      "id": "d1bdad8a",
      "metadata": {
        "id": "d1bdad8a",
        "colab": {
          "base_uri": "https://localhost:8080/",
          "height": 518
        },
        "outputId": "c5c23200-094a-41c2-9d01-a052015d7962"
      },
      "outputs": [
        {
          "output_type": "display_data",
          "data": {
            "text/plain": [
              "<Figure size 720x576 with 1 Axes>"
            ],
            "image/png": "[encoded data removed]"
          },
          "metadata": {
            "needs_background": "light"
          }
        }
      ],
      "source": [
        "Time_picked.plot(kind='bar',figsize=(10,8),fontsize=10,title=\"Barchart Representation of time people pick their orders\", color=\"green\");"
      ]
    },
    {
      "cell_type": "markdown",
      "id": "7c2ab39e",
      "metadata": {
        "id": "7c2ab39e"
      },
      "source": [
        " From our analysis, it shows that most people pick their orders at 19:25"
      ]
    },
    {
      "cell_type": "markdown",
      "id": "e4921696",
      "metadata": {
        "id": "e4921696"
      },
      "source": [
        "##### At what time do people make most orders?"
      ]
    },
    {
      "cell_type": "code",
      "execution_count": 137,
      "id": "80c33489",
      "metadata": {
        "id": "80c33489",
        "colab": {
          "base_uri": "https://localhost:8080/"
        },
        "outputId": "91507156-ef9d-43d4-a89a-55a50266e4fa"
      },
      "outputs": [
        {
          "output_type": "execute_result",
          "data": {
            "text/plain": [
              "18:20    123\n",
              "20:55    122\n",
              "23:30    122\n",
              "19:15    120\n",
              "19:20    119\n",
              "18:30    118\n",
              "22:40    118\n",
              "21:45    118\n",
              "23:60    118\n",
              "23:10    117\n",
              "Name: Time_Orderd, dtype: int64"
            ]
          },
          "metadata": {},
          "execution_count": 137
        }
      ],
      "source": [
        "Time_orderd=food['Time_Orderd'].value_counts().head(10)\n",
        "Time_orderd"
      ]
    },
    {
      "cell_type": "code",
      "execution_count": 138,
      "id": "590ed0b1",
      "metadata": {
        "id": "590ed0b1",
        "colab": {
          "base_uri": "https://localhost:8080/",
          "height": 518
        },
        "outputId": "e33a8d49-584c-409e-9573-9549b4805ca0"
      },
      "outputs": [
        {
          "output_type": "display_data",
          "data": {
            "text/plain": [
              "<Figure size 720x576 with 1 Axes>"
            ],
            "image/png": "[encoded data removed]"
          },
          "metadata": {
            "needs_background": "light"
          }
        }
      ],
      "source": [
        "Time_orderd.plot(kind='bar',figsize=(10,8),fontsize=10,title=\"Barchart Representation of time people order their orders\", color=\"blue\");"
      ]
    },
    {
      "cell_type": "markdown",
      "id": "e13e1033",
      "metadata": {
        "id": "e13e1033"
      },
      "source": [
        "##### Which days are the busiest in the restaurant [which days do customers visit the restaurant the most]"
      ]
    },
    {
      "cell_type": "code",
      "execution_count": 139,
      "id": "3f379223",
      "metadata": {
        "id": "3f379223",
        "colab": {
          "base_uri": "https://localhost:8080/"
        },
        "outputId": "4cb9edb6-da75-48b0-d885-363b848d6c87"
      },
      "outputs": [
        {
          "output_type": "execute_result",
          "data": {
            "text/plain": [
              "Thursday     1887\n",
              "Monday       1868\n",
              "Wednesday    1766\n",
              "Friday       1658\n",
              "Sunday       1521\n",
              "Saturday     1360\n",
              "Tuesday      1339\n",
              "Name: Days, dtype: int64"
            ]
          },
          "metadata": {},
          "execution_count": 139
        }
      ],
      "source": [
        "Days=food['Days'].value_counts().head(10)\n",
        "Days"
      ]
    },
    {
      "cell_type": "code",
      "execution_count": null,
      "id": "ce78eba2",
      "metadata": {
        "id": "ce78eba2"
      },
      "outputs": [],
      "source": [
        "Days.plot(x='Days',kind='pie',autopct='%1.1f%%',figsize=(10,8));"
      ]
    },
    {
      "cell_type": "markdown",
      "id": "5ce6d1f0",
      "metadata": {
        "id": "5ce6d1f0"
      },
      "source": [
        "From the pie chart, it shows that Thursdays are the most preferred days customers come to the restaurant. It recorded 16.5% in comparison to Tuesday with a lowest percentage of 11.7% . "
      ]
    },
    {
      "cell_type": "markdown",
      "id": "52ad42ac",
      "metadata": {
        "id": "52ad42ac"
      },
      "source": [
        "## Machine learning scenario\n"
      ]
    },
    {
      "cell_type": "code",
      "execution_count": 141,
      "id": "3b17f804",
      "metadata": {
        "id": "3b17f804",
        "colab": {
          "base_uri": "https://localhost:8080/",
          "height": 300
        },
        "outputId": "c6708bf3-29fe-4085-e8e6-d57f1b0e128f"
      },
      "outputs": [
        {
          "output_type": "execute_result",
          "data": {
            "text/plain": [
              "       ID Delivery_person_ID  Delivery_person_Age  Delivery_person_Ratings  \\\n",
              "0  0x2318    COIMBRES13DEL01                  NaN                      NaN   \n",
              "1  0x3474     BANGRES15DEL01                 28.0                      4.6   \n",
              "2  0x9420      JAPRES09DEL03                 23.0                      4.5   \n",
              "3  0x72ee      JAPRES07DEL03                 21.0                      4.8   \n",
              "4  0xa759     CHENRES19DEL01                 31.0                      4.6   \n",
              "\n",
              "   Restaurant_latitude  Restaurant_longitude  Delivery_location_latitude  \\\n",
              "0            11.003669             76.976494                   11.043669   \n",
              "1            12.975377             77.696664                   13.085377   \n",
              "2            26.911378             75.789034                   27.001378   \n",
              "3            26.766536             75.837333                   26.856536   \n",
              "4            12.986047             80.218114                   13.096047   \n",
              "\n",
              "   Delivery_location_longitude Order_Date Time_Orderd  ... Vehicle_condition  \\\n",
              "0                    77.016494 2022-03-30         NaN  ...                 3   \n",
              "1                    77.806664 2022-03-29       20:30  ...                 0   \n",
              "2                    75.879034 2022-10-03       19:35  ...                 0   \n",
              "3                    75.927333 2022-02-04       17:15  ...                 1   \n",
              "4                    80.328114 2022-03-27       18:25  ...                 2   \n",
              "\n",
              "  Type_of_order   Type_of_vehicle  multiple_deliveries Festival  \\\n",
              "0        Drinks  electric_scooter                  1.0       No   \n",
              "1         Snack        motorcycle                  1.0       No   \n",
              "2        Drinks        motorcycle                  1.0       No   \n",
              "3          Meal           scooter                  1.0       No   \n",
              "4        Drinks           scooter                  1.0       No   \n",
              "\n",
              "            City   Name:       Days distance_km Time_taken  \n",
              "0  Metropolitian  object  Wednesday    6.232373       24.0  \n",
              "1  Metropolitian  object    Tuesday   17.076617       33.0  \n",
              "2  Metropolitian  object     Monday   13.406029       42.0  \n",
              "3  Metropolitian  object     Friday   13.413644       19.0  \n",
              "4  Metropolitian  object     Sunday   17.076259       25.0  \n",
              "\n",
              "[5 rows x 23 columns]"
            ],
            "text/html": [
              "\n",
              "  <div id=\"df-f89cec6a-dbae-4705-93bf-9217d4669d40\">\n",
              "    <div class=\"colab-df-container\">\n",
              "      <div>\n",
              "<style scoped>\n",
              "    .dataframe tbody tr th:only-of-type {\n",
              "        vertical-align: middle;\n",
              "    }\n",
              "\n",
              "    .dataframe tbody tr th {\n",
              "        vertical-align: top;\n",
              "    }\n",
              "\n",
              "    .dataframe thead th {\n",
              "        text-align: right;\n",
              "    }\n",
              "</style>\n",
              "<table border=\"1\" class=\"dataframe\">\n",
              "  <thead>\n",
              "    <tr style=\"text-align: right;\">\n",
              "      <th></th>\n",
              "      <th>ID</th>\n",
              "      <th>Delivery_person_ID</th>\n",
              "      <th>Delivery_person_Age</th>\n",
              "      <th>Delivery_person_Ratings</th>\n",
              "      <th>Restaurant_latitude</th>\n",
              "      <th>Restaurant_longitude</th>\n",
              "      <th>Delivery_location_latitude</th>\n",
              "      <th>Delivery_location_longitude</th>\n",
              "      <th>Order_Date</th>\n",
              "      <th>Time_Orderd</th>\n",
              "      <th>...</th>\n",
              "      <th>Vehicle_condition</th>\n",
              "      <th>Type_of_order</th>\n",
              "      <th>Type_of_vehicle</th>\n",
              "      <th>multiple_deliveries</th>\n",
              "      <th>Festival</th>\n",
              "      <th>City</th>\n",
              "      <th>Name:</th>\n",
              "      <th>Days</th>\n",
              "      <th>distance_km</th>\n",
              "      <th>Time_taken</th>\n",
              "    </tr>\n",
              "  </thead>\n",
              "  <tbody>\n",
              "    <tr>\n",
              "      <th>0</th>\n",
              "      <td>0x2318</td>\n",
              "      <td>COIMBRES13DEL01</td>\n",
              "      <td>NaN</td>\n",
              "      <td>NaN</td>\n",
              "      <td>11.003669</td>\n",
              "      <td>76.976494</td>\n",
              "      <td>11.043669</td>\n",
              "      <td>77.016494</td>\n",
              "      <td>2022-03-30</td>\n",
              "      <td>NaN</td>\n",
              "      <td>...</td>\n",
              "      <td>3</td>\n",
              "      <td>Drinks</td>\n",
              "      <td>electric_scooter</td>\n",
              "      <td>1.0</td>\n",
              "      <td>No</td>\n",
              "      <td>Metropolitian</td>\n",
              "      <td>object</td>\n",
              "      <td>Wednesday</td>\n",
              "      <td>6.232373</td>\n",
              "      <td>24.0</td>\n",
              "    </tr>\n",
              "    <tr>\n",
              "      <th>1</th>\n",
              "      <td>0x3474</td>\n",
              "      <td>BANGRES15DEL01</td>\n",
              "      <td>28.0</td>\n",
              "      <td>4.6</td>\n",
              "      <td>12.975377</td>\n",
              "      <td>77.696664</td>\n",
              "      <td>13.085377</td>\n",
              "      <td>77.806664</td>\n",
              "      <td>2022-03-29</td>\n",
              "      <td>20:30</td>\n",
              "      <td>...</td>\n",
              "      <td>0</td>\n",
              "      <td>Snack</td>\n",
              "      <td>motorcycle</td>\n",
              "      <td>1.0</td>\n",
              "      <td>No</td>\n",
              "      <td>Metropolitian</td>\n",
              "      <td>object</td>\n",
              "      <td>Tuesday</td>\n",
              "      <td>17.076617</td>\n",
              "      <td>33.0</td>\n",
              "    </tr>\n",
              "    <tr>\n",
              "      <th>2</th>\n",
              "      <td>0x9420</td>\n",
              "      <td>JAPRES09DEL03</td>\n",
              "      <td>23.0</td>\n",
              "      <td>4.5</td>\n",
              "      <td>26.911378</td>\n",
              "      <td>75.789034</td>\n",
              "      <td>27.001378</td>\n",
              "      <td>75.879034</td>\n",
              "      <td>2022-10-03</td>\n",
              "      <td>19:35</td>\n",
              "      <td>...</td>\n",
              "      <td>0</td>\n",
              "      <td>Drinks</td>\n",
              "      <td>motorcycle</td>\n",
              "      <td>1.0</td>\n",
              "      <td>No</td>\n",
              "      <td>Metropolitian</td>\n",
              "      <td>object</td>\n",
              "      <td>Monday</td>\n",
              "      <td>13.406029</td>\n",
              "      <td>42.0</td>\n",
              "    </tr>\n",
              "    <tr>\n",
              "      <th>3</th>\n",
              "      <td>0x72ee</td>\n",
              "      <td>JAPRES07DEL03</td>\n",
              "      <td>21.0</td>\n",
              "      <td>4.8</td>\n",
              "      <td>26.766536</td>\n",
              "      <td>75.837333</td>\n",
              "      <td>26.856536</td>\n",
              "      <td>75.927333</td>\n",
              "      <td>2022-02-04</td>\n",
              "      <td>17:15</td>\n",
              "      <td>...</td>\n",
              "      <td>1</td>\n",
              "      <td>Meal</td>\n",
              "      <td>scooter</td>\n",
              "      <td>1.0</td>\n",
              "      <td>No</td>\n",
              "      <td>Metropolitian</td>\n",
              "      <td>object</td>\n",
              "      <td>Friday</td>\n",
              "      <td>13.413644</td>\n",
              "      <td>19.0</td>\n",
              "    </tr>\n",
              "    <tr>\n",
              "      <th>4</th>\n",
              "      <td>0xa759</td>\n",
              "      <td>CHENRES19DEL01</td>\n",
              "      <td>31.0</td>\n",
              "      <td>4.6</td>\n",
              "      <td>12.986047</td>\n",
              "      <td>80.218114</td>\n",
              "      <td>13.096047</td>\n",
              "      <td>80.328114</td>\n",
              "      <td>2022-03-27</td>\n",
              "      <td>18:25</td>\n",
              "      <td>...</td>\n",
              "      <td>2</td>\n",
              "      <td>Drinks</td>\n",
              "      <td>scooter</td>\n",
              "      <td>1.0</td>\n",
              "      <td>No</td>\n",
              "      <td>Metropolitian</td>\n",
              "      <td>object</td>\n",
              "      <td>Sunday</td>\n",
              "      <td>17.076259</td>\n",
              "      <td>25.0</td>\n",
              "    </tr>\n",
              "  </tbody>\n",
              "</table>\n",
              "<p>5 rows × 23 columns</p>\n",
              "</div>\n",
              "      <button class=\"colab-df-convert\" onclick=\"convertToInteractive('df-f89cec6a-dbae-4705-93bf-9217d4669d40')\"\n",
              "              title=\"Convert this dataframe to an interactive table.\"\n",
              "              style=\"display:none;\">\n",
              "        \n",
              "  <svg xmlns=\"http://www.w3.org/2000/svg\" height=\"24px\"viewBox=\"0 0 24 24\"\n",
              "       width=\"24px\">\n",
              "    <path d=\"M0 0h24v24H0V0z\" fill=\"none\"/>\n",
              "    <path d=\"M18.56 5.44l.94 2.06.94-2.06 2.06-.94-2.06-.94-.94-2.06-.94 2.06-2.06.94zm-11 1L8.5 8.5l.94-2.06 2.06-.94-2.06-.94L8.5 2.5l-.94 2.06-2.06.94zm10 10l.94 2.06.94-2.06 2.06-.94-2.06-.94-.94-2.06-.94 2.06-2.06.94z\"/><path d=\"M17.41 7.96l-1.37-1.37c-.4-.4-.92-.59-1.43-.59-.52 0-1.04.2-1.43.59L10.3 9.45l-7.72 7.72c-.78.78-.78 2.05 0 2.83L4 21.41c.39.39.9.59 1.41.59.51 0 1.02-.2 1.41-.59l7.78-7.78 2.81-2.81c.8-.78.8-2.07 0-2.86zM5.41 20L4 18.59l7.72-7.72 1.47 1.35L5.41 20z\"/>\n",
              "  </svg>\n",
              "      </button>\n",
              "      \n",
              "  <style>\n",
              "    .colab-df-container {\n",
              "      display:flex;\n",
              "      flex-wrap:wrap;\n",
              "      gap: 12px;\n",
              "    }\n",
              "\n",
              "    .colab-df-convert {\n",
              "      background-color: #E8F0FE;\n",
              "      border: none;\n",
              "      border-radius: 50%;\n",
              "      cursor: pointer;\n",
              "      display: none;\n",
              "      fill: #1967D2;\n",
              "      height: 32px;\n",
              "      padding: 0 0 0 0;\n",
              "      width: 32px;\n",
              "    }\n",
              "\n",
              "    .colab-df-convert:hover {\n",
              "      background-color: #E2EBFA;\n",
              "      box-shadow: 0px 1px 2px rgba(60, 64, 67, 0.3), 0px 1px 3px 1px rgba(60, 64, 67, 0.15);\n",
              "      fill: #174EA6;\n",
              "    }\n",
              "\n",
              "    [theme=dark] .colab-df-convert {\n",
              "      background-color: #3B4455;\n",
              "      fill: #D2E3FC;\n",
              "    }\n",
              "\n",
              "    [theme=dark] .colab-df-convert:hover {\n",
              "      background-color: #434B5C;\n",
              "      box-shadow: 0px 1px 3px 1px rgba(0, 0, 0, 0.15);\n",
              "      filter: drop-shadow(0px 1px 2px rgba(0, 0, 0, 0.3));\n",
              "      fill: #FFFFFF;\n",
              "    }\n",
              "  </style>\n",
              "\n",
              "      <script>\n",
              "        const buttonEl =\n",
              "          document.querySelector('#df-f89cec6a-dbae-4705-93bf-9217d4669d40 button.colab-df-convert');\n",
              "        buttonEl.style.display =\n",
              "          google.colab.kernel.accessAllowed ? 'block' : 'none';\n",
              "\n",
              "        async function convertToInteractive(key) {\n",
              "          const element = document.querySelector('#df-f89cec6a-dbae-4705-93bf-9217d4669d40');\n",
              "          const dataTable =\n",
              "            await google.colab.kernel.invokeFunction('convertToInteractive',\n",
              "                                                     [key], {});\n",
              "          if (!dataTable) return;\n",
              "\n",
              "          const docLinkHtml = 'Like what you see? Visit the ' +\n",
              "            '<a target=\"_blank\" href=https://colab.research.google.com/notebooks/data_table.ipynb>data table notebook</a>'\n",
              "            + ' to learn more about interactive tables.';\n",
              "          element.innerHTML = '';\n",
              "          dataTable['output_type'] = 'display_data';\n",
              "          await google.colab.output.renderOutput(dataTable, element);\n",
              "          const docLink = document.createElement('div');\n",
              "          docLink.innerHTML = docLinkHtml;\n",
              "          element.appendChild(docLink);\n",
              "        }\n",
              "      </script>\n",
              "    </div>\n",
              "  </div>\n",
              "  "
            ]
          },
          "metadata": {},
          "execution_count": 141
        }
      ],
      "source": [
        "food.head()"
      ]
    },
    {
      "cell_type": "code",
      "execution_count": null,
      "id": "1b912092",
      "metadata": {
        "id": "1b912092"
      },
      "outputs": [],
      "source": [
        "food_delivery=food.drop(['ID','Delivery_person_ID','Delivery_person_Age','Delivery_person_Ratings','Weather','Road_traffic_density','Vehicle_condition','multiple_deliveries','Festival','City','Name:','Restaurant_latitude','Restaurant_longitude','Delivery_location_latitude','Delivery_location_longitude','Order_Date','Time_Orderd','Time_Order_picked'],axis='columns')\n",
        "food_delivery.head(10)"
      ]
    },
    {
      "cell_type": "markdown",
      "id": "1ad6d8c8",
      "metadata": {
        "id": "1ad6d8c8"
      },
      "source": [
        "### Converting some columns from words to digit using labelEncoder and fit transform"
      ]
    },
    {
      "cell_type": "code",
      "execution_count": 143,
      "id": "7a108306",
      "metadata": {
        "id": "7a108306"
      },
      "outputs": [],
      "source": [
        "from sklearn.preprocessing import LabelEncoder\n",
        "\n",
        "le_Type_of_order=LabelEncoder()\n",
        "le_Type_of_vehicle=LabelEncoder()\n",
        "le_Days=LabelEncoder()"
      ]
    },
    {
      "cell_type": "code",
      "execution_count": 144,
      "id": "db9e362a",
      "metadata": {
        "id": "db9e362a"
      },
      "outputs": [],
      "source": [
        "food_delivery['Type_of_order']=le_Type_of_order.fit_transform(food_delivery['Type_of_order'])\n",
        "food_delivery['Type_of_vehicle']=le_Type_of_vehicle.fit_transform(food_delivery['Type_of_vehicle'])\n",
        "food_delivery['Days']=le_Days.fit_transform(food_delivery['Days'])\n"
      ]
    },
    {
      "cell_type": "code",
      "execution_count": 145,
      "id": "897afa09",
      "metadata": {
        "id": "897afa09",
        "colab": {
          "base_uri": "https://localhost:8080/",
          "height": 424
        },
        "outputId": "2e61fbf9-837f-4ed0-e926-30632e9576b3"
      },
      "outputs": [
        {
          "output_type": "execute_result",
          "data": {
            "text/plain": [
              "       Type_of_order  Type_of_vehicle  Days  distance_km  Time_taken\n",
              "0                  1                1     6     6.232373        24.0\n",
              "1                  3                2     5    17.076617        33.0\n",
              "2                  1                2     1    13.406029        42.0\n",
              "3                  2                3     0    13.413644        19.0\n",
              "4                  1                3     3    17.076259        25.0\n",
              "...              ...              ...   ...          ...         ...\n",
              "11394              3                3     3    16.384901         NaN\n",
              "11395              1                3     4     1.489842         NaN\n",
              "11396              1                3     4     9.121874         NaN\n",
              "11397              2                2     0    19.687777         NaN\n",
              "11398              1                2     4     7.760928         NaN\n",
              "\n",
              "[11399 rows x 5 columns]"
            ],
            "text/html": [
              "\n",
              "  <div id=\"df-79c4f75c-59bb-4a73-8be8-5a9d668b576f\">\n",
              "    <div class=\"colab-df-container\">\n",
              "      <div>\n",
              "<style scoped>\n",
              "    .dataframe tbody tr th:only-of-type {\n",
              "        vertical-align: middle;\n",
              "    }\n",
              "\n",
              "    .dataframe tbody tr th {\n",
              "        vertical-align: top;\n",
              "    }\n",
              "\n",
              "    .dataframe thead th {\n",
              "        text-align: right;\n",
              "    }\n",
              "</style>\n",
              "<table border=\"1\" class=\"dataframe\">\n",
              "  <thead>\n",
              "    <tr style=\"text-align: right;\">\n",
              "      <th></th>\n",
              "      <th>Type_of_order</th>\n",
              "      <th>Type_of_vehicle</th>\n",
              "      <th>Days</th>\n",
              "      <th>distance_km</th>\n",
              "      <th>Time_taken</th>\n",
              "    </tr>\n",
              "  </thead>\n",
              "  <tbody>\n",
              "    <tr>\n",
              "      <th>0</th>\n",
              "      <td>1</td>\n",
              "      <td>1</td>\n",
              "      <td>6</td>\n",
              "      <td>6.232373</td>\n",
              "      <td>24.0</td>\n",
              "    </tr>\n",
              "    <tr>\n",
              "      <th>1</th>\n",
              "      <td>3</td>\n",
              "      <td>2</td>\n",
              "      <td>5</td>\n",
              "      <td>17.076617</td>\n",
              "      <td>33.0</td>\n",
              "    </tr>\n",
              "    <tr>\n",
              "      <th>2</th>\n",
              "      <td>1</td>\n",
              "      <td>2</td>\n",
              "      <td>1</td>\n",
              "      <td>13.406029</td>\n",
              "      <td>42.0</td>\n",
              "    </tr>\n",
              "    <tr>\n",
              "      <th>3</th>\n",
              "      <td>2</td>\n",
              "      <td>3</td>\n",
              "      <td>0</td>\n",
              "      <td>13.413644</td>\n",
              "      <td>19.0</td>\n",
              "    </tr>\n",
              "    <tr>\n",
              "      <th>4</th>\n",
              "      <td>1</td>\n",
              "      <td>3</td>\n",
              "      <td>3</td>\n",
              "      <td>17.076259</td>\n",
              "      <td>25.0</td>\n",
              "    </tr>\n",
              "    <tr>\n",
              "      <th>...</th>\n",
              "      <td>...</td>\n",
              "      <td>...</td>\n",
              "      <td>...</td>\n",
              "      <td>...</td>\n",
              "      <td>...</td>\n",
              "    </tr>\n",
              "    <tr>\n",
              "      <th>11394</th>\n",
              "      <td>3</td>\n",
              "      <td>3</td>\n",
              "      <td>3</td>\n",
              "      <td>16.384901</td>\n",
              "      <td>NaN</td>\n",
              "    </tr>\n",
              "    <tr>\n",
              "      <th>11395</th>\n",
              "      <td>1</td>\n",
              "      <td>3</td>\n",
              "      <td>4</td>\n",
              "      <td>1.489842</td>\n",
              "      <td>NaN</td>\n",
              "    </tr>\n",
              "    <tr>\n",
              "      <th>11396</th>\n",
              "      <td>1</td>\n",
              "      <td>3</td>\n",
              "      <td>4</td>\n",
              "      <td>9.121874</td>\n",
              "      <td>NaN</td>\n",
              "    </tr>\n",
              "    <tr>\n",
              "      <th>11397</th>\n",
              "      <td>2</td>\n",
              "      <td>2</td>\n",
              "      <td>0</td>\n",
              "      <td>19.687777</td>\n",
              "      <td>NaN</td>\n",
              "    </tr>\n",
              "    <tr>\n",
              "      <th>11398</th>\n",
              "      <td>1</td>\n",
              "      <td>2</td>\n",
              "      <td>4</td>\n",
              "      <td>7.760928</td>\n",
              "      <td>NaN</td>\n",
              "    </tr>\n",
              "  </tbody>\n",
              "</table>\n",
              "<p>11399 rows × 5 columns</p>\n",
              "</div>\n",
              "      <button class=\"colab-df-convert\" onclick=\"convertToInteractive('df-79c4f75c-59bb-4a73-8be8-5a9d668b576f')\"\n",
              "              title=\"Convert this dataframe to an interactive table.\"\n",
              "              style=\"display:none;\">\n",
              "        \n",
              "  <svg xmlns=\"http://www.w3.org/2000/svg\" height=\"24px\"viewBox=\"0 0 24 24\"\n",
              "       width=\"24px\">\n",
              "    <path d=\"M0 0h24v24H0V0z\" fill=\"none\"/>\n",
              "    <path d=\"M18.56 5.44l.94 2.06.94-2.06 2.06-.94-2.06-.94-.94-2.06-.94 2.06-2.06.94zm-11 1L8.5 8.5l.94-2.06 2.06-.94-2.06-.94L8.5 2.5l-.94 2.06-2.06.94zm10 10l.94 2.06.94-2.06 2.06-.94-2.06-.94-.94-2.06-.94 2.06-2.06.94z\"/><path d=\"M17.41 7.96l-1.37-1.37c-.4-.4-.92-.59-1.43-.59-.52 0-1.04.2-1.43.59L10.3 9.45l-7.72 7.72c-.78.78-.78 2.05 0 2.83L4 21.41c.39.39.9.59 1.41.59.51 0 1.02-.2 1.41-.59l7.78-7.78 2.81-2.81c.8-.78.8-2.07 0-2.86zM5.41 20L4 18.59l7.72-7.72 1.47 1.35L5.41 20z\"/>\n",
              "  </svg>\n",
              "      </button>\n",
              "      \n",
              "  <style>\n",
              "    .colab-df-container {\n",
              "      display:flex;\n",
              "      flex-wrap:wrap;\n",
              "      gap: 12px;\n",
              "    }\n",
              "\n",
              "    .colab-df-convert {\n",
              "      background-color: #E8F0FE;\n",
              "      border: none;\n",
              "      border-radius: 50%;\n",
              "      cursor: pointer;\n",
              "      display: none;\n",
              "      fill: #1967D2;\n",
              "      height: 32px;\n",
              "      padding: 0 0 0 0;\n",
              "      width: 32px;\n",
              "    }\n",
              "\n",
              "    .colab-df-convert:hover {\n",
              "      background-color: #E2EBFA;\n",
              "      box-shadow: 0px 1px 2px rgba(60, 64, 67, 0.3), 0px 1px 3px 1px rgba(60, 64, 67, 0.15);\n",
              "      fill: #174EA6;\n",
              "    }\n",
              "\n",
              "    [theme=dark] .colab-df-convert {\n",
              "      background-color: #3B4455;\n",
              "      fill: #D2E3FC;\n",
              "    }\n",
              "\n",
              "    [theme=dark] .colab-df-convert:hover {\n",
              "      background-color: #434B5C;\n",
              "      box-shadow: 0px 1px 3px 1px rgba(0, 0, 0, 0.15);\n",
              "      filter: drop-shadow(0px 1px 2px rgba(0, 0, 0, 0.3));\n",
              "      fill: #FFFFFF;\n",
              "    }\n",
              "  </style>\n",
              "\n",
              "      <script>\n",
              "        const buttonEl =\n",
              "          document.querySelector('#df-79c4f75c-59bb-4a73-8be8-5a9d668b576f button.colab-df-convert');\n",
              "        buttonEl.style.display =\n",
              "          google.colab.kernel.accessAllowed ? 'block' : 'none';\n",
              "\n",
              "        async function convertToInteractive(key) {\n",
              "          const element = document.querySelector('#df-79c4f75c-59bb-4a73-8be8-5a9d668b576f');\n",
              "          const dataTable =\n",
              "            await google.colab.kernel.invokeFunction('convertToInteractive',\n",
              "                                                     [key], {});\n",
              "          if (!dataTable) return;\n",
              "\n",
              "          const docLinkHtml = 'Like what you see? Visit the ' +\n",
              "            '<a target=\"_blank\" href=https://colab.research.google.com/notebooks/data_table.ipynb>data table notebook</a>'\n",
              "            + ' to learn more about interactive tables.';\n",
              "          element.innerHTML = '';\n",
              "          dataTable['output_type'] = 'display_data';\n",
              "          await google.colab.output.renderOutput(dataTable, element);\n",
              "          const docLink = document.createElement('div');\n",
              "          docLink.innerHTML = docLinkHtml;\n",
              "          element.appendChild(docLink);\n",
              "        }\n",
              "      </script>\n",
              "    </div>\n",
              "  </div>\n",
              "  "
            ]
          },
          "metadata": {},
          "execution_count": 145
        }
      ],
      "source": [
        "food_delivery"
      ]
    },
    {
      "cell_type": "markdown",
      "id": "a472b143",
      "metadata": {
        "id": "a472b143"
      },
      "source": [
        "checking and filling null values in Time_taken column"
      ]
    },
    {
      "cell_type": "code",
      "execution_count": 146,
      "id": "036bcfd3",
      "metadata": {
        "id": "036bcfd3"
      },
      "outputs": [],
      "source": [
        "import math"
      ]
    },
    {
      "cell_type": "code",
      "execution_count": 147,
      "id": "d5a6b47e",
      "metadata": {
        "id": "d5a6b47e",
        "colab": {
          "base_uri": "https://localhost:8080/"
        },
        "outputId": "d728bc0a-c972-4b57-abee-a6d3923bfa2f"
      },
      "outputs": [
        {
          "output_type": "execute_result",
          "data": {
            "text/plain": [
              "26"
            ]
          },
          "metadata": {},
          "execution_count": 147
        }
      ],
      "source": [
        "inputs=math.floor(food_delivery['Time_taken'].median())\n",
        "inputs"
      ]
    },
    {
      "cell_type": "code",
      "execution_count": 148,
      "id": "5c66cc08",
      "metadata": {
        "id": "5c66cc08",
        "colab": {
          "base_uri": "https://localhost:8080/",
          "height": 363
        },
        "outputId": "01fcdecc-49a3-4a32-da14-8d8e7b196d4e"
      },
      "outputs": [
        {
          "output_type": "execute_result",
          "data": {
            "text/plain": [
              "   Type_of_order  Type_of_vehicle  Days  distance_km  Time_taken\n",
              "0              1                1     6     6.232373        24.0\n",
              "1              3                2     5    17.076617        33.0\n",
              "2              1                2     1    13.406029        42.0\n",
              "3              2                3     0    13.413644        19.0\n",
              "4              1                3     3    17.076259        25.0\n",
              "5              1                2     5     1.543933        14.0\n",
              "6              0                3     5     3.105485        29.0\n",
              "7              2                2     3     7.567851        22.0\n",
              "8              3                3     4    13.989512        28.0\n",
              "9              2                2     6     4.610614        12.0"
            ],
            "text/html": [
              "\n",
              "  <div id=\"df-1222a420-187c-4422-97f8-0a453c11bda9\">\n",
              "    <div class=\"colab-df-container\">\n",
              "      <div>\n",
              "<style scoped>\n",
              "    .dataframe tbody tr th:only-of-type {\n",
              "        vertical-align: middle;\n",
              "    }\n",
              "\n",
              "    .dataframe tbody tr th {\n",
              "        vertical-align: top;\n",
              "    }\n",
              "\n",
              "    .dataframe thead th {\n",
              "        text-align: right;\n",
              "    }\n",
              "</style>\n",
              "<table border=\"1\" class=\"dataframe\">\n",
              "  <thead>\n",
              "    <tr style=\"text-align: right;\">\n",
              "      <th></th>\n",
              "      <th>Type_of_order</th>\n",
              "      <th>Type_of_vehicle</th>\n",
              "      <th>Days</th>\n",
              "      <th>distance_km</th>\n",
              "      <th>Time_taken</th>\n",
              "    </tr>\n",
              "  </thead>\n",
              "  <tbody>\n",
              "    <tr>\n",
              "      <th>0</th>\n",
              "      <td>1</td>\n",
              "      <td>1</td>\n",
              "      <td>6</td>\n",
              "      <td>6.232373</td>\n",
              "      <td>24.0</td>\n",
              "    </tr>\n",
              "    <tr>\n",
              "      <th>1</th>\n",
              "      <td>3</td>\n",
              "      <td>2</td>\n",
              "      <td>5</td>\n",
              "      <td>17.076617</td>\n",
              "      <td>33.0</td>\n",
              "    </tr>\n",
              "    <tr>\n",
              "      <th>2</th>\n",
              "      <td>1</td>\n",
              "      <td>2</td>\n",
              "      <td>1</td>\n",
              "      <td>13.406029</td>\n",
              "      <td>42.0</td>\n",
              "    </tr>\n",
              "    <tr>\n",
              "      <th>3</th>\n",
              "      <td>2</td>\n",
              "      <td>3</td>\n",
              "      <td>0</td>\n",
              "      <td>13.413644</td>\n",
              "      <td>19.0</td>\n",
              "    </tr>\n",
              "    <tr>\n",
              "      <th>4</th>\n",
              "      <td>1</td>\n",
              "      <td>3</td>\n",
              "      <td>3</td>\n",
              "      <td>17.076259</td>\n",
              "      <td>25.0</td>\n",
              "    </tr>\n",
              "    <tr>\n",
              "      <th>5</th>\n",
              "      <td>1</td>\n",
              "      <td>2</td>\n",
              "      <td>5</td>\n",
              "      <td>1.543933</td>\n",
              "      <td>14.0</td>\n",
              "    </tr>\n",
              "    <tr>\n",
              "      <th>6</th>\n",
              "      <td>0</td>\n",
              "      <td>3</td>\n",
              "      <td>5</td>\n",
              "      <td>3.105485</td>\n",
              "      <td>29.0</td>\n",
              "    </tr>\n",
              "    <tr>\n",
              "      <th>7</th>\n",
              "      <td>2</td>\n",
              "      <td>2</td>\n",
              "      <td>3</td>\n",
              "      <td>7.567851</td>\n",
              "      <td>22.0</td>\n",
              "    </tr>\n",
              "    <tr>\n",
              "      <th>8</th>\n",
              "      <td>3</td>\n",
              "      <td>3</td>\n",
              "      <td>4</td>\n",
              "      <td>13.989512</td>\n",
              "      <td>28.0</td>\n",
              "    </tr>\n",
              "    <tr>\n",
              "      <th>9</th>\n",
              "      <td>2</td>\n",
              "      <td>2</td>\n",
              "      <td>6</td>\n",
              "      <td>4.610614</td>\n",
              "      <td>12.0</td>\n",
              "    </tr>\n",
              "  </tbody>\n",
              "</table>\n",
              "</div>\n",
              "      <button class=\"colab-df-convert\" onclick=\"convertToInteractive('df-1222a420-187c-4422-97f8-0a453c11bda9')\"\n",
              "              title=\"Convert this dataframe to an interactive table.\"\n",
              "              style=\"display:none;\">\n",
              "        \n",
              "  <svg xmlns=\"http://www.w3.org/2000/svg\" height=\"24px\"viewBox=\"0 0 24 24\"\n",
              "       width=\"24px\">\n",
              "    <path d=\"M0 0h24v24H0V0z\" fill=\"none\"/>\n",
              "    <path d=\"M18.56 5.44l.94 2.06.94-2.06 2.06-.94-2.06-.94-.94-2.06-.94 2.06-2.06.94zm-11 1L8.5 8.5l.94-2.06 2.06-.94-2.06-.94L8.5 2.5l-.94 2.06-2.06.94zm10 10l.94 2.06.94-2.06 2.06-.94-2.06-.94-.94-2.06-.94 2.06-2.06.94z\"/><path d=\"M17.41 7.96l-1.37-1.37c-.4-.4-.92-.59-1.43-.59-.52 0-1.04.2-1.43.59L10.3 9.45l-7.72 7.72c-.78.78-.78 2.05 0 2.83L4 21.41c.39.39.9.59 1.41.59.51 0 1.02-.2 1.41-.59l7.78-7.78 2.81-2.81c.8-.78.8-2.07 0-2.86zM5.41 20L4 18.59l7.72-7.72 1.47 1.35L5.41 20z\"/>\n",
              "  </svg>\n",
              "      </button>\n",
              "      \n",
              "  <style>\n",
              "    .colab-df-container {\n",
              "      display:flex;\n",
              "      flex-wrap:wrap;\n",
              "      gap: 12px;\n",
              "    }\n",
              "\n",
              "    .colab-df-convert {\n",
              "      background-color: #E8F0FE;\n",
              "      border: none;\n",
              "      border-radius: 50%;\n",
              "      cursor: pointer;\n",
              "      display: none;\n",
              "      fill: #1967D2;\n",
              "      height: 32px;\n",
              "      padding: 0 0 0 0;\n",
              "      width: 32px;\n",
              "    }\n",
              "\n",
              "    .colab-df-convert:hover {\n",
              "      background-color: #E2EBFA;\n",
              "      box-shadow: 0px 1px 2px rgba(60, 64, 67, 0.3), 0px 1px 3px 1px rgba(60, 64, 67, 0.15);\n",
              "      fill: #174EA6;\n",
              "    }\n",
              "\n",
              "    [theme=dark] .colab-df-convert {\n",
              "      background-color: #3B4455;\n",
              "      fill: #D2E3FC;\n",
              "    }\n",
              "\n",
              "    [theme=dark] .colab-df-convert:hover {\n",
              "      background-color: #434B5C;\n",
              "      box-shadow: 0px 1px 3px 1px rgba(0, 0, 0, 0.15);\n",
              "      filter: drop-shadow(0px 1px 2px rgba(0, 0, 0, 0.3));\n",
              "      fill: #FFFFFF;\n",
              "    }\n",
              "  </style>\n",
              "\n",
              "      <script>\n",
              "        const buttonEl =\n",
              "          document.querySelector('#df-1222a420-187c-4422-97f8-0a453c11bda9 button.colab-df-convert');\n",
              "        buttonEl.style.display =\n",
              "          google.colab.kernel.accessAllowed ? 'block' : 'none';\n",
              "\n",
              "        async function convertToInteractive(key) {\n",
              "          const element = document.querySelector('#df-1222a420-187c-4422-97f8-0a453c11bda9');\n",
              "          const dataTable =\n",
              "            await google.colab.kernel.invokeFunction('convertToInteractive',\n",
              "                                                     [key], {});\n",
              "          if (!dataTable) return;\n",
              "\n",
              "          const docLinkHtml = 'Like what you see? Visit the ' +\n",
              "            '<a target=\"_blank\" href=https://colab.research.google.com/notebooks/data_table.ipynb>data table notebook</a>'\n",
              "            + ' to learn more about interactive tables.';\n",
              "          element.innerHTML = '';\n",
              "          dataTable['output_type'] = 'display_data';\n",
              "          await google.colab.output.renderOutput(dataTable, element);\n",
              "          const docLink = document.createElement('div');\n",
              "          docLink.innerHTML = docLinkHtml;\n",
              "          element.appendChild(docLink);\n",
              "        }\n",
              "      </script>\n",
              "    </div>\n",
              "  </div>\n",
              "  "
            ]
          },
          "metadata": {},
          "execution_count": 148
        }
      ],
      "source": [
        "input=food_delivery.fillna(inputs)\n",
        "input.head(10)"
      ]
    },
    {
      "cell_type": "code",
      "execution_count": 149,
      "id": "3654e39e",
      "metadata": {
        "id": "3654e39e",
        "colab": {
          "base_uri": "https://localhost:8080/"
        },
        "outputId": "63c9c334-dd8f-43df-fa84-0915655cc8ba"
      },
      "outputs": [
        {
          "output_type": "execute_result",
          "data": {
            "text/plain": [
              "Type_of_order      0\n",
              "Type_of_vehicle    0\n",
              "Days               0\n",
              "distance_km        0\n",
              "Time_taken         0\n",
              "dtype: int64"
            ]
          },
          "metadata": {},
          "execution_count": 149
        }
      ],
      "source": [
        "input.isnull().sum()"
      ]
    },
    {
      "cell_type": "markdown",
      "id": "a4038c85",
      "metadata": {
        "id": "a4038c85"
      },
      "source": [
        "Dropping out the target variable"
      ]
    },
    {
      "cell_type": "code",
      "execution_count": 150,
      "id": "e8837721",
      "metadata": {
        "id": "e8837721",
        "colab": {
          "base_uri": "https://localhost:8080/"
        },
        "outputId": "c884f59e-022e-4363-942c-bfe7387e99d6"
      },
      "outputs": [
        {
          "output_type": "execute_result",
          "data": {
            "text/plain": [
              "0        24.0\n",
              "1        33.0\n",
              "2        42.0\n",
              "3        19.0\n",
              "4        25.0\n",
              "         ... \n",
              "11394    26.0\n",
              "11395    26.0\n",
              "11396    26.0\n",
              "11397    26.0\n",
              "11398    26.0\n",
              "Name: Time_taken, Length: 11399, dtype: float64"
            ]
          },
          "metadata": {},
          "execution_count": 150
        }
      ],
      "source": [
        "inputs=input.drop(['Time_taken'],axis='columns')\n",
        "target=input['Time_taken']\n",
        "target"
      ]
    },
    {
      "cell_type": "code",
      "execution_count": 151,
      "id": "638ac83d",
      "metadata": {
        "id": "638ac83d",
        "colab": {
          "base_uri": "https://localhost:8080/",
          "height": 424
        },
        "outputId": "c6a98c87-a1b9-4f34-c3e4-d80ca97d0c4d"
      },
      "outputs": [
        {
          "output_type": "execute_result",
          "data": {
            "text/plain": [
              "       Type_of_order  Type_of_vehicle  Days  distance_km\n",
              "0                  1                1     6     6.232373\n",
              "1                  3                2     5    17.076617\n",
              "2                  1                2     1    13.406029\n",
              "3                  2                3     0    13.413644\n",
              "4                  1                3     3    17.076259\n",
              "...              ...              ...   ...          ...\n",
              "11394              3                3     3    16.384901\n",
              "11395              1                3     4     1.489842\n",
              "11396              1                3     4     9.121874\n",
              "11397              2                2     0    19.687777\n",
              "11398              1                2     4     7.760928\n",
              "\n",
              "[11399 rows x 4 columns]"
            ],
            "text/html": [
              "\n",
              "  <div id=\"df-ab047984-4ab2-4a43-aecc-7d556e969337\">\n",
              "    <div class=\"colab-df-container\">\n",
              "      <div>\n",
              "<style scoped>\n",
              "    .dataframe tbody tr th:only-of-type {\n",
              "        vertical-align: middle;\n",
              "    }\n",
              "\n",
              "    .dataframe tbody tr th {\n",
              "        vertical-align: top;\n",
              "    }\n",
              "\n",
              "    .dataframe thead th {\n",
              "        text-align: right;\n",
              "    }\n",
              "</style>\n",
              "<table border=\"1\" class=\"dataframe\">\n",
              "  <thead>\n",
              "    <tr style=\"text-align: right;\">\n",
              "      <th></th>\n",
              "      <th>Type_of_order</th>\n",
              "      <th>Type_of_vehicle</th>\n",
              "      <th>Days</th>\n",
              "      <th>distance_km</th>\n",
              "    </tr>\n",
              "  </thead>\n",
              "  <tbody>\n",
              "    <tr>\n",
              "      <th>0</th>\n",
              "      <td>1</td>\n",
              "      <td>1</td>\n",
              "      <td>6</td>\n",
              "      <td>6.232373</td>\n",
              "    </tr>\n",
              "    <tr>\n",
              "      <th>1</th>\n",
              "      <td>3</td>\n",
              "      <td>2</td>\n",
              "      <td>5</td>\n",
              "      <td>17.076617</td>\n",
              "    </tr>\n",
              "    <tr>\n",
              "      <th>2</th>\n",
              "      <td>1</td>\n",
              "      <td>2</td>\n",
              "      <td>1</td>\n",
              "      <td>13.406029</td>\n",
              "    </tr>\n",
              "    <tr>\n",
              "      <th>3</th>\n",
              "      <td>2</td>\n",
              "      <td>3</td>\n",
              "      <td>0</td>\n",
              "      <td>13.413644</td>\n",
              "    </tr>\n",
              "    <tr>\n",
              "      <th>4</th>\n",
              "      <td>1</td>\n",
              "      <td>3</td>\n",
              "      <td>3</td>\n",
              "      <td>17.076259</td>\n",
              "    </tr>\n",
              "    <tr>\n",
              "      <th>...</th>\n",
              "      <td>...</td>\n",
              "      <td>...</td>\n",
              "      <td>...</td>\n",
              "      <td>...</td>\n",
              "    </tr>\n",
              "    <tr>\n",
              "      <th>11394</th>\n",
              "      <td>3</td>\n",
              "      <td>3</td>\n",
              "      <td>3</td>\n",
              "      <td>16.384901</td>\n",
              "    </tr>\n",
              "    <tr>\n",
              "      <th>11395</th>\n",
              "      <td>1</td>\n",
              "      <td>3</td>\n",
              "      <td>4</td>\n",
              "      <td>1.489842</td>\n",
              "    </tr>\n",
              "    <tr>\n",
              "      <th>11396</th>\n",
              "      <td>1</td>\n",
              "      <td>3</td>\n",
              "      <td>4</td>\n",
              "      <td>9.121874</td>\n",
              "    </tr>\n",
              "    <tr>\n",
              "      <th>11397</th>\n",
              "      <td>2</td>\n",
              "      <td>2</td>\n",
              "      <td>0</td>\n",
              "      <td>19.687777</td>\n",
              "    </tr>\n",
              "    <tr>\n",
              "      <th>11398</th>\n",
              "      <td>1</td>\n",
              "      <td>2</td>\n",
              "      <td>4</td>\n",
              "      <td>7.760928</td>\n",
              "    </tr>\n",
              "  </tbody>\n",
              "</table>\n",
              "<p>11399 rows × 4 columns</p>\n",
              "</div>\n",
              "      <button class=\"colab-df-convert\" onclick=\"convertToInteractive('df-ab047984-4ab2-4a43-aecc-7d556e969337')\"\n",
              "              title=\"Convert this dataframe to an interactive table.\"\n",
              "              style=\"display:none;\">\n",
              "        \n",
              "  <svg xmlns=\"http://www.w3.org/2000/svg\" height=\"24px\"viewBox=\"0 0 24 24\"\n",
              "       width=\"24px\">\n",
              "    <path d=\"M0 0h24v24H0V0z\" fill=\"none\"/>\n",
              "    <path d=\"M18.56 5.44l.94 2.06.94-2.06 2.06-.94-2.06-.94-.94-2.06-.94 2.06-2.06.94zm-11 1L8.5 8.5l.94-2.06 2.06-.94-2.06-.94L8.5 2.5l-.94 2.06-2.06.94zm10 10l.94 2.06.94-2.06 2.06-.94-2.06-.94-.94-2.06-.94 2.06-2.06.94z\"/><path d=\"M17.41 7.96l-1.37-1.37c-.4-.4-.92-.59-1.43-.59-.52 0-1.04.2-1.43.59L10.3 9.45l-7.72 7.72c-.78.78-.78 2.05 0 2.83L4 21.41c.39.39.9.59 1.41.59.51 0 1.02-.2 1.41-.59l7.78-7.78 2.81-2.81c.8-.78.8-2.07 0-2.86zM5.41 20L4 18.59l7.72-7.72 1.47 1.35L5.41 20z\"/>\n",
              "  </svg>\n",
              "      </button>\n",
              "      \n",
              "  <style>\n",
              "    .colab-df-container {\n",
              "      display:flex;\n",
              "      flex-wrap:wrap;\n",
              "      gap: 12px;\n",
              "    }\n",
              "\n",
              "    .colab-df-convert {\n",
              "      background-color: #E8F0FE;\n",
              "      border: none;\n",
              "      border-radius: 50%;\n",
              "      cursor: pointer;\n",
              "      display: none;\n",
              "      fill: #1967D2;\n",
              "      height: 32px;\n",
              "      padding: 0 0 0 0;\n",
              "      width: 32px;\n",
              "    }\n",
              "\n",
              "    .colab-df-convert:hover {\n",
              "      background-color: #E2EBFA;\n",
              "      box-shadow: 0px 1px 2px rgba(60, 64, 67, 0.3), 0px 1px 3px 1px rgba(60, 64, 67, 0.15);\n",
              "      fill: #174EA6;\n",
              "    }\n",
              "\n",
              "    [theme=dark] .colab-df-convert {\n",
              "      background-color: #3B4455;\n",
              "      fill: #D2E3FC;\n",
              "    }\n",
              "\n",
              "    [theme=dark] .colab-df-convert:hover {\n",
              "      background-color: #434B5C;\n",
              "      box-shadow: 0px 1px 3px 1px rgba(0, 0, 0, 0.15);\n",
              "      filter: drop-shadow(0px 1px 2px rgba(0, 0, 0, 0.3));\n",
              "      fill: #FFFFFF;\n",
              "    }\n",
              "  </style>\n",
              "\n",
              "      <script>\n",
              "        const buttonEl =\n",
              "          document.querySelector('#df-ab047984-4ab2-4a43-aecc-7d556e969337 button.colab-df-convert');\n",
              "        buttonEl.style.display =\n",
              "          google.colab.kernel.accessAllowed ? 'block' : 'none';\n",
              "\n",
              "        async function convertToInteractive(key) {\n",
              "          const element = document.querySelector('#df-ab047984-4ab2-4a43-aecc-7d556e969337');\n",
              "          const dataTable =\n",
              "            await google.colab.kernel.invokeFunction('convertToInteractive',\n",
              "                                                     [key], {});\n",
              "          if (!dataTable) return;\n",
              "\n",
              "          const docLinkHtml = 'Like what you see? Visit the ' +\n",
              "            '<a target=\"_blank\" href=https://colab.research.google.com/notebooks/data_table.ipynb>data table notebook</a>'\n",
              "            + ' to learn more about interactive tables.';\n",
              "          element.innerHTML = '';\n",
              "          dataTable['output_type'] = 'display_data';\n",
              "          await google.colab.output.renderOutput(dataTable, element);\n",
              "          const docLink = document.createElement('div');\n",
              "          docLink.innerHTML = docLinkHtml;\n",
              "          element.appendChild(docLink);\n",
              "        }\n",
              "      </script>\n",
              "    </div>\n",
              "  </div>\n",
              "  "
            ]
          },
          "metadata": {},
          "execution_count": 151
        }
      ],
      "source": [
        "inputs"
      ]
    },
    {
      "cell_type": "code",
      "execution_count": 152,
      "id": "d11e8c06",
      "metadata": {
        "id": "d11e8c06"
      },
      "outputs": [],
      "source": [
        "from sklearn import tree\n",
        "model=tree.DecisionTreeClassifier()\n"
      ]
    },
    {
      "cell_type": "code",
      "execution_count": 153,
      "id": "962c83fe",
      "metadata": {
        "id": "962c83fe",
        "colab": {
          "base_uri": "https://localhost:8080/"
        },
        "outputId": "62c2dc96-9e7c-432c-fa78-1ae6594f3a3b"
      },
      "outputs": [
        {
          "output_type": "execute_result",
          "data": {
            "text/plain": [
              "DecisionTreeClassifier()"
            ]
          },
          "metadata": {},
          "execution_count": 153
        }
      ],
      "source": [
        "model.fit(inputs,target)"
      ]
    },
    {
      "cell_type": "markdown",
      "id": "5176b2b0",
      "metadata": {
        "id": "5176b2b0"
      },
      "source": [
        "##### Mrs Ndidi ordered meals at the amazon restaurant on Thursday morning. Predict how long before she received her order if the delivery man used motorcycle bearing in mind that the customer  stays 9.760928 km away from the restaurant."
      ]
    },
    {
      "cell_type": "code",
      "execution_count": 154,
      "id": "89710736",
      "metadata": {
        "id": "89710736",
        "colab": {
          "base_uri": "https://localhost:8080/"
        },
        "outputId": "dc775c0e-d6e8-4395-bceb-333dbfb5f3ee"
      },
      "outputs": [
        {
          "output_type": "stream",
          "name": "stderr",
          "text": [
            "/usr/local/lib/python3.8/dist-packages/sklearn/base.py:450: UserWarning: X does not have valid feature names, but DecisionTreeClassifier was fitted with feature names\n",
            "  warnings.warn(\n"
          ]
        },
        {
          "output_type": "execute_result",
          "data": {
            "text/plain": [
              "array([26.])"
            ]
          },
          "metadata": {},
          "execution_count": 154
        }
      ],
      "source": [
        "model.predict([[2,4,5,9.760928 ]])"
      ]
    },
    {
      "cell_type": "markdown",
      "id": "41c6e4d6",
      "metadata": {
        "id": "41c6e4d6"
      },
      "source": [
        "According to our analysis, it indicates that the customer will receive her order in 26 minutes"
      ]
    },
    {
      "cell_type": "code",
      "execution_count": 155,
      "id": "6c9e4835",
      "metadata": {
        "id": "6c9e4835",
        "colab": {
          "base_uri": "https://localhost:8080/"
        },
        "outputId": "994a8590-1a00-4bfe-e2c8-e5f50e0abf6c"
      },
      "outputs": [
        {
          "output_type": "execute_result",
          "data": {
            "text/plain": [
              "0.9840336871655408"
            ]
          },
          "metadata": {},
          "execution_count": 155
        }
      ],
      "source": [
        "model.score(inputs,target)"
      ]
    },
    {
      "cell_type": "markdown",
      "id": "06c58a84",
      "metadata": {
        "id": "06c58a84"
      },
      "source": [
        "Our model shows an accuracy score of 98%"
      ]
    },
    {
      "cell_type": "markdown",
      "source": [
        "using linear regression model\n"
      ],
      "metadata": {
        "id": "mk9DOGJBCeuZ"
      },
      "id": "mk9DOGJBCeuZ"
    },
    {
      "cell_type": "code",
      "source": [
        "from sklearn import linear_model"
      ],
      "metadata": {
        "id": "T8U9ACfqFhh6"
      },
      "id": "T8U9ACfqFhh6",
      "execution_count": 156,
      "outputs": []
    },
    {
      "cell_type": "code",
      "source": [
        "reg = linear_model.LinearRegression()\n",
        "reg.fit(inputs, target)"
      ],
      "metadata": {
        "colab": {
          "base_uri": "https://localhost:8080/"
        },
        "id": "1G2IDbJpClbC",
        "outputId": "7030d1ff-f0db-405c-8970-b9f378fa7b4f"
      },
      "id": "1G2IDbJpClbC",
      "execution_count": 157,
      "outputs": [
        {
          "output_type": "execute_result",
          "data": {
            "text/plain": [
              "LinearRegression()"
            ]
          },
          "metadata": {},
          "execution_count": 157
        }
      ]
    },
    {
      "cell_type": "markdown",
      "source": [
        "Mrs Ndidi ordered meals at the amazon restaurant on Thursday morning. Predict how long before she received her order if the delivery man used motorcycle to pick her order at 15:05 bearing in mind that the customer stays 9.760928 km away from the restaurant"
      ],
      "metadata": {
        "id": "ZCEMHRWSa7mY"
      },
      "id": "ZCEMHRWSa7mY"
    },
    {
      "cell_type": "code",
      "source": [
        "reg.predict([[2,4,5,9.760928]])"
      ],
      "metadata": {
        "colab": {
          "base_uri": "https://localhost:8080/"
        },
        "id": "r1p2JLx4F0XF",
        "outputId": "a7d013a4-3abc-4af7-ec29-d984329eb088"
      },
      "id": "r1p2JLx4F0XF",
      "execution_count": 198,
      "outputs": [
        {
          "output_type": "stream",
          "name": "stderr",
          "text": [
            "/usr/local/lib/python3.8/dist-packages/sklearn/base.py:450: UserWarning: X does not have valid feature names, but LinearRegression was fitted with feature names\n",
            "  warnings.warn(\n"
          ]
        },
        {
          "output_type": "execute_result",
          "data": {
            "text/plain": [
              "array([26.43485171])"
            ]
          },
          "metadata": {},
          "execution_count": 198
        }
      ]
    },
    {
      "cell_type": "markdown",
      "source": [
        "Validating Prediction\n"
      ],
      "metadata": {
        "id": "3-wHfbURfXGf"
      },
      "id": "3-wHfbURfXGf"
    },
    {
      "cell_type": "code",
      "source": [
        "reg.coef_"
      ],
      "metadata": {
        "colab": {
          "base_uri": "https://localhost:8080/"
        },
        "id": "njiX3fkPfcV7",
        "outputId": "f0bc5dcb-53b8-4802-fb71-dcc564cb1d08"
      },
      "id": "njiX3fkPfcV7",
      "execution_count": 199,
      "outputs": [
        {
          "output_type": "execute_result",
          "data": {
            "text/plain": [
              "array([-5.84737181e-02,  1.92261728e-01,  1.01874228e-02, -2.88044409e-05])"
            ]
          },
          "metadata": {},
          "execution_count": 199
        }
      ]
    },
    {
      "cell_type": "code",
      "source": [
        "reg.intercept_"
      ],
      "metadata": {
        "colab": {
          "base_uri": "https://localhost:8080/"
        },
        "id": "BZI2C1kvfdWA",
        "outputId": "c920b4fa-0dcc-4383-d67b-f673f3ac1e28"
      },
      "id": "BZI2C1kvfdWA",
      "execution_count": 200,
      "outputs": [
        {
          "output_type": "execute_result",
          "data": {
            "text/plain": [
              "25.732096278581974"
            ]
          },
          "metadata": {},
          "execution_count": 200
        }
      ]
    },
    {
      "cell_type": "code",
      "source": [
        "#y =mx + c\n",
        "#dependent variable = (slope or gradient * independent variable ) + intercept. the coefficient of x represents the gradient, i.e \"m\"\n",
        "#Time_taken= (coef1*Type_of_order + coef2*Type_of_vehicle + coef3*days+coef4+distance)+intercept\n",
        "Time_taken2 = (-5.84737181e-02*2 +1.92261728e-01 *4 + 1.01874228e-02*5 + -2.88044409e-05*9.760928) + 25.732096278581974\n",
        "Time_taken2"
      ],
      "metadata": {
        "colab": {
          "base_uri": "https://localhost:8080/"
        },
        "id": "hrVnty7sfkTM",
        "outputId": "4b38eee2-e443-4d58-9d7d-f1c5a8edfa00"
      },
      "id": "hrVnty7sfkTM",
      "execution_count": 201,
      "outputs": [
        {
          "output_type": "execute_result",
          "data": {
            "text/plain": [
              "26.43485171030827"
            ]
          },
          "metadata": {},
          "execution_count": 201
        }
      ]
    },
    {
      "cell_type": "markdown",
      "source": [
        "Visualization\n"
      ],
      "metadata": {
        "id": "CYSgfUxUjiBZ"
      },
      "id": "CYSgfUxUjiBZ"
    },
    {
      "cell_type": "code",
      "source": [
        "inputs.plot(x='Time_taken',y=['Type_of_order'\t,'Type_of_vehicle',\t'Days','distance_km'],kind='bar',figsize=(12,8));\n",
        "plt.xlabel('target',fontsize=20)\n",
        "plt.ylabel('count',fontsize=20)\n",
        "plt.title('Time Table', fontsize=20);"
      ],
      "metadata": {
        "colab": {
          "base_uri": "https://localhost:8080/",
          "height": 502
        },
        "id": "pVkBL7oFjm8o",
        "outputId": "545e5585-36a4-498e-aecc-a5e4e90003fa"
      },
      "id": "pVkBL7oFjm8o",
      "execution_count": 204,
      "outputs": [
        {
          "output_type": "error",
          "ename": "KeyError",
          "evalue": "ignored",
          "traceback": [
            "\u001b[0;31m---------------------------------------------------------------------------\u001b[0m",
            "\u001b[0;31mKeyError\u001b[0m                                  Traceback (most recent call last)",
            "\u001b[0;32m/usr/local/lib/python3.8/dist-packages/pandas/core/indexes/base.py\u001b[0m in \u001b[0;36mget_loc\u001b[0;34m(self, key, method, tolerance)\u001b[0m\n\u001b[1;32m   3360\u001b[0m             \u001b[0;32mtry\u001b[0m\u001b[0;34m:\u001b[0m\u001b[0;34m\u001b[0m\u001b[0;34m\u001b[0m\u001b[0m\n\u001b[0;32m-> 3361\u001b[0;31m                 \u001b[0;32mreturn\u001b[0m \u001b[0mself\u001b[0m\u001b[0;34m.\u001b[0m\u001b[0m_engine\u001b[0m\u001b[0;34m.\u001b[0m\u001b[0mget_loc\u001b[0m\u001b[0;34m(\u001b[0m\u001b[0mcasted_key\u001b[0m\u001b[0;34m)\u001b[0m\u001b[0;34m\u001b[0m\u001b[0;34m\u001b[0m\u001b[0m\n\u001b[0m\u001b[1;32m   3362\u001b[0m             \u001b[0;32mexcept\u001b[0m \u001b[0mKeyError\u001b[0m \u001b[0;32mas\u001b[0m \u001b[0merr\u001b[0m\u001b[0;34m:\u001b[0m\u001b[0;34m\u001b[0m\u001b[0;34m\u001b[0m\u001b[0m\n",
            "\u001b[0;32m/usr/local/lib/python3.8/dist-packages/pandas/_libs/index.pyx\u001b[0m in \u001b[0;36mpandas._libs.index.IndexEngine.get_loc\u001b[0;34m()\u001b[0m\n",
            "\u001b[0;32m/usr/local/lib/python3.8/dist-packages/pandas/_libs/index.pyx\u001b[0m in \u001b[0;36mpandas._libs.index.IndexEngine.get_loc\u001b[0;34m()\u001b[0m\n",
            "\u001b[0;32mpandas/_libs/hashtable_class_helper.pxi\u001b[0m in \u001b[0;36mpandas._libs.hashtable.PyObjectHashTable.get_item\u001b[0;34m()\u001b[0m\n",
            "\u001b[0;32mpandas/_libs/hashtable_class_helper.pxi\u001b[0m in \u001b[0;36mpandas._libs.hashtable.PyObjectHashTable.get_item\u001b[0;34m()\u001b[0m\n",
            "\u001b[0;31mKeyError\u001b[0m: 'Time_taken'",
            "\nThe above exception was the direct cause of the following exception:\n",
            "\u001b[0;31mKeyError\u001b[0m                                  Traceback (most recent call last)",
            "\u001b[0;32m<ipython-input-204-d71554591ace>\u001b[0m in \u001b[0;36m<module>\u001b[0;34m\u001b[0m\n\u001b[0;32m----> 1\u001b[0;31m \u001b[0minputs\u001b[0m\u001b[0;34m.\u001b[0m\u001b[0mplot\u001b[0m\u001b[0;34m(\u001b[0m\u001b[0mx\u001b[0m\u001b[0;34m=\u001b[0m\u001b[0;34m'Time_taken'\u001b[0m\u001b[0;34m,\u001b[0m\u001b[0my\u001b[0m\u001b[0;34m=\u001b[0m\u001b[0;34m[\u001b[0m\u001b[0;34m'Type_of_order'\u001b[0m   \u001b[0;34m,\u001b[0m\u001b[0;34m'Type_of_vehicle'\u001b[0m\u001b[0;34m,\u001b[0m     \u001b[0;34m'Days'\u001b[0m\u001b[0;34m,\u001b[0m\u001b[0;34m'distance_km'\u001b[0m\u001b[0;34m]\u001b[0m\u001b[0;34m,\u001b[0m\u001b[0mkind\u001b[0m\u001b[0;34m=\u001b[0m\u001b[0;34m'bar'\u001b[0m\u001b[0;34m,\u001b[0m\u001b[0mfigsize\u001b[0m\u001b[0;34m=\u001b[0m\u001b[0;34m(\u001b[0m\u001b[0;36m12\u001b[0m\u001b[0;34m,\u001b[0m\u001b[0;36m8\u001b[0m\u001b[0;34m)\u001b[0m\u001b[0;34m)\u001b[0m\u001b[0;34m;\u001b[0m\u001b[0;34m\u001b[0m\u001b[0;34m\u001b[0m\u001b[0m\n\u001b[0m\u001b[1;32m      2\u001b[0m \u001b[0mplt\u001b[0m\u001b[0;34m.\u001b[0m\u001b[0mxlabel\u001b[0m\u001b[0;34m(\u001b[0m\u001b[0;34m'target'\u001b[0m\u001b[0;34m,\u001b[0m\u001b[0mfontsize\u001b[0m\u001b[0;34m=\u001b[0m\u001b[0;36m20\u001b[0m\u001b[0;34m)\u001b[0m\u001b[0;34m\u001b[0m\u001b[0;34m\u001b[0m\u001b[0m\n\u001b[1;32m      3\u001b[0m \u001b[0mplt\u001b[0m\u001b[0;34m.\u001b[0m\u001b[0mylabel\u001b[0m\u001b[0;34m(\u001b[0m\u001b[0;34m'count'\u001b[0m\u001b[0;34m,\u001b[0m\u001b[0mfontsize\u001b[0m\u001b[0;34m=\u001b[0m\u001b[0;36m20\u001b[0m\u001b[0;34m)\u001b[0m\u001b[0;34m\u001b[0m\u001b[0;34m\u001b[0m\u001b[0m\n\u001b[1;32m      4\u001b[0m \u001b[0mplt\u001b[0m\u001b[0;34m.\u001b[0m\u001b[0mtitle\u001b[0m\u001b[0;34m(\u001b[0m\u001b[0;34m'Time Table'\u001b[0m\u001b[0;34m,\u001b[0m \u001b[0mfontsize\u001b[0m\u001b[0;34m=\u001b[0m\u001b[0;36m20\u001b[0m\u001b[0;34m)\u001b[0m\u001b[0;34m;\u001b[0m\u001b[0;34m\u001b[0m\u001b[0;34m\u001b[0m\u001b[0m\n",
            "\u001b[0;32m/usr/local/lib/python3.8/dist-packages/pandas/plotting/_core.py\u001b[0m in \u001b[0;36m__call__\u001b[0;34m(self, *args, **kwargs)\u001b[0m\n\u001b[1;32m    935\u001b[0m                 \u001b[0;32mif\u001b[0m \u001b[0mis_integer\u001b[0m\u001b[0;34m(\u001b[0m\u001b[0mx\u001b[0m\u001b[0;34m)\u001b[0m \u001b[0;32mand\u001b[0m \u001b[0;32mnot\u001b[0m \u001b[0mdata\u001b[0m\u001b[0;34m.\u001b[0m\u001b[0mcolumns\u001b[0m\u001b[0;34m.\u001b[0m\u001b[0mholds_integer\u001b[0m\u001b[0;34m(\u001b[0m\u001b[0;34m)\u001b[0m\u001b[0;34m:\u001b[0m\u001b[0;34m\u001b[0m\u001b[0;34m\u001b[0m\u001b[0m\n\u001b[1;32m    936\u001b[0m                     \u001b[0mx\u001b[0m \u001b[0;34m=\u001b[0m \u001b[0mdata_cols\u001b[0m\u001b[0;34m[\u001b[0m\u001b[0mx\u001b[0m\u001b[0;34m]\u001b[0m\u001b[0;34m\u001b[0m\u001b[0;34m\u001b[0m\u001b[0m\n\u001b[0;32m--> 937\u001b[0;31m                 \u001b[0;32melif\u001b[0m \u001b[0;32mnot\u001b[0m \u001b[0misinstance\u001b[0m\u001b[0;34m(\u001b[0m\u001b[0mdata\u001b[0m\u001b[0;34m[\u001b[0m\u001b[0mx\u001b[0m\u001b[0;34m]\u001b[0m\u001b[0;34m,\u001b[0m \u001b[0mABCSeries\u001b[0m\u001b[0;34m)\u001b[0m\u001b[0;34m:\u001b[0m\u001b[0;34m\u001b[0m\u001b[0;34m\u001b[0m\u001b[0m\n\u001b[0m\u001b[1;32m    938\u001b[0m                     \u001b[0;32mraise\u001b[0m \u001b[0mValueError\u001b[0m\u001b[0;34m(\u001b[0m\u001b[0;34m\"x must be a label or position\"\u001b[0m\u001b[0;34m)\u001b[0m\u001b[0;34m\u001b[0m\u001b[0;34m\u001b[0m\u001b[0m\n\u001b[1;32m    939\u001b[0m                 \u001b[0mdata\u001b[0m \u001b[0;34m=\u001b[0m \u001b[0mdata\u001b[0m\u001b[0;34m.\u001b[0m\u001b[0mset_index\u001b[0m\u001b[0;34m(\u001b[0m\u001b[0mx\u001b[0m\u001b[0;34m)\u001b[0m\u001b[0;34m\u001b[0m\u001b[0;34m\u001b[0m\u001b[0m\n",
            "\u001b[0;32m/usr/local/lib/python3.8/dist-packages/pandas/core/frame.py\u001b[0m in \u001b[0;36m__getitem__\u001b[0;34m(self, key)\u001b[0m\n\u001b[1;32m   3456\u001b[0m             \u001b[0;32mif\u001b[0m \u001b[0mself\u001b[0m\u001b[0;34m.\u001b[0m\u001b[0mcolumns\u001b[0m\u001b[0;34m.\u001b[0m\u001b[0mnlevels\u001b[0m \u001b[0;34m>\u001b[0m \u001b[0;36m1\u001b[0m\u001b[0;34m:\u001b[0m\u001b[0;34m\u001b[0m\u001b[0;34m\u001b[0m\u001b[0m\n\u001b[1;32m   3457\u001b[0m                 \u001b[0;32mreturn\u001b[0m \u001b[0mself\u001b[0m\u001b[0;34m.\u001b[0m\u001b[0m_getitem_multilevel\u001b[0m\u001b[0;34m(\u001b[0m\u001b[0mkey\u001b[0m\u001b[0;34m)\u001b[0m\u001b[0;34m\u001b[0m\u001b[0;34m\u001b[0m\u001b[0m\n\u001b[0;32m-> 3458\u001b[0;31m             \u001b[0mindexer\u001b[0m \u001b[0;34m=\u001b[0m \u001b[0mself\u001b[0m\u001b[0;34m.\u001b[0m\u001b[0mcolumns\u001b[0m\u001b[0;34m.\u001b[0m\u001b[0mget_loc\u001b[0m\u001b[0;34m(\u001b[0m\u001b[0mkey\u001b[0m\u001b[0;34m)\u001b[0m\u001b[0;34m\u001b[0m\u001b[0;34m\u001b[0m\u001b[0m\n\u001b[0m\u001b[1;32m   3459\u001b[0m             \u001b[0;32mif\u001b[0m \u001b[0mis_integer\u001b[0m\u001b[0;34m(\u001b[0m\u001b[0mindexer\u001b[0m\u001b[0;34m)\u001b[0m\u001b[0;34m:\u001b[0m\u001b[0;34m\u001b[0m\u001b[0;34m\u001b[0m\u001b[0m\n\u001b[1;32m   3460\u001b[0m                 \u001b[0mindexer\u001b[0m \u001b[0;34m=\u001b[0m \u001b[0;34m[\u001b[0m\u001b[0mindexer\u001b[0m\u001b[0;34m]\u001b[0m\u001b[0;34m\u001b[0m\u001b[0;34m\u001b[0m\u001b[0m\n",
            "\u001b[0;32m/usr/local/lib/python3.8/dist-packages/pandas/core/indexes/base.py\u001b[0m in \u001b[0;36mget_loc\u001b[0;34m(self, key, method, tolerance)\u001b[0m\n\u001b[1;32m   3361\u001b[0m                 \u001b[0;32mreturn\u001b[0m \u001b[0mself\u001b[0m\u001b[0;34m.\u001b[0m\u001b[0m_engine\u001b[0m\u001b[0;34m.\u001b[0m\u001b[0mget_loc\u001b[0m\u001b[0;34m(\u001b[0m\u001b[0mcasted_key\u001b[0m\u001b[0;34m)\u001b[0m\u001b[0;34m\u001b[0m\u001b[0;34m\u001b[0m\u001b[0m\n\u001b[1;32m   3362\u001b[0m             \u001b[0;32mexcept\u001b[0m \u001b[0mKeyError\u001b[0m \u001b[0;32mas\u001b[0m \u001b[0merr\u001b[0m\u001b[0;34m:\u001b[0m\u001b[0;34m\u001b[0m\u001b[0;34m\u001b[0m\u001b[0m\n\u001b[0;32m-> 3363\u001b[0;31m                 \u001b[0;32mraise\u001b[0m \u001b[0mKeyError\u001b[0m\u001b[0;34m(\u001b[0m\u001b[0mkey\u001b[0m\u001b[0;34m)\u001b[0m \u001b[0;32mfrom\u001b[0m \u001b[0merr\u001b[0m\u001b[0;34m\u001b[0m\u001b[0;34m\u001b[0m\u001b[0m\n\u001b[0m\u001b[1;32m   3364\u001b[0m \u001b[0;34m\u001b[0m\u001b[0m\n\u001b[1;32m   3365\u001b[0m         \u001b[0;32mif\u001b[0m \u001b[0mis_scalar\u001b[0m\u001b[0;34m(\u001b[0m\u001b[0mkey\u001b[0m\u001b[0;34m)\u001b[0m \u001b[0;32mand\u001b[0m \u001b[0misna\u001b[0m\u001b[0;34m(\u001b[0m\u001b[0mkey\u001b[0m\u001b[0;34m)\u001b[0m \u001b[0;32mand\u001b[0m \u001b[0;32mnot\u001b[0m \u001b[0mself\u001b[0m\u001b[0;34m.\u001b[0m\u001b[0mhasnans\u001b[0m\u001b[0;34m:\u001b[0m\u001b[0;34m\u001b[0m\u001b[0;34m\u001b[0m\u001b[0m\n",
            "\u001b[0;31mKeyError\u001b[0m: 'Time_taken'"
          ]
        }
      ]
    },
    {
      "cell_type": "markdown",
      "source": [
        "i dont know why the plot is erred."
      ],
      "metadata": {
        "id": "HY_sKa9pm6u7"
      },
      "id": "HY_sKa9pm6u7"
    }
  ],
  "metadata": {
    "kernelspec": {
      "display_name": "Python 3 (ipykernel)",
      "language": "python",
      "name": "python3"
    },
    "language_info": {
      "codemirror_mode": {
        "name": "ipython",
        "version": 3
      },
      "file_extension": ".py",
      "mimetype": "text/x-python",
      "name": "python",
      "nbconvert_exporter": "python",
      "pygments_lexer": "ipython3",
      "version": "3.9.12"
    },
    "colab": {
      "provenance": []
    }
  },
  "nbformat": 4,
  "nbformat_minor": 5
}