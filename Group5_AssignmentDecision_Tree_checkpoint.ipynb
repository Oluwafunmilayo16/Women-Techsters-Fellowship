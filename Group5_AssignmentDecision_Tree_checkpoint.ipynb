{
  "cells": [
    {
      "cell_type": "markdown",
      "id": "08b8a77e",
      "metadata": {
        "id": "08b8a77e"
      },
      "source": [
        "# Build decision tree model to predict survival based on certain parameters"
      ]
    },
    {
      "cell_type": "markdown",
      "id": "e355d921",
      "metadata": {
        "id": "e355d921"
      },
      "source": [
        "#Group 5 members: Data Science and AI\n",
        "#Juliet Sackey\n",
        "#Kaouter Labed\n",
        "#Monica Atuorah\n",
        "#Naomi Odidi\n",
        "#Louisa Bonsu\n",
        "#Oluwafunmilayo Oluyemi\n",
        "#Kehinde Adebisi\n",
        "#Nwajiunor Edgar\n",
        "#Ndidiamaka Eneje"
      ]
    },
    {
      "cell_type": "markdown",
      "id": "5efa13d2",
      "metadata": {
        "id": "5efa13d2"
      },
      "source": [
        "##### Importing necessary libraries "
      ]
    },
    {
      "cell_type": "code",
      "execution_count": null,
      "id": "6123d6a3",
      "metadata": {
        "id": "6123d6a3"
      },
      "outputs": [],
      "source": [
        "import pandas as pd\n",
        "import numpy as np\n",
        "import matplotlib.pyplot as plt\n",
        "from sklearn.preprocessing import LabelEncoder"
      ]
    },
    {
      "cell_type": "code",
      "execution_count": null,
      "id": "655f00dd",
      "metadata": {
        "id": "655f00dd",
        "outputId": "1d1a4b45-1bd7-4732-c2b9-429c8bfb35f7"
      },
      "outputs": [
        {
          "data": {
            "text/html": [
              "<div>\n",
              "<style scoped>\n",
              "    .dataframe tbody tr th:only-of-type {\n",
              "        vertical-align: middle;\n",
              "    }\n",
              "\n",
              "    .dataframe tbody tr th {\n",
              "        vertical-align: top;\n",
              "    }\n",
              "\n",
              "    .dataframe thead th {\n",
              "        text-align: right;\n",
              "    }\n",
              "</style>\n",
              "<table border=\"1\" class=\"dataframe\">\n",
              "  <thead>\n",
              "    <tr style=\"text-align: right;\">\n",
              "      <th></th>\n",
              "      <th>PassengerId</th>\n",
              "      <th>Survived</th>\n",
              "      <th>Pclass</th>\n",
              "      <th>Name</th>\n",
              "      <th>Sex</th>\n",
              "      <th>Age</th>\n",
              "      <th>SibSp</th>\n",
              "      <th>Parch</th>\n",
              "      <th>Ticket</th>\n",
              "      <th>Fare</th>\n",
              "      <th>Cabin</th>\n",
              "      <th>Embarked</th>\n",
              "    </tr>\n",
              "  </thead>\n",
              "  <tbody>\n",
              "    <tr>\n",
              "      <th>0</th>\n",
              "      <td>1</td>\n",
              "      <td>0</td>\n",
              "      <td>3</td>\n",
              "      <td>Braund, Mr. Owen Harris</td>\n",
              "      <td>male</td>\n",
              "      <td>22.0</td>\n",
              "      <td>1</td>\n",
              "      <td>0</td>\n",
              "      <td>A/5 21171</td>\n",
              "      <td>7.2500</td>\n",
              "      <td>NaN</td>\n",
              "      <td>S</td>\n",
              "    </tr>\n",
              "    <tr>\n",
              "      <th>1</th>\n",
              "      <td>2</td>\n",
              "      <td>1</td>\n",
              "      <td>1</td>\n",
              "      <td>Cumings, Mrs. John Bradley (Florence Briggs Th...</td>\n",
              "      <td>female</td>\n",
              "      <td>38.0</td>\n",
              "      <td>1</td>\n",
              "      <td>0</td>\n",
              "      <td>PC 17599</td>\n",
              "      <td>71.2833</td>\n",
              "      <td>C85</td>\n",
              "      <td>C</td>\n",
              "    </tr>\n",
              "    <tr>\n",
              "      <th>2</th>\n",
              "      <td>3</td>\n",
              "      <td>1</td>\n",
              "      <td>3</td>\n",
              "      <td>Heikkinen, Miss. Laina</td>\n",
              "      <td>female</td>\n",
              "      <td>26.0</td>\n",
              "      <td>0</td>\n",
              "      <td>0</td>\n",
              "      <td>STON/O2. 3101282</td>\n",
              "      <td>7.9250</td>\n",
              "      <td>NaN</td>\n",
              "      <td>S</td>\n",
              "    </tr>\n",
              "    <tr>\n",
              "      <th>3</th>\n",
              "      <td>4</td>\n",
              "      <td>1</td>\n",
              "      <td>1</td>\n",
              "      <td>Futrelle, Mrs. Jacques Heath (Lily May Peel)</td>\n",
              "      <td>female</td>\n",
              "      <td>35.0</td>\n",
              "      <td>1</td>\n",
              "      <td>0</td>\n",
              "      <td>113803</td>\n",
              "      <td>53.1000</td>\n",
              "      <td>C123</td>\n",
              "      <td>S</td>\n",
              "    </tr>\n",
              "    <tr>\n",
              "      <th>4</th>\n",
              "      <td>5</td>\n",
              "      <td>0</td>\n",
              "      <td>3</td>\n",
              "      <td>Allen, Mr. William Henry</td>\n",
              "      <td>male</td>\n",
              "      <td>35.0</td>\n",
              "      <td>0</td>\n",
              "      <td>0</td>\n",
              "      <td>373450</td>\n",
              "      <td>8.0500</td>\n",
              "      <td>NaN</td>\n",
              "      <td>S</td>\n",
              "    </tr>\n",
              "  </tbody>\n",
              "</table>\n",
              "</div>"
            ],
            "text/plain": [
              "   PassengerId  Survived  Pclass  \\\n",
              "0            1         0       3   \n",
              "1            2         1       1   \n",
              "2            3         1       3   \n",
              "3            4         1       1   \n",
              "4            5         0       3   \n",
              "\n",
              "                                                Name     Sex   Age  SibSp  \\\n",
              "0                            Braund, Mr. Owen Harris    male  22.0      1   \n",
              "1  Cumings, Mrs. John Bradley (Florence Briggs Th...  female  38.0      1   \n",
              "2                             Heikkinen, Miss. Laina  female  26.0      0   \n",
              "3       Futrelle, Mrs. Jacques Heath (Lily May Peel)  female  35.0      1   \n",
              "4                           Allen, Mr. William Henry    male  35.0      0   \n",
              "\n",
              "   Parch            Ticket     Fare Cabin Embarked  \n",
              "0      0         A/5 21171   7.2500   NaN        S  \n",
              "1      0          PC 17599  71.2833   C85        C  \n",
              "2      0  STON/O2. 3101282   7.9250   NaN        S  \n",
              "3      0            113803  53.1000  C123        S  \n",
              "4      0            373450   8.0500   NaN        S  "
            ]
          },
          "execution_count": 2,
          "metadata": {},
          "output_type": "execute_result"
        }
      ],
      "source": [
        "Titanic=pd.read_csv('titanic.csv')\n",
        "Titanic.head()"
      ]
    },
    {
      "cell_type": "markdown",
      "id": "26e59470",
      "metadata": {
        "id": "26e59470"
      },
      "source": [
        "##### Data Cleaning_ Preprocessing _dropping some unnecessary columns"
      ]
    },
    {
      "cell_type": "code",
      "execution_count": null,
      "id": "73527d62",
      "metadata": {
        "id": "73527d62",
        "outputId": "902ea801-962e-47af-e899-84ca324044c1"
      },
      "outputs": [
        {
          "data": {
            "text/html": [
              "<div>\n",
              "<style scoped>\n",
              "    .dataframe tbody tr th:only-of-type {\n",
              "        vertical-align: middle;\n",
              "    }\n",
              "\n",
              "    .dataframe tbody tr th {\n",
              "        vertical-align: top;\n",
              "    }\n",
              "\n",
              "    .dataframe thead th {\n",
              "        text-align: right;\n",
              "    }\n",
              "</style>\n",
              "<table border=\"1\" class=\"dataframe\">\n",
              "  <thead>\n",
              "    <tr style=\"text-align: right;\">\n",
              "      <th></th>\n",
              "      <th>Survived</th>\n",
              "      <th>Pclass</th>\n",
              "      <th>Sex</th>\n",
              "      <th>Age</th>\n",
              "      <th>Fare</th>\n",
              "    </tr>\n",
              "  </thead>\n",
              "  <tbody>\n",
              "    <tr>\n",
              "      <th>0</th>\n",
              "      <td>0</td>\n",
              "      <td>3</td>\n",
              "      <td>male</td>\n",
              "      <td>22.0</td>\n",
              "      <td>7.2500</td>\n",
              "    </tr>\n",
              "    <tr>\n",
              "      <th>1</th>\n",
              "      <td>1</td>\n",
              "      <td>1</td>\n",
              "      <td>female</td>\n",
              "      <td>38.0</td>\n",
              "      <td>71.2833</td>\n",
              "    </tr>\n",
              "    <tr>\n",
              "      <th>2</th>\n",
              "      <td>1</td>\n",
              "      <td>3</td>\n",
              "      <td>female</td>\n",
              "      <td>26.0</td>\n",
              "      <td>7.9250</td>\n",
              "    </tr>\n",
              "    <tr>\n",
              "      <th>3</th>\n",
              "      <td>1</td>\n",
              "      <td>1</td>\n",
              "      <td>female</td>\n",
              "      <td>35.0</td>\n",
              "      <td>53.1000</td>\n",
              "    </tr>\n",
              "    <tr>\n",
              "      <th>4</th>\n",
              "      <td>0</td>\n",
              "      <td>3</td>\n",
              "      <td>male</td>\n",
              "      <td>35.0</td>\n",
              "      <td>8.0500</td>\n",
              "    </tr>\n",
              "    <tr>\n",
              "      <th>...</th>\n",
              "      <td>...</td>\n",
              "      <td>...</td>\n",
              "      <td>...</td>\n",
              "      <td>...</td>\n",
              "      <td>...</td>\n",
              "    </tr>\n",
              "    <tr>\n",
              "      <th>886</th>\n",
              "      <td>0</td>\n",
              "      <td>2</td>\n",
              "      <td>male</td>\n",
              "      <td>27.0</td>\n",
              "      <td>13.0000</td>\n",
              "    </tr>\n",
              "    <tr>\n",
              "      <th>887</th>\n",
              "      <td>1</td>\n",
              "      <td>1</td>\n",
              "      <td>female</td>\n",
              "      <td>19.0</td>\n",
              "      <td>30.0000</td>\n",
              "    </tr>\n",
              "    <tr>\n",
              "      <th>888</th>\n",
              "      <td>0</td>\n",
              "      <td>3</td>\n",
              "      <td>female</td>\n",
              "      <td>NaN</td>\n",
              "      <td>23.4500</td>\n",
              "    </tr>\n",
              "    <tr>\n",
              "      <th>889</th>\n",
              "      <td>1</td>\n",
              "      <td>1</td>\n",
              "      <td>male</td>\n",
              "      <td>26.0</td>\n",
              "      <td>30.0000</td>\n",
              "    </tr>\n",
              "    <tr>\n",
              "      <th>890</th>\n",
              "      <td>0</td>\n",
              "      <td>3</td>\n",
              "      <td>male</td>\n",
              "      <td>32.0</td>\n",
              "      <td>7.7500</td>\n",
              "    </tr>\n",
              "  </tbody>\n",
              "</table>\n",
              "<p>891 rows × 5 columns</p>\n",
              "</div>"
            ],
            "text/plain": [
              "     Survived  Pclass     Sex   Age     Fare\n",
              "0           0       3    male  22.0   7.2500\n",
              "1           1       1  female  38.0  71.2833\n",
              "2           1       3  female  26.0   7.9250\n",
              "3           1       1  female  35.0  53.1000\n",
              "4           0       3    male  35.0   8.0500\n",
              "..        ...     ...     ...   ...      ...\n",
              "886         0       2    male  27.0  13.0000\n",
              "887         1       1  female  19.0  30.0000\n",
              "888         0       3  female   NaN  23.4500\n",
              "889         1       1    male  26.0  30.0000\n",
              "890         0       3    male  32.0   7.7500\n",
              "\n",
              "[891 rows x 5 columns]"
            ]
          },
          "execution_count": 7,
          "metadata": {},
          "output_type": "execute_result"
        }
      ],
      "source": [
        "input=Titanic.drop(['PassengerId','Name','SibSp','Parch','Ticket','Cabin','Embarked'],axis='columns')\n",
        "input"
      ]
    },
    {
      "cell_type": "code",
      "execution_count": null,
      "id": "476686b0",
      "metadata": {
        "id": "476686b0"
      },
      "outputs": [],
      "source": [
        "Dropping the target column which is the Survived"
      ]
    },
    {
      "cell_type": "code",
      "execution_count": null,
      "id": "cabe4836",
      "metadata": {
        "id": "cabe4836",
        "outputId": "f6ffdc13-6d67-4a25-da19-f41dbb7fe6c4"
      },
      "outputs": [
        {
          "data": {
            "text/plain": [
              "0      0\n",
              "1      1\n",
              "2      1\n",
              "3      1\n",
              "4      0\n",
              "      ..\n",
              "886    0\n",
              "887    1\n",
              "888    0\n",
              "889    1\n",
              "890    0\n",
              "Name: Survived, Length: 891, dtype: int64"
            ]
          },
          "execution_count": 11,
          "metadata": {},
          "output_type": "execute_result"
        }
      ],
      "source": [
        "inputs=input.drop(['Survived'],axis='columns')\n",
        "target=input['Survived']\n",
        "target"
      ]
    },
    {
      "cell_type": "code",
      "execution_count": null,
      "id": "aa5ef953",
      "metadata": {
        "id": "aa5ef953",
        "outputId": "c3615061-d99c-4544-ad02-9d6b06ec4f62"
      },
      "outputs": [
        {
          "data": {
            "text/html": [
              "<div>\n",
              "<style scoped>\n",
              "    .dataframe tbody tr th:only-of-type {\n",
              "        vertical-align: middle;\n",
              "    }\n",
              "\n",
              "    .dataframe tbody tr th {\n",
              "        vertical-align: top;\n",
              "    }\n",
              "\n",
              "    .dataframe thead th {\n",
              "        text-align: right;\n",
              "    }\n",
              "</style>\n",
              "<table border=\"1\" class=\"dataframe\">\n",
              "  <thead>\n",
              "    <tr style=\"text-align: right;\">\n",
              "      <th></th>\n",
              "      <th>Pclass</th>\n",
              "      <th>Sex</th>\n",
              "      <th>Age</th>\n",
              "      <th>Fare</th>\n",
              "    </tr>\n",
              "  </thead>\n",
              "  <tbody>\n",
              "    <tr>\n",
              "      <th>0</th>\n",
              "      <td>3</td>\n",
              "      <td>male</td>\n",
              "      <td>22.0</td>\n",
              "      <td>7.2500</td>\n",
              "    </tr>\n",
              "    <tr>\n",
              "      <th>1</th>\n",
              "      <td>1</td>\n",
              "      <td>female</td>\n",
              "      <td>38.0</td>\n",
              "      <td>71.2833</td>\n",
              "    </tr>\n",
              "    <tr>\n",
              "      <th>2</th>\n",
              "      <td>3</td>\n",
              "      <td>female</td>\n",
              "      <td>26.0</td>\n",
              "      <td>7.9250</td>\n",
              "    </tr>\n",
              "    <tr>\n",
              "      <th>3</th>\n",
              "      <td>1</td>\n",
              "      <td>female</td>\n",
              "      <td>35.0</td>\n",
              "      <td>53.1000</td>\n",
              "    </tr>\n",
              "    <tr>\n",
              "      <th>4</th>\n",
              "      <td>3</td>\n",
              "      <td>male</td>\n",
              "      <td>35.0</td>\n",
              "      <td>8.0500</td>\n",
              "    </tr>\n",
              "    <tr>\n",
              "      <th>...</th>\n",
              "      <td>...</td>\n",
              "      <td>...</td>\n",
              "      <td>...</td>\n",
              "      <td>...</td>\n",
              "    </tr>\n",
              "    <tr>\n",
              "      <th>886</th>\n",
              "      <td>2</td>\n",
              "      <td>male</td>\n",
              "      <td>27.0</td>\n",
              "      <td>13.0000</td>\n",
              "    </tr>\n",
              "    <tr>\n",
              "      <th>887</th>\n",
              "      <td>1</td>\n",
              "      <td>female</td>\n",
              "      <td>19.0</td>\n",
              "      <td>30.0000</td>\n",
              "    </tr>\n",
              "    <tr>\n",
              "      <th>888</th>\n",
              "      <td>3</td>\n",
              "      <td>female</td>\n",
              "      <td>NaN</td>\n",
              "      <td>23.4500</td>\n",
              "    </tr>\n",
              "    <tr>\n",
              "      <th>889</th>\n",
              "      <td>1</td>\n",
              "      <td>male</td>\n",
              "      <td>26.0</td>\n",
              "      <td>30.0000</td>\n",
              "    </tr>\n",
              "    <tr>\n",
              "      <th>890</th>\n",
              "      <td>3</td>\n",
              "      <td>male</td>\n",
              "      <td>32.0</td>\n",
              "      <td>7.7500</td>\n",
              "    </tr>\n",
              "  </tbody>\n",
              "</table>\n",
              "<p>891 rows × 4 columns</p>\n",
              "</div>"
            ],
            "text/plain": [
              "     Pclass     Sex   Age     Fare\n",
              "0         3    male  22.0   7.2500\n",
              "1         1  female  38.0  71.2833\n",
              "2         3  female  26.0   7.9250\n",
              "3         1  female  35.0  53.1000\n",
              "4         3    male  35.0   8.0500\n",
              "..      ...     ...   ...      ...\n",
              "886       2    male  27.0  13.0000\n",
              "887       1  female  19.0  30.0000\n",
              "888       3  female   NaN  23.4500\n",
              "889       1    male  26.0  30.0000\n",
              "890       3    male  32.0   7.7500\n",
              "\n",
              "[891 rows x 4 columns]"
            ]
          },
          "execution_count": 12,
          "metadata": {},
          "output_type": "execute_result"
        }
      ],
      "source": [
        "inputs"
      ]
    },
    {
      "cell_type": "markdown",
      "id": "d2f7641d",
      "metadata": {
        "id": "d2f7641d"
      },
      "source": [
        "### Converting some columns from words to digit using labelEncoder and fit transform"
      ]
    },
    {
      "cell_type": "code",
      "execution_count": null,
      "id": "f5f872fd",
      "metadata": {
        "id": "f5f872fd"
      },
      "outputs": [],
      "source": [
        "le_Sex=LabelEncoder()\n"
      ]
    },
    {
      "cell_type": "code",
      "execution_count": null,
      "id": "64c212df",
      "metadata": {
        "id": "64c212df"
      },
      "outputs": [],
      "source": [
        "inputs['Sex_n']=le_Sex.fit_transform(inputs['Sex'])\n"
      ]
    },
    {
      "cell_type": "code",
      "execution_count": null,
      "id": "35ed5d75",
      "metadata": {
        "id": "35ed5d75",
        "outputId": "aa4add9a-1de2-4a5f-e721-a1c92c952fa8"
      },
      "outputs": [
        {
          "data": {
            "text/html": [
              "<div>\n",
              "<style scoped>\n",
              "    .dataframe tbody tr th:only-of-type {\n",
              "        vertical-align: middle;\n",
              "    }\n",
              "\n",
              "    .dataframe tbody tr th {\n",
              "        vertical-align: top;\n",
              "    }\n",
              "\n",
              "    .dataframe thead th {\n",
              "        text-align: right;\n",
              "    }\n",
              "</style>\n",
              "<table border=\"1\" class=\"dataframe\">\n",
              "  <thead>\n",
              "    <tr style=\"text-align: right;\">\n",
              "      <th></th>\n",
              "      <th>Pclass</th>\n",
              "      <th>Sex</th>\n",
              "      <th>Age</th>\n",
              "      <th>Fare</th>\n",
              "      <th>Sex_n</th>\n",
              "    </tr>\n",
              "  </thead>\n",
              "  <tbody>\n",
              "    <tr>\n",
              "      <th>0</th>\n",
              "      <td>3</td>\n",
              "      <td>male</td>\n",
              "      <td>22.0</td>\n",
              "      <td>7.2500</td>\n",
              "      <td>1</td>\n",
              "    </tr>\n",
              "    <tr>\n",
              "      <th>1</th>\n",
              "      <td>1</td>\n",
              "      <td>female</td>\n",
              "      <td>38.0</td>\n",
              "      <td>71.2833</td>\n",
              "      <td>0</td>\n",
              "    </tr>\n",
              "    <tr>\n",
              "      <th>2</th>\n",
              "      <td>3</td>\n",
              "      <td>female</td>\n",
              "      <td>26.0</td>\n",
              "      <td>7.9250</td>\n",
              "      <td>0</td>\n",
              "    </tr>\n",
              "    <tr>\n",
              "      <th>3</th>\n",
              "      <td>1</td>\n",
              "      <td>female</td>\n",
              "      <td>35.0</td>\n",
              "      <td>53.1000</td>\n",
              "      <td>0</td>\n",
              "    </tr>\n",
              "    <tr>\n",
              "      <th>4</th>\n",
              "      <td>3</td>\n",
              "      <td>male</td>\n",
              "      <td>35.0</td>\n",
              "      <td>8.0500</td>\n",
              "      <td>1</td>\n",
              "    </tr>\n",
              "    <tr>\n",
              "      <th>...</th>\n",
              "      <td>...</td>\n",
              "      <td>...</td>\n",
              "      <td>...</td>\n",
              "      <td>...</td>\n",
              "      <td>...</td>\n",
              "    </tr>\n",
              "    <tr>\n",
              "      <th>886</th>\n",
              "      <td>2</td>\n",
              "      <td>male</td>\n",
              "      <td>27.0</td>\n",
              "      <td>13.0000</td>\n",
              "      <td>1</td>\n",
              "    </tr>\n",
              "    <tr>\n",
              "      <th>887</th>\n",
              "      <td>1</td>\n",
              "      <td>female</td>\n",
              "      <td>19.0</td>\n",
              "      <td>30.0000</td>\n",
              "      <td>0</td>\n",
              "    </tr>\n",
              "    <tr>\n",
              "      <th>888</th>\n",
              "      <td>3</td>\n",
              "      <td>female</td>\n",
              "      <td>NaN</td>\n",
              "      <td>23.4500</td>\n",
              "      <td>0</td>\n",
              "    </tr>\n",
              "    <tr>\n",
              "      <th>889</th>\n",
              "      <td>1</td>\n",
              "      <td>male</td>\n",
              "      <td>26.0</td>\n",
              "      <td>30.0000</td>\n",
              "      <td>1</td>\n",
              "    </tr>\n",
              "    <tr>\n",
              "      <th>890</th>\n",
              "      <td>3</td>\n",
              "      <td>male</td>\n",
              "      <td>32.0</td>\n",
              "      <td>7.7500</td>\n",
              "      <td>1</td>\n",
              "    </tr>\n",
              "  </tbody>\n",
              "</table>\n",
              "<p>891 rows × 5 columns</p>\n",
              "</div>"
            ],
            "text/plain": [
              "     Pclass     Sex   Age     Fare  Sex_n\n",
              "0         3    male  22.0   7.2500      1\n",
              "1         1  female  38.0  71.2833      0\n",
              "2         3  female  26.0   7.9250      0\n",
              "3         1  female  35.0  53.1000      0\n",
              "4         3    male  35.0   8.0500      1\n",
              "..      ...     ...   ...      ...    ...\n",
              "886       2    male  27.0  13.0000      1\n",
              "887       1  female  19.0  30.0000      0\n",
              "888       3  female   NaN  23.4500      0\n",
              "889       1    male  26.0  30.0000      1\n",
              "890       3    male  32.0   7.7500      1\n",
              "\n",
              "[891 rows x 5 columns]"
            ]
          },
          "execution_count": 16,
          "metadata": {},
          "output_type": "execute_result"
        }
      ],
      "source": [
        "inputs"
      ]
    },
    {
      "cell_type": "markdown",
      "id": "2a1d4b26",
      "metadata": {
        "id": "2a1d4b26"
      },
      "source": [
        "##### Drop the Sex Columns"
      ]
    },
    {
      "cell_type": "code",
      "execution_count": null,
      "id": "6d18a623",
      "metadata": {
        "id": "6d18a623",
        "outputId": "c25e9596-2a8f-4076-a140-ddadb0cdf4bf"
      },
      "outputs": [
        {
          "data": {
            "text/html": [
              "<div>\n",
              "<style scoped>\n",
              "    .dataframe tbody tr th:only-of-type {\n",
              "        vertical-align: middle;\n",
              "    }\n",
              "\n",
              "    .dataframe tbody tr th {\n",
              "        vertical-align: top;\n",
              "    }\n",
              "\n",
              "    .dataframe thead th {\n",
              "        text-align: right;\n",
              "    }\n",
              "</style>\n",
              "<table border=\"1\" class=\"dataframe\">\n",
              "  <thead>\n",
              "    <tr style=\"text-align: right;\">\n",
              "      <th></th>\n",
              "      <th>Pclass</th>\n",
              "      <th>Age</th>\n",
              "      <th>Fare</th>\n",
              "      <th>Sex_n</th>\n",
              "    </tr>\n",
              "  </thead>\n",
              "  <tbody>\n",
              "    <tr>\n",
              "      <th>0</th>\n",
              "      <td>3</td>\n",
              "      <td>22.0</td>\n",
              "      <td>7.2500</td>\n",
              "      <td>1</td>\n",
              "    </tr>\n",
              "    <tr>\n",
              "      <th>1</th>\n",
              "      <td>1</td>\n",
              "      <td>38.0</td>\n",
              "      <td>71.2833</td>\n",
              "      <td>0</td>\n",
              "    </tr>\n",
              "    <tr>\n",
              "      <th>2</th>\n",
              "      <td>3</td>\n",
              "      <td>26.0</td>\n",
              "      <td>7.9250</td>\n",
              "      <td>0</td>\n",
              "    </tr>\n",
              "    <tr>\n",
              "      <th>3</th>\n",
              "      <td>1</td>\n",
              "      <td>35.0</td>\n",
              "      <td>53.1000</td>\n",
              "      <td>0</td>\n",
              "    </tr>\n",
              "    <tr>\n",
              "      <th>4</th>\n",
              "      <td>3</td>\n",
              "      <td>35.0</td>\n",
              "      <td>8.0500</td>\n",
              "      <td>1</td>\n",
              "    </tr>\n",
              "    <tr>\n",
              "      <th>...</th>\n",
              "      <td>...</td>\n",
              "      <td>...</td>\n",
              "      <td>...</td>\n",
              "      <td>...</td>\n",
              "    </tr>\n",
              "    <tr>\n",
              "      <th>886</th>\n",
              "      <td>2</td>\n",
              "      <td>27.0</td>\n",
              "      <td>13.0000</td>\n",
              "      <td>1</td>\n",
              "    </tr>\n",
              "    <tr>\n",
              "      <th>887</th>\n",
              "      <td>1</td>\n",
              "      <td>19.0</td>\n",
              "      <td>30.0000</td>\n",
              "      <td>0</td>\n",
              "    </tr>\n",
              "    <tr>\n",
              "      <th>888</th>\n",
              "      <td>3</td>\n",
              "      <td>NaN</td>\n",
              "      <td>23.4500</td>\n",
              "      <td>0</td>\n",
              "    </tr>\n",
              "    <tr>\n",
              "      <th>889</th>\n",
              "      <td>1</td>\n",
              "      <td>26.0</td>\n",
              "      <td>30.0000</td>\n",
              "      <td>1</td>\n",
              "    </tr>\n",
              "    <tr>\n",
              "      <th>890</th>\n",
              "      <td>3</td>\n",
              "      <td>32.0</td>\n",
              "      <td>7.7500</td>\n",
              "      <td>1</td>\n",
              "    </tr>\n",
              "  </tbody>\n",
              "</table>\n",
              "<p>891 rows × 4 columns</p>\n",
              "</div>"
            ],
            "text/plain": [
              "     Pclass   Age     Fare  Sex_n\n",
              "0         3  22.0   7.2500      1\n",
              "1         1  38.0  71.2833      0\n",
              "2         3  26.0   7.9250      0\n",
              "3         1  35.0  53.1000      0\n",
              "4         3  35.0   8.0500      1\n",
              "..      ...   ...      ...    ...\n",
              "886       2  27.0  13.0000      1\n",
              "887       1  19.0  30.0000      0\n",
              "888       3   NaN  23.4500      0\n",
              "889       1  26.0  30.0000      1\n",
              "890       3  32.0   7.7500      1\n",
              "\n",
              "[891 rows x 4 columns]"
            ]
          },
          "execution_count": 35,
          "metadata": {},
          "output_type": "execute_result"
        }
      ],
      "source": [
        "input_n=inputs.drop(['Sex'], axis='columns')\n",
        "input_n"
      ]
    },
    {
      "cell_type": "code",
      "execution_count": null,
      "id": "3eb18463",
      "metadata": {
        "id": "3eb18463"
      },
      "outputs": [],
      "source": [
        "Checking and filling null values with median0"
      ]
    },
    {
      "cell_type": "code",
      "execution_count": null,
      "id": "58522224",
      "metadata": {
        "id": "58522224",
        "outputId": "715a1397-96d4-4aeb-dedb-612d12e71420"
      },
      "outputs": [
        {
          "data": {
            "text/plain": [
              "Pclass      0\n",
              "Age       177\n",
              "Fare        0\n",
              "Sex_n       0\n",
              "dtype: int64"
            ]
          },
          "execution_count": 37,
          "metadata": {},
          "output_type": "execute_result"
        }
      ],
      "source": [
        "input_n.isnull().sum()"
      ]
    },
    {
      "cell_type": "code",
      "execution_count": null,
      "id": "13deba6e",
      "metadata": {
        "id": "13deba6e",
        "outputId": "bf132541-a410-49d5-d578-aed443483dea"
      },
      "outputs": [
        {
          "data": {
            "text/plain": [
              "28"
            ]
          },
          "execution_count": 39,
          "metadata": {},
          "output_type": "execute_result"
        }
      ],
      "source": [
        "import math\n",
        "input_n_Age=math.floor(input_n['Age'].median())\n",
        "input_n_Age\n"
      ]
    },
    {
      "cell_type": "code",
      "execution_count": null,
      "id": "b91f18d8",
      "metadata": {
        "id": "b91f18d8",
        "outputId": "b07af43d-1c97-447d-f6a5-450f91ac9792"
      },
      "outputs": [
        {
          "data": {
            "text/html": [
              "<div>\n",
              "<style scoped>\n",
              "    .dataframe tbody tr th:only-of-type {\n",
              "        vertical-align: middle;\n",
              "    }\n",
              "\n",
              "    .dataframe tbody tr th {\n",
              "        vertical-align: top;\n",
              "    }\n",
              "\n",
              "    .dataframe thead th {\n",
              "        text-align: right;\n",
              "    }\n",
              "</style>\n",
              "<table border=\"1\" class=\"dataframe\">\n",
              "  <thead>\n",
              "    <tr style=\"text-align: right;\">\n",
              "      <th></th>\n",
              "      <th>Pclass</th>\n",
              "      <th>Age</th>\n",
              "      <th>Fare</th>\n",
              "      <th>Sex_n</th>\n",
              "    </tr>\n",
              "  </thead>\n",
              "  <tbody>\n",
              "    <tr>\n",
              "      <th>0</th>\n",
              "      <td>3</td>\n",
              "      <td>22.0</td>\n",
              "      <td>7.2500</td>\n",
              "      <td>1</td>\n",
              "    </tr>\n",
              "    <tr>\n",
              "      <th>1</th>\n",
              "      <td>1</td>\n",
              "      <td>38.0</td>\n",
              "      <td>71.2833</td>\n",
              "      <td>0</td>\n",
              "    </tr>\n",
              "    <tr>\n",
              "      <th>2</th>\n",
              "      <td>3</td>\n",
              "      <td>26.0</td>\n",
              "      <td>7.9250</td>\n",
              "      <td>0</td>\n",
              "    </tr>\n",
              "    <tr>\n",
              "      <th>3</th>\n",
              "      <td>1</td>\n",
              "      <td>35.0</td>\n",
              "      <td>53.1000</td>\n",
              "      <td>0</td>\n",
              "    </tr>\n",
              "    <tr>\n",
              "      <th>4</th>\n",
              "      <td>3</td>\n",
              "      <td>35.0</td>\n",
              "      <td>8.0500</td>\n",
              "      <td>1</td>\n",
              "    </tr>\n",
              "    <tr>\n",
              "      <th>...</th>\n",
              "      <td>...</td>\n",
              "      <td>...</td>\n",
              "      <td>...</td>\n",
              "      <td>...</td>\n",
              "    </tr>\n",
              "    <tr>\n",
              "      <th>886</th>\n",
              "      <td>2</td>\n",
              "      <td>27.0</td>\n",
              "      <td>13.0000</td>\n",
              "      <td>1</td>\n",
              "    </tr>\n",
              "    <tr>\n",
              "      <th>887</th>\n",
              "      <td>1</td>\n",
              "      <td>19.0</td>\n",
              "      <td>30.0000</td>\n",
              "      <td>0</td>\n",
              "    </tr>\n",
              "    <tr>\n",
              "      <th>888</th>\n",
              "      <td>3</td>\n",
              "      <td>28.0</td>\n",
              "      <td>23.4500</td>\n",
              "      <td>0</td>\n",
              "    </tr>\n",
              "    <tr>\n",
              "      <th>889</th>\n",
              "      <td>1</td>\n",
              "      <td>26.0</td>\n",
              "      <td>30.0000</td>\n",
              "      <td>1</td>\n",
              "    </tr>\n",
              "    <tr>\n",
              "      <th>890</th>\n",
              "      <td>3</td>\n",
              "      <td>32.0</td>\n",
              "      <td>7.7500</td>\n",
              "      <td>1</td>\n",
              "    </tr>\n",
              "  </tbody>\n",
              "</table>\n",
              "<p>891 rows × 4 columns</p>\n",
              "</div>"
            ],
            "text/plain": [
              "     Pclass   Age     Fare  Sex_n\n",
              "0         3  22.0   7.2500      1\n",
              "1         1  38.0  71.2833      0\n",
              "2         3  26.0   7.9250      0\n",
              "3         1  35.0  53.1000      0\n",
              "4         3  35.0   8.0500      1\n",
              "..      ...   ...      ...    ...\n",
              "886       2  27.0  13.0000      1\n",
              "887       1  19.0  30.0000      0\n",
              "888       3  28.0  23.4500      0\n",
              "889       1  26.0  30.0000      1\n",
              "890       3  32.0   7.7500      1\n",
              "\n",
              "[891 rows x 4 columns]"
            ]
          },
          "execution_count": 42,
          "metadata": {},
          "output_type": "execute_result"
        }
      ],
      "source": [
        "input_Age=input_n.fillna(input_n_Age)\n",
        "input_Age"
      ]
    },
    {
      "cell_type": "code",
      "execution_count": null,
      "id": "c06aedb0",
      "metadata": {
        "id": "c06aedb0",
        "outputId": "c3912280-5587-4be1-80c9-ebac34f87613"
      },
      "outputs": [
        {
          "data": {
            "text/plain": [
              "Pclass    0\n",
              "Age       0\n",
              "Fare      0\n",
              "Sex_n     0\n",
              "dtype: int64"
            ]
          },
          "execution_count": 44,
          "metadata": {},
          "output_type": "execute_result"
        }
      ],
      "source": [
        "input_Age.isnull().sum()"
      ]
    },
    {
      "cell_type": "code",
      "execution_count": null,
      "id": "d7b55663",
      "metadata": {
        "id": "d7b55663",
        "outputId": "336c0abd-ac25-4051-f146-30de38aaf629"
      },
      "outputs": [
        {
          "data": {
            "text/html": [
              "<div>\n",
              "<style scoped>\n",
              "    .dataframe tbody tr th:only-of-type {\n",
              "        vertical-align: middle;\n",
              "    }\n",
              "\n",
              "    .dataframe tbody tr th {\n",
              "        vertical-align: top;\n",
              "    }\n",
              "\n",
              "    .dataframe thead th {\n",
              "        text-align: right;\n",
              "    }\n",
              "</style>\n",
              "<table border=\"1\" class=\"dataframe\">\n",
              "  <thead>\n",
              "    <tr style=\"text-align: right;\">\n",
              "      <th></th>\n",
              "      <th>Pclass</th>\n",
              "      <th>Age</th>\n",
              "      <th>Fare</th>\n",
              "      <th>Sex_n</th>\n",
              "    </tr>\n",
              "  </thead>\n",
              "  <tbody>\n",
              "    <tr>\n",
              "      <th>0</th>\n",
              "      <td>3</td>\n",
              "      <td>22.0</td>\n",
              "      <td>7.2500</td>\n",
              "      <td>1</td>\n",
              "    </tr>\n",
              "    <tr>\n",
              "      <th>1</th>\n",
              "      <td>1</td>\n",
              "      <td>38.0</td>\n",
              "      <td>71.2833</td>\n",
              "      <td>0</td>\n",
              "    </tr>\n",
              "    <tr>\n",
              "      <th>2</th>\n",
              "      <td>3</td>\n",
              "      <td>26.0</td>\n",
              "      <td>7.9250</td>\n",
              "      <td>0</td>\n",
              "    </tr>\n",
              "    <tr>\n",
              "      <th>3</th>\n",
              "      <td>1</td>\n",
              "      <td>35.0</td>\n",
              "      <td>53.1000</td>\n",
              "      <td>0</td>\n",
              "    </tr>\n",
              "    <tr>\n",
              "      <th>4</th>\n",
              "      <td>3</td>\n",
              "      <td>35.0</td>\n",
              "      <td>8.0500</td>\n",
              "      <td>1</td>\n",
              "    </tr>\n",
              "    <tr>\n",
              "      <th>...</th>\n",
              "      <td>...</td>\n",
              "      <td>...</td>\n",
              "      <td>...</td>\n",
              "      <td>...</td>\n",
              "    </tr>\n",
              "    <tr>\n",
              "      <th>886</th>\n",
              "      <td>2</td>\n",
              "      <td>27.0</td>\n",
              "      <td>13.0000</td>\n",
              "      <td>1</td>\n",
              "    </tr>\n",
              "    <tr>\n",
              "      <th>887</th>\n",
              "      <td>1</td>\n",
              "      <td>19.0</td>\n",
              "      <td>30.0000</td>\n",
              "      <td>0</td>\n",
              "    </tr>\n",
              "    <tr>\n",
              "      <th>888</th>\n",
              "      <td>3</td>\n",
              "      <td>28.0</td>\n",
              "      <td>23.4500</td>\n",
              "      <td>0</td>\n",
              "    </tr>\n",
              "    <tr>\n",
              "      <th>889</th>\n",
              "      <td>1</td>\n",
              "      <td>26.0</td>\n",
              "      <td>30.0000</td>\n",
              "      <td>1</td>\n",
              "    </tr>\n",
              "    <tr>\n",
              "      <th>890</th>\n",
              "      <td>3</td>\n",
              "      <td>32.0</td>\n",
              "      <td>7.7500</td>\n",
              "      <td>1</td>\n",
              "    </tr>\n",
              "  </tbody>\n",
              "</table>\n",
              "<p>891 rows × 4 columns</p>\n",
              "</div>"
            ],
            "text/plain": [
              "     Pclass   Age     Fare  Sex_n\n",
              "0         3  22.0   7.2500      1\n",
              "1         1  38.0  71.2833      0\n",
              "2         3  26.0   7.9250      0\n",
              "3         1  35.0  53.1000      0\n",
              "4         3  35.0   8.0500      1\n",
              "..      ...   ...      ...    ...\n",
              "886       2  27.0  13.0000      1\n",
              "887       1  19.0  30.0000      0\n",
              "888       3  28.0  23.4500      0\n",
              "889       1  26.0  30.0000      1\n",
              "890       3  32.0   7.7500      1\n",
              "\n",
              "[891 rows x 4 columns]"
            ]
          },
          "execution_count": 45,
          "metadata": {},
          "output_type": "execute_result"
        }
      ],
      "source": [
        "input_Age"
      ]
    },
    {
      "cell_type": "code",
      "execution_count": null,
      "id": "39879eb0",
      "metadata": {
        "id": "39879eb0",
        "outputId": "b35e1b65-34f5-4846-e918-526846221f9b"
      },
      "outputs": [
        {
          "data": {
            "text/plain": [
              "0      0\n",
              "1      1\n",
              "2      1\n",
              "3      1\n",
              "4      0\n",
              "      ..\n",
              "886    0\n",
              "887    1\n",
              "888    0\n",
              "889    1\n",
              "890    0\n",
              "Name: Survived, Length: 891, dtype: int64"
            ]
          },
          "execution_count": 46,
          "metadata": {},
          "output_type": "execute_result"
        }
      ],
      "source": [
        "target"
      ]
    },
    {
      "cell_type": "code",
      "execution_count": null,
      "id": "f41f33e1",
      "metadata": {
        "id": "f41f33e1"
      },
      "outputs": [],
      "source": [
        "from sklearn import tree\n",
        "model=tree.DecisionTreeClassifier()\n"
      ]
    },
    {
      "cell_type": "code",
      "execution_count": null,
      "id": "ad4b174e",
      "metadata": {
        "id": "ad4b174e",
        "outputId": "fbe6b044-cf28-4f3d-9f91-fff4ae27ee58"
      },
      "outputs": [
        {
          "data": {
            "text/plain": [
              "DecisionTreeClassifier()"
            ]
          },
          "execution_count": 48,
          "metadata": {},
          "output_type": "execute_result"
        }
      ],
      "source": [
        "model.fit(input_Age,target)"
      ]
    },
    {
      "cell_type": "code",
      "execution_count": null,
      "id": "99a5e224",
      "metadata": {
        "id": "99a5e224"
      },
      "outputs": [],
      "source": [
        "Predict weather a male pasenger with class 3, age 22 years who bought a ticket of $7.2500 will survive or not"
      ]
    },
    {
      "cell_type": "code",
      "execution_count": null,
      "id": "39f0569c",
      "metadata": {
        "id": "39f0569c",
        "outputId": "9ab4826d-afd5-4668-d2cf-94ccaf186d59"
      },
      "outputs": [
        {
          "name": "stderr",
          "output_type": "stream",
          "text": [
            "C:\\Users\\juliy\\anaconda3\\lib\\site-packages\\sklearn\\base.py:450: UserWarning: X does not have valid feature names, but DecisionTreeClassifier was fitted with feature names\n",
            "  warnings.warn(\n"
          ]
        },
        {
          "data": {
            "text/plain": [
              "array([0], dtype=int64)"
            ]
          },
          "execution_count": 58,
          "metadata": {},
          "output_type": "execute_result"
        }
      ],
      "source": [
        "model.predict([[3,22.0,7.2500,1]])"
      ]
    },
    {
      "cell_type": "markdown",
      "id": "2734f4b2",
      "metadata": {
        "id": "2734f4b2"
      },
      "source": [
        "This prediction shows the male persenger will not survive"
      ]
    },
    {
      "cell_type": "code",
      "execution_count": null,
      "id": "534ed3a5",
      "metadata": {
        "id": "534ed3a5",
        "outputId": "4499cccb-ae03-47ef-cc44-e77b4d89497f"
      },
      "outputs": [
        {
          "data": {
            "text/plain": [
              "0.9775533108866442"
            ]
          },
          "execution_count": 61,
          "metadata": {},
          "output_type": "execute_result"
        }
      ],
      "source": [
        "model.score(input_Age,target)"
      ]
    },
    {
      "cell_type": "code",
      "execution_count": null,
      "id": "d0a7ce83",
      "metadata": {
        "id": "d0a7ce83"
      },
      "outputs": [],
      "source": [
        "The model predicted an model score of 97% which shows the accuracy of the model."
      ]
    },
    {
      "cell_type": "code",
      "execution_count": null,
      "id": "7cf39b61",
      "metadata": {
        "id": "7cf39b61"
      },
      "outputs": [],
      "source": []
    }
  ],
  "metadata": {
    "kernelspec": {
      "display_name": "Python 3 (ipykernel)",
      "language": "python",
      "name": "python3"
    },
    "language_info": {
      "codemirror_mode": {
        "name": "ipython",
        "version": 3
      },
      "file_extension": ".py",
      "mimetype": "text/x-python",
      "name": "python",
      "nbconvert_exporter": "python",
      "pygments_lexer": "ipython3",
      "version": "3.9.12"
    },
    "colab": {
      "provenance": []
    }
  },
  "nbformat": 4,
  "nbformat_minor": 5
}